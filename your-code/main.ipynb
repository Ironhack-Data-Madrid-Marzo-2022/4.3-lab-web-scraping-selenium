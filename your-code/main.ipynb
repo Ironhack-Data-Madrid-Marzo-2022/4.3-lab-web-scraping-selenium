{
 "cells": [
  {
   "cell_type": "markdown",
   "metadata": {},
   "source": [
    "# Web Scraping Lab\n",
    "\n",
    "You will find in this notebook some scrapy exercises to practise your scraping skills.\n",
    "\n",
    "**Tips:**\n",
    "\n",
    "- Check the response status code for each request to ensure you have obtained the intended contennt.\n",
    "- Print the response text in each request to understand the kind of info you are getting and its format.\n",
    "- Check for patterns in the response text to extract the data/info requested in each question.\n",
    "- Visit each url and take a look at its source through Chrome DevTools. You'll need to identify the html tags, special class names etc. used for the html content you are expected to extract."
   ]
  },
  {
   "cell_type": "markdown",
   "metadata": {},
   "source": [
    "- [Selenium Doc](https://www.selenium.dev/documentation/)\n",
    "- [Requests library](http://docs.python-requests.org/en/master/#the-user-guide) documentation \n",
    "- [Urllib](https://docs.python.org/3/library/urllib.html#module-urllib)\n",
    "- [re lib](https://docs.python.org/3/library/re.html)\n",
    "- [lxml lib](https://lxml.de/)\n",
    "- [Scrapy](https://scrapy.org/)\n",
    "- [List of HTTP status codes](https://en.wikipedia.org/wiki/List_of_HTTP_status_codes)\n",
    "- [HTML basics](http://www.simplehtmlguide.com/cheatsheet.php)\n",
    "- [CSS basics](https://www.cssbasics.com/#page_start)"
   ]
  },
  {
   "cell_type": "markdown",
   "metadata": {},
   "source": [
    "#### Below are the libraries and modules you may need. `Selenium` and `pandas` are imported for you."
   ]
  },
  {
   "cell_type": "code",
   "execution_count": 1,
   "metadata": {},
   "outputs": [
    {
     "name": "stderr",
     "output_type": "stream",
     "text": [
      "\n",
      "\n",
      "====== WebDriver manager ======\n",
      "Current google-chrome version is 100.0.4896\n",
      "Get LATEST chromedriver version for 100.0.4896 google-chrome\n",
      "Trying to download new driver from https://chromedriver.storage.googleapis.com/100.0.4896.60/chromedriver_mac64.zip\n",
      "Driver has been saved in cache [/Users/mac/.wdm/drivers/chromedriver/mac64/100.0.4896.60]\n"
     ]
    }
   ],
   "source": [
    "import pandas as pd\n",
    "import warnings\n",
    "import time\n",
    "from selenium import webdriver\n",
    "from selenium.webdriver.chrome.options import Options\n",
    "from webdriver_manager.chrome import ChromeDriverManager\n",
    "\n",
    "\n",
    "# Driver\n",
    "PATH=ChromeDriverManager().install()\n",
    "driver=webdriver.Chrome(PATH)\n",
    "\n",
    "# Configurations\n",
    "warnings.simplefilter('ignore')\n",
    "pd.set_option('display.max_columns', None)\n",
    "pd.set_option('display.max_rows', None)\n",
    "\n",
    "opciones=Options()\n",
    "\n",
    "opciones.add_experimental_option('excludeSwitches', ['enable-automation'])\n",
    "opciones.add_experimental_option('useAutomationExtension', False)\n",
    "opciones.headless=False\n",
    "opciones.add_argument('--start-maximized')\n",
    "opciones.add_argument('--incognito')\n"
   ]
  },
  {
   "cell_type": "markdown",
   "metadata": {},
   "source": [
    "#### Enable the options you may need. In the next cell you have an example of them but you can choose to use them or not."
   ]
  },
  {
   "cell_type": "markdown",
   "metadata": {},
   "source": [
    "#### Download, parse, and print the content from the Trending Developers page from GitHub:"
   ]
  },
  {
   "cell_type": "code",
   "execution_count": 2,
   "metadata": {},
   "outputs": [],
   "source": [
    "# This is the url you will scrape in this exercise\n",
    "url = 'https://github.com/trending/developers'\n",
    "driver.get(url)"
   ]
  },
  {
   "cell_type": "markdown",
   "metadata": {},
   "source": [
    "#### Display the names of the trending developers retrieved in the previous step.\n",
    "\n",
    "Your output should be a Python list of developer names. Each name should not contain any html tag.\n",
    "\n",
    "**Instructions:**\n",
    "\n",
    "1. Find out the html tag and class names used for the developer names.\n",
    "\n",
    "1. Use string manipulation techniques to replace whitespaces and linebreaks (i.e. `\\n`) in the *text* of each html element. Use a list to store the clean names.\n",
    "\n",
    "1. Print the list of names.\n",
    "\n",
    "Your output should look like below:\n",
    "\n",
    "```\n",
    "['trimstray (@trimstray)',\n",
    " 'joewalnes (JoeWalnes)',\n",
    " 'charlax (Charles-AxelDein)',\n",
    " 'ForrestKnight (ForrestKnight)',\n",
    " 'revery-ui (revery-ui)',\n",
    " 'alibaba (Alibaba)',\n",
    " 'Microsoft (Microsoft)',\n",
    " 'github (GitHub)',\n",
    " 'facebook (Facebook)',\n",
    " 'boazsegev (Bo)',\n",
    " 'google (Google)',\n",
    " 'cloudfetch',\n",
    " 'sindresorhus (SindreSorhus)',\n",
    " 'tensorflow',\n",
    " 'apache (TheApacheSoftwareFoundation)',\n",
    " 'DevonCrawford (DevonCrawford)',\n",
    " 'ARMmbed (ArmMbed)',\n",
    " 'vuejs (vuejs)',\n",
    " 'fastai (fast.ai)',\n",
    " 'QiShaoXuan (Qi)',\n",
    " 'joelparkerhenderson (JoelParkerHenderson)',\n",
    " 'torvalds (LinusTorvalds)',\n",
    " 'CyC2018',\n",
    " 'komeiji-satori (神楽坂覚々)',\n",
    " 'script-8']\n",
    " ```"
   ]
  },
  {
   "cell_type": "code",
   "execution_count": 3,
   "metadata": {},
   "outputs": [
    {
     "name": "stdout",
     "output_type": "stream",
     "text": [
      "['Álvaro', 'Ariel Mashraki', 'Marten Seemann', 'Boris Dayma', 'Amruth Pillai', 'Stefan Prodan', 'François Chollet', \"Bruno D'Luka\", 'Pengfei Ni', 'Aleksandr Bezobchuk', 'Java-WebSocket', 'Georgios Konstantopoulos', 'Mike McNeil', 'medusa-marketplace-tutorial', 'Kamil Śliwak', 'yup', 'pytorch-lightning-snippets', 'open-source-web-scanners', 'debugging', 'cactbot', 'Peter Evans', 'İlker G. Öztürk']\n"
     ]
    }
   ],
   "source": [
    "#your code\n",
    "tabla=driver.find_element_by_xpath('//*[@id=\"js-pjax-container\"]/div[3]/div/div[2]')\n",
    "\n",
    "nombres = tabla.find_elements_by_tag_name('h1')\n",
    "\n",
    "lst = []\n",
    "\n",
    "for el in nombres:\n",
    "    lst.append(el.text)\n",
    "\n",
    "filtered = []\n",
    "\n",
    "for i in range(0, len(lst), 2):\n",
    "    filtered.append(lst[i])\n",
    "\n",
    "print(filtered)"
   ]
  },
  {
   "cell_type": "markdown",
   "metadata": {},
   "source": [
    "#### Display the trending Python repositories in GitHub\n",
    "\n",
    "The steps to solve this problem is similar to the previous one except that you need to find out the repository names instead of developer names."
   ]
  },
  {
   "cell_type": "code",
   "execution_count": 4,
   "metadata": {},
   "outputs": [],
   "source": [
    "# This is the url you will scrape in this exercise\n",
    "url = 'https://github.com/trending/python?since=daily'\n",
    "driver.get(url)"
   ]
  },
  {
   "cell_type": "code",
   "execution_count": 5,
   "metadata": {},
   "outputs": [
    {
     "name": "stdout",
     "output_type": "stream",
     "text": [
      "['fighting41love/funNLP', 'Sjj1024/QiangCai', 'vinta/awesome-python', 'lucidrains/DALLE2-pytorch', 'mlcommons/inference', 'Azure/azure-sdk-for-python', 'locustio/locust', 'cider-security-research/cicd-goat', 'facebookresearch/mae', 'donnemartin/system-design-primer', 'huggingface/transformers', 'jhao104/proxy_pool', 'facebookresearch/pytorch3d', 'Rapptz/discord.py', 'torrinworx/Blend_My_NFTs', 'public-apis/public-apis', 'rly0nheart/octosuite', 'Asabeneh/30-Days-Of-Python', 'azhan1998/sam_buy', 'awslabs/gluon-ts', 'borisdayma/dalle-mini', 'explosion/spaCy', 'awslabs/aws-data-wrangler', 'automl/auto-sklearn', 'httpie/httpie']\n"
     ]
    }
   ],
   "source": [
    "#your code\n",
    "tabla=driver.find_element_by_xpath('//*[@id=\"js-pjax-container\"]/div[3]/div/div[2]')\n",
    "\n",
    "users = tabla.find_elements_by_tag_name('h1')\n",
    "\n",
    "lst = []\n",
    "\n",
    "for el in users:\n",
    "    lst.append(el.text.replace(' ', ''))\n",
    "\n",
    "print(lst)"
   ]
  },
  {
   "cell_type": "markdown",
   "metadata": {},
   "source": [
    "#### Display all the image links from Walt Disney wikipedia page"
   ]
  },
  {
   "cell_type": "code",
   "execution_count": 6,
   "metadata": {},
   "outputs": [],
   "source": [
    "# This is the url you will scrape in this exercise\n",
    "url = 'https://en.wikipedia.org/wiki/Walt_Disney'\n",
    "driver.get(url)"
   ]
  },
  {
   "cell_type": "code",
   "execution_count": 7,
   "metadata": {},
   "outputs": [
    {
     "name": "stdout",
     "output_type": "stream",
     "text": [
      "['https://upload.wikimedia.org/wikipedia/en/thumb/e/e7/Cscr-featured.svg/20px-Cscr-featured.svg.png', 'https://upload.wikimedia.org/wikipedia/en/thumb/8/8c/Extended-protection-shackle.svg/20px-Extended-protection-shackle.svg.png', 'https://upload.wikimedia.org/wikipedia/commons/thumb/d/df/Walt_Disney_1946.JPG/220px-Walt_Disney_1946.JPG', 'https://upload.wikimedia.org/wikipedia/commons/thumb/8/87/Walt_Disney_1942_signature.svg/150px-Walt_Disney_1942_signature.svg.png', 'https://upload.wikimedia.org/wikipedia/commons/thumb/c/c4/Walt_Disney_envelope_ca._1921.jpg/220px-Walt_Disney_envelope_ca._1921.jpg', 'https://upload.wikimedia.org/wikipedia/commons/thumb/4/4d/Newman_Laugh-O-Gram_%281921%29.webm/220px-seek%3D2-Newman_Laugh-O-Gram_%281921%29.webm.jpg', 'https://upload.wikimedia.org/wikipedia/commons/thumb/0/0d/Trolley_Troubles_poster.jpg/170px-Trolley_Troubles_poster.jpg', 'https://upload.wikimedia.org/wikipedia/en/thumb/4/4e/Steamboat-willie.jpg/170px-Steamboat-willie.jpg', 'https://upload.wikimedia.org/wikipedia/commons/thumb/5/57/Walt_Disney_1935.jpg/170px-Walt_Disney_1935.jpg', 'https://upload.wikimedia.org/wikipedia/commons/thumb/c/cd/Walt_Disney_Snow_white_1937_trailer_screenshot_%2813%29.jpg/220px-Walt_Disney_Snow_white_1937_trailer_screenshot_%2813%29.jpg', 'https://upload.wikimedia.org/wikipedia/commons/thumb/1/15/Disney_drawing_goofy.jpg/170px-Disney_drawing_goofy.jpg', 'https://upload.wikimedia.org/wikipedia/commons/thumb/1/13/DisneySchiphol1951.jpg/220px-DisneySchiphol1951.jpg', 'https://upload.wikimedia.org/wikipedia/commons/thumb/8/8c/WaltDisneyplansDisneylandDec1954.jpg/220px-WaltDisneyplansDisneylandDec1954.jpg', 'https://upload.wikimedia.org/wikipedia/commons/thumb/f/ff/Walt_disney_portrait_right.jpg/170px-Walt_disney_portrait_right.jpg', 'https://upload.wikimedia.org/wikipedia/commons/thumb/1/1a/Walt_Disney_Grave.JPG/170px-Walt_Disney_Grave.JPG', 'https://upload.wikimedia.org/wikipedia/commons/thumb/2/2d/Roy_O._Disney_with_Company_at_Press_Conference.jpg/170px-Roy_O._Disney_with_Company_at_Press_Conference.jpg', 'https://upload.wikimedia.org/wikipedia/commons/thumb/b/b0/Disney_Oscar_1953_%28cropped%29.jpg/170px-Disney_Oscar_1953_%28cropped%29.jpg', 'https://upload.wikimedia.org/wikipedia/commons/thumb/6/6c/Disney1968.jpg/170px-Disney1968.jpg', 'https://upload.wikimedia.org/wikipedia/en/thumb/8/8a/OOjs_UI_icon_edit-ltr-progressive.svg/10px-OOjs_UI_icon_edit-ltr-progressive.svg.png', 'https://upload.wikimedia.org/wikipedia/commons/thumb/e/e3/Disneyland_Resort_logo.svg/135px-Disneyland_Resort_logo.svg.png', 'https://upload.wikimedia.org/wikipedia/commons/thumb/d/da/Animation_disc.svg/20px-Animation_disc.svg.png', 'https://upload.wikimedia.org/wikipedia/en/thumb/6/69/P_vip.svg/19px-P_vip.svg.png', 'https://upload.wikimedia.org/wikipedia/commons/thumb/1/1a/Magic_Kingdom_castle.jpg/15px-Magic_Kingdom_castle.jpg', 'https://upload.wikimedia.org/wikipedia/en/thumb/e/e7/Video-x-generic.svg/19px-Video-x-generic.svg.png', 'https://upload.wikimedia.org/wikipedia/commons/thumb/a/a3/Flag_of_Los_Angeles_County%2C_California.svg/21px-Flag_of_Los_Angeles_County%2C_California.svg.png', 'https://upload.wikimedia.org/wikipedia/commons/thumb/8/8c/Blank_television_set.svg/21px-Blank_television_set.svg.png', 'https://upload.wikimedia.org/wikipedia/en/thumb/a/a4/Flag_of_the_United_States.svg/21px-Flag_of_the_United_States.svg.png', 'https://upload.wikimedia.org/wikipedia/en/thumb/4/4a/Commons-logo.svg/14px-Commons-logo.svg.png', 'https://upload.wikimedia.org/wikipedia/commons/thumb/f/fa/Wikiquote-logo.svg/16px-Wikiquote-logo.svg.png', 'https://upload.wikimedia.org/wikipedia/commons/thumb/f/ff/Wikidata-logo.svg/21px-Wikidata-logo.svg.png', 'https://upload.wikimedia.org/wikipedia/en/thumb/8/8a/OOjs_UI_icon_edit-ltr-progressive.svg/10px-OOjs_UI_icon_edit-ltr-progressive.svg.png', 'https://en.wikipedia.org/static/images/footer/wikimedia-button.png', 'https://en.wikipedia.org/static/images/footer/poweredby_mediawiki_88x31.png']\n"
     ]
    }
   ],
   "source": [
    "#your code\n",
    "images = driver.find_elements_by_tag_name('img')\n",
    "\n",
    "lst = []\n",
    "\n",
    "for image in images:\n",
    "    lst.append(image.get_attribute('src'))\n",
    "\n",
    "print(lst)"
   ]
  },
  {
   "cell_type": "markdown",
   "metadata": {},
   "source": [
    "#### Retrieve an arbitary Wikipedia page of \"Python\" and create a list of links on that page"
   ]
  },
  {
   "cell_type": "code",
   "execution_count": 8,
   "metadata": {},
   "outputs": [],
   "source": [
    "# This is the url you will scrape in this exercise\n",
    "url ='https://en.wikipedia.org/wiki/Python'\n",
    "driver.get(url)"
   ]
  },
  {
   "cell_type": "code",
   "execution_count": 9,
   "metadata": {},
   "outputs": [
    {
     "name": "stdout",
     "output_type": "stream",
     "text": [
      "['https://en.wikipedia.org/wiki/Python#mw-head', 'https://en.wikipedia.org/wiki/Python#searchInput', 'https://en.wiktionary.org/wiki/Python', 'https://en.wiktionary.org/wiki/python', 'https://en.wikipedia.org/wiki/Pythonidae', 'https://en.wikipedia.org/wiki/Python_(genus)', 'https://en.wikipedia.org/wiki/Python#Computing', 'https://en.wikipedia.org/wiki/Python#People', 'https://en.wikipedia.org/wiki/Python#Roller_coasters', 'https://en.wikipedia.org/wiki/Python#Vehicles', 'https://en.wikipedia.org/wiki/Python#Weaponry', 'https://en.wikipedia.org/wiki/Python#Other_uses', 'https://en.wikipedia.org/wiki/Python#See_also', 'https://en.wikipedia.org/w/index.php?title=Python&action=edit&section=1&editintro=Template:Disambig_editintro', 'https://en.wikipedia.org/wiki/Python_(programming_language)', 'https://en.wikipedia.org/wiki/CMU_Common_Lisp', 'https://en.wikipedia.org/wiki/PERQ#PERQ_3', 'https://en.wikipedia.org/w/index.php?title=Python&action=edit&section=2&editintro=Template:Disambig_editintro', 'https://en.wikipedia.org/wiki/Python_of_Aenus', 'https://en.wikipedia.org/wiki/Python_(painter)', 'https://en.wikipedia.org/wiki/Python_of_Byzantium', 'https://en.wikipedia.org/wiki/Python_of_Catana', 'https://en.wikipedia.org/wiki/Python_Anghelo', 'https://en.wikipedia.org/w/index.php?title=Python&action=edit&section=3&editintro=Template:Disambig_editintro', 'https://en.wikipedia.org/wiki/Python_(Efteling)', 'https://en.wikipedia.org/wiki/Python_(Busch_Gardens_Tampa_Bay)', 'https://en.wikipedia.org/wiki/Python_(Coney_Island,_Cincinnati,_Ohio)', 'https://en.wikipedia.org/w/index.php?title=Python&action=edit&section=4&editintro=Template:Disambig_editintro', 'https://en.wikipedia.org/wiki/Python_(automobile_maker)', 'https://en.wikipedia.org/wiki/Python_(Ford_prototype)', 'https://en.wikipedia.org/w/index.php?title=Python&action=edit&section=5&editintro=Template:Disambig_editintro', 'https://en.wikipedia.org/wiki/Python_(missile)', 'https://en.wikipedia.org/wiki/Python_(nuclear_primary)', 'https://en.wikipedia.org/wiki/Colt_Python', 'https://en.wikipedia.org/w/index.php?title=Python&action=edit&section=6&editintro=Template:Disambig_editintro', 'https://en.wikipedia.org/wiki/PYTHON', 'https://en.wikipedia.org/wiki/Python_(film)', 'https://en.wikipedia.org/wiki/Python_(mythology)', 'https://en.wikipedia.org/wiki/Monty_Python', 'https://en.wikipedia.org/wiki/Python_(Monty)_Pictures', 'https://en.wikipedia.org/wiki/Timon_of_Phlius', 'https://en.wikipedia.org/w/index.php?title=Python&action=edit&section=7&editintro=Template:Disambig_editintro', 'https://en.wikipedia.org/wiki/Cython', 'https://en.wikipedia.org/wiki/Pyton', 'https://en.wikipedia.org/wiki/Pithon', 'https://en.wikipedia.org/wiki/File:Disambig_gray.svg', 'https://en.wikipedia.org/wiki/Help:Disambiguation', 'https://en.wikipedia.org/w/index.php?title=Special:WhatLinksHere/Python&namespace=0', 'https://en.wikipedia.org/w/index.php?title=Python&oldid=1077300299', 'https://en.wikipedia.org/wiki/Help:Category', 'https://en.wikipedia.org/wiki/Category:Disambiguation_pages', 'https://en.wikipedia.org/wiki/Category:Human_name_disambiguation_pages', 'https://en.wikipedia.org/wiki/Category:Disambiguation_pages_with_given-name-holder_lists', 'https://en.wikipedia.org/wiki/Category:Disambiguation_pages_with_short_descriptions', 'https://en.wikipedia.org/wiki/Category:Short_description_is_different_from_Wikidata', 'https://en.wikipedia.org/wiki/Category:All_article_disambiguation_pages', 'https://en.wikipedia.org/wiki/Category:All_disambiguation_pages', 'https://en.wikipedia.org/wiki/Category:Animal_common_name_disambiguation_pages', 'https://en.wikipedia.org/wiki/Special:MyTalk', 'https://en.wikipedia.org/wiki/Special:MyContributions', 'https://en.wikipedia.org/w/index.php?title=Special:CreateAccount&returnto=Python', 'https://en.wikipedia.org/w/index.php?title=Special:UserLogin&returnto=Python', 'https://en.wikipedia.org/wiki/Python', 'https://en.wikipedia.org/wiki/Talk:Python', 'https://en.wikipedia.org/wiki/Python', 'https://en.wikipedia.org/w/index.php?title=Python&action=edit&editintro=Template:Disambig_editintro', 'https://en.wikipedia.org/w/index.php?title=Python&action=history', 'https://en.wikipedia.org/wiki/Main_Page', 'https://en.wikipedia.org/wiki/Main_Page', 'https://en.wikipedia.org/wiki/Wikipedia:Contents', 'https://en.wikipedia.org/wiki/Portal:Current_events', 'https://en.wikipedia.org/wiki/Special:Random', 'https://en.wikipedia.org/wiki/Wikipedia:About', 'https://en.wikipedia.org/wiki/Wikipedia:Contact_us', 'https://donate.wikimedia.org/wiki/Special:FundraiserRedirector?utm_source=donate&utm_medium=sidebar&utm_campaign=C13_en.wikipedia.org&uselang=en', 'https://en.wikipedia.org/wiki/Help:Contents', 'https://en.wikipedia.org/wiki/Help:Introduction', 'https://en.wikipedia.org/wiki/Wikipedia:Community_portal', 'https://en.wikipedia.org/wiki/Special:RecentChanges', 'https://en.wikipedia.org/wiki/Wikipedia:File_Upload_Wizard', 'https://en.wikipedia.org/wiki/Special:WhatLinksHere/Python', 'https://en.wikipedia.org/wiki/Special:RecentChangesLinked/Python', 'https://en.wikipedia.org/wiki/Wikipedia:File_Upload_Wizard', 'https://en.wikipedia.org/wiki/Special:SpecialPages', 'https://en.wikipedia.org/w/index.php?title=Python&oldid=1077300299', 'https://en.wikipedia.org/w/index.php?title=Python&action=info', 'https://en.wikipedia.org/w/index.php?title=Special:CiteThisPage&page=Python&id=1077300299&wpFormIdentifier=titleform', 'https://www.wikidata.org/wiki/Special:EntityPage/Q747452', 'https://en.wikipedia.org/w/index.php?title=Special:DownloadAsPdf&page=Python&action=show-download-screen', 'https://en.wikipedia.org/w/index.php?title=Python&printable=yes', 'https://commons.wikimedia.org/wiki/Category:Python', 'https://af.wikipedia.org/wiki/Python', 'https://als.wikipedia.org/wiki/Python', 'https://ar.wikipedia.org/wiki/%D8%A8%D8%A7%D9%8A%D8%AB%D9%88%D9%86_(%D8%AA%D9%88%D8%B6%D9%8A%D8%AD)', 'https://az.wikipedia.org/wiki/Python', 'https://bn.wikipedia.org/wiki/%E0%A6%AA%E0%A6%BE%E0%A6%87%E0%A6%A5%E0%A6%A8_(%E0%A6%A6%E0%A7%8D%E0%A6%AC%E0%A7%8D%E0%A6%AF%E0%A6%B0%E0%A7%8D%E0%A6%A5%E0%A6%A4%E0%A6%BE_%E0%A6%A8%E0%A6%BF%E0%A6%B0%E0%A6%B8%E0%A6%A8)', 'https://be.wikipedia.org/wiki/Python', 'https://bg.wikipedia.org/wiki/%D0%9F%D0%B8%D1%82%D0%BE%D0%BD_(%D0%BF%D0%BE%D1%8F%D1%81%D0%BD%D0%B5%D0%BD%D0%B8%D0%B5)', 'https://cs.wikipedia.org/wiki/Python_(rozcestn%C3%ADk)', 'https://da.wikipedia.org/wiki/Python', 'https://de.wikipedia.org/wiki/Python', 'https://eo.wikipedia.org/wiki/Pitono_(apartigilo)', 'https://eu.wikipedia.org/wiki/Python_(argipena)', 'https://fa.wikipedia.org/wiki/%D9%BE%D8%A7%DB%8C%D8%AA%D9%88%D9%86', 'https://fr.wikipedia.org/wiki/Python', 'https://ko.wikipedia.org/wiki/%ED%8C%8C%EC%9D%B4%EC%84%A0', 'https://hr.wikipedia.org/wiki/Python_(razdvojba)', 'https://io.wikipedia.org/wiki/Pitono', 'https://id.wikipedia.org/wiki/Python', 'https://ia.wikipedia.org/wiki/Python_(disambiguation)', 'https://is.wikipedia.org/wiki/Python_(a%C3%B0greining)', 'https://it.wikipedia.org/wiki/Python_(disambigua)', 'https://he.wikipedia.org/wiki/%D7%A4%D7%99%D7%AA%D7%95%D7%9F', 'https://ka.wikipedia.org/wiki/%E1%83%9E%E1%83%98%E1%83%97%E1%83%9D%E1%83%9C%E1%83%98_(%E1%83%9B%E1%83%A0%E1%83%90%E1%83%95%E1%83%90%E1%83%9A%E1%83%9B%E1%83%9C%E1%83%98%E1%83%A8%E1%83%95%E1%83%9C%E1%83%94%E1%83%9A%E1%83%9D%E1%83%95%E1%83%90%E1%83%9C%E1%83%98)', 'https://kg.wikipedia.org/wiki/Mboma_(nyoka)', 'https://la.wikipedia.org/wiki/Python_(discretiva)', 'https://lb.wikipedia.org/wiki/Python', 'https://hu.wikipedia.org/wiki/Python_(egy%C3%A9rtelm%C5%B1s%C3%ADt%C5%91_lap)', 'https://mr.wikipedia.org/wiki/%E0%A4%AA%E0%A4%BE%E0%A4%AF%E0%A4%A5%E0%A5%89%E0%A4%A8_(%E0%A4%86%E0%A4%9C%E0%A5%8D%E0%A4%9E%E0%A4%BE%E0%A4%B5%E0%A4%B2%E0%A5%80_%E0%A4%AD%E0%A4%BE%E0%A4%B7%E0%A4%BE)', 'https://nl.wikipedia.org/wiki/Python', 'https://ja.wikipedia.org/wiki/%E3%83%91%E3%82%A4%E3%82%BD%E3%83%B3', 'https://no.wikipedia.org/wiki/Pyton', 'https://pl.wikipedia.org/wiki/Pyton', 'https://pt.wikipedia.org/wiki/Python_(desambigua%C3%A7%C3%A3o)', 'https://ru.wikipedia.org/wiki/Python_(%D0%B7%D0%BD%D0%B0%D1%87%D0%B5%D0%BD%D0%B8%D1%8F)', 'https://sk.wikipedia.org/wiki/Python', 'https://sr.wikipedia.org/wiki/%D0%9F%D0%B8%D1%82%D0%BE%D0%BD_(%D0%B2%D0%B8%D1%88%D0%B5%D0%B7%D0%BD%D0%B0%D1%87%D0%BD%D0%B0_%D0%BE%D0%B4%D1%80%D0%B5%D0%B4%D0%BD%D0%B8%D1%86%D0%B0)', 'https://sh.wikipedia.org/wiki/Python', 'https://fi.wikipedia.org/wiki/Python', 'https://sv.wikipedia.org/wiki/Pyton', 'https://th.wikipedia.org/wiki/%E0%B9%84%E0%B8%9E%E0%B8%97%E0%B8%AD%E0%B8%99', 'https://tr.wikipedia.org/wiki/Python_(anlam_ayr%C4%B1m%C4%B1)', 'https://uk.wikipedia.org/wiki/%D0%9F%D1%96%D1%84%D0%BE%D0%BD', 'https://ur.wikipedia.org/wiki/%D9%BE%D8%A7%D8%A6%DB%8C%D8%AA%DA%BE%D9%88%D9%86', 'https://vi.wikipedia.org/wiki/Python', 'https://zh.wikipedia.org/wiki/Python_(%E6%B6%88%E6%AD%A7%E4%B9%89)', 'https://www.wikidata.org/wiki/Special:EntityPage/Q747452#sitelinks-wikipedia', 'https://en.wikipedia.org/wiki/Wikipedia:Text_of_Creative_Commons_Attribution-ShareAlike_3.0_Unported_License', 'https://creativecommons.org/licenses/by-sa/3.0/', 'https://foundation.wikimedia.org/wiki/Terms_of_Use', 'https://foundation.wikimedia.org/wiki/Privacy_policy', 'https://www.wikimediafoundation.org/', 'https://foundation.wikimedia.org/wiki/Privacy_policy', 'https://en.wikipedia.org/wiki/Wikipedia:About', 'https://en.wikipedia.org/wiki/Wikipedia:General_disclaimer', 'https://en.wikipedia.org/wiki/Wikipedia:Contact_us', 'https://en.m.wikipedia.org/w/index.php?title=Python&mobileaction=toggle_view_mobile', 'https://www.mediawiki.org/wiki/Special:MyLanguage/How_to_contribute', 'https://stats.wikimedia.org/#/en.wikipedia.org', 'https://foundation.wikimedia.org/wiki/Cookie_statement', 'https://wikimediafoundation.org/', 'https://www.mediawiki.org/']\n"
     ]
    }
   ],
   "source": [
    "#your code\n",
    "urls = driver.find_elements_by_tag_name('a')\n",
    "\n",
    "def check_url(x):\n",
    "    if x:\n",
    "        return \"http\" in x\n",
    "    else:\n",
    "        return False\n",
    "\n",
    "lst=[]\n",
    "\n",
    "for u in urls:\n",
    "    lst.append(u.get_attribute('href'))\n",
    "\n",
    "filtered = filter(check_url, lst)\n",
    "\n",
    "print(list(filtered))"
   ]
  },
  {
   "cell_type": "markdown",
   "metadata": {},
   "source": [
    "#### Number of Titles that have changed in the United States Code since its last release point "
   ]
  },
  {
   "cell_type": "code",
   "execution_count": 10,
   "metadata": {},
   "outputs": [],
   "source": [
    "# This is the url you will scrape in this exercise\n",
    "url = 'http://uscode.house.gov/download/download.shtml'\n",
    "driver.get(url)"
   ]
  },
  {
   "cell_type": "code",
   "execution_count": 11,
   "metadata": {},
   "outputs": [
    {
     "name": "stdout",
     "output_type": "stream",
     "text": [
      "['Banks and Banking', 'Customs Duties', 'Foreign Relations and Intercourse']\n"
     ]
    }
   ],
   "source": [
    "#your code\n",
    "import re\n",
    "\n",
    "titles = driver.find_elements_by_class_name(\"usctitlechanged\")\n",
    "\n",
    "lst = []\n",
    "\n",
    "for title in titles:\n",
    "    lst.append(re.sub('Title [0-9]* - ', '', title.text))\n",
    "\n",
    "\n",
    "print(lst)"
   ]
  },
  {
   "cell_type": "markdown",
   "metadata": {},
   "source": [
    "#### A Python list with the top ten FBI's Most Wanted names "
   ]
  },
  {
   "cell_type": "code",
   "execution_count": 12,
   "metadata": {},
   "outputs": [
    {
     "name": "stdout",
     "output_type": "stream",
     "text": [
      "IT IS NOT POSSSIBLE TO ACCESS TO THE PAGE\n",
      "THE WEBPAGE SHOW THE FOLLOWING MESSAGE:\n",
      "Additional security has been added\n"
     ]
    }
   ],
   "source": [
    "# This is the url you will scrape in this exercise\n",
    "url = 'https://www.fbi.gov/wanted/topten'\n",
    "driver.get(url)\n",
    "\n",
    "print(\"IT IS NOT POSSSIBLE TO ACCESS TO THE PAGE\")\n",
    "print(\"THE WEBPAGE SHOW THE FOLLOWING MESSAGE:\")\n",
    "print(\"Additional security has been added\")"
   ]
  },
  {
   "cell_type": "markdown",
   "metadata": {},
   "source": [
    "####  20 latest earthquakes info (date, time, latitude, longitude and region name) by the EMSC as a pandas dataframe"
   ]
  },
  {
   "cell_type": "code",
   "execution_count": 13,
   "metadata": {},
   "outputs": [
    {
     "name": "stdout",
     "output_type": "stream",
     "text": [
      "                      DATE      LAT       LONG     DEPTH  \\\n",
      "0   2022-04-13  21:51:48.0   9.84 S   111.48 E    10 4.7   \n",
      "1   2022-04-13  21:49:30.2  35.49 N     3.64 W    11 2.1   \n",
      "2   2022-04-13  21:44:35.7  22.56 S   170.26 E    10 4.7   \n",
      "3   2022-04-13  21:32:28.6  19.18 N   155.48 W    30 2.1   \n",
      "4   2022-04-13  21:27:55.8  37.06 N     5.53 W     8 1.6   \n",
      "5   2022-04-13  21:26:21.1  31.64 N   104.36 W     5 2.6   \n",
      "6   2022-04-13  21:25:57.2  38.64 S   178.47 E    23 3.2   \n",
      "7   2022-04-13  21:20:21.0   8.07 S   122.39 E    14 3.1   \n",
      "8   2022-04-13  21:02:58.7  58.24 N   155.87 W   149 2.6   \n",
      "9   2022-04-13  21:02:14.3  33.37 S   117.10 E     5 2.8   \n",
      "10  2022-04-13  21:01:34.0   4.65 S   121.19 E    10 3.3   \n",
      "11  2022-04-13  21:00:53.0   8.12 S   116.03 E   235 2.7   \n",
      "12  2022-04-13  20:56:55.9  33.35 S   117.02 E     5 2.3   \n",
      "13  2022-04-13  20:49:29.7  47.42 N   153.67 E    80 4.9   \n",
      "14  2022-04-13  20:38:11.0   9.53 S   117.39 E    29 3.0   \n",
      "15  2022-04-13  20:22:39.9  19.18 N   155.48 W    34 2.3   \n",
      "17  2022-04-13  20:20:54.8  38.84 N   122.81 W     2 2.3   \n",
      "18  2022-04-13  20:20:05.0   2.34 S   103.57 E    10 3.5   \n",
      "20  2022-04-13  20:18:23.0   1.19 N   125.95 E    10 4.1   \n",
      "21  2022-04-13  20:15:01.0  37.01 N     5.58 W    21 1.6   \n",
      "22  2022-04-13  20:10:33.2  19.34 N   155.11 W     4 2.2   \n",
      "23  2022-04-13  20:00:12.9  34.47 N    45.28 E     8 3.7   \n",
      "24  2022-04-13  19:44:25.0  21.06 S    68.75 W   131 3.1   \n",
      "26  2022-04-13  19:15:22.6  35.49 N     3.58 W    32 2.2   \n",
      "27  2022-04-13  19:13:10.3  27.83 S    63.91 E    80 5.3   \n",
      "28  2022-04-13  19:12:52.0  10.45 N   126.00 E    15 3.2   \n",
      "29  2022-04-13  19:03:36.9  45.59 N     3.68 E    15 2.2   \n",
      "30  2022-04-13  18:57:04.0  35.49 N     3.58 W    27 2.2   \n",
      "31  2022-04-13  18:56:29.0  15.43 N    96.55 W    15 4.2   \n",
      "33  2022-04-13  18:46:28.1  35.47 N     3.71 W    20 1.9   \n",
      "34  2022-04-13  18:40:26.3  37.02 N     5.52 W    21 1.6   \n",
      "35  2022-04-13  18:34:14.1  40.76 N   123.53 W    22 2.2   \n",
      "36  2022-04-13  18:23:25.6  19.22 N   155.53 W    37 2.5   \n",
      "37  2022-04-13  18:22:55.7  37.36 N     5.25 W    14 1.5   \n",
      "38  2022-04-13  17:51:44.2  40.60 N   121.81 W    10 2.4   \n",
      "39  2022-04-13  17:45:32.0   3.40 S   128.40 E    10 2.9   \n",
      "40  2022-04-13  17:42:05.0   8.16 S   117.87 E    26 2.7   \n",
      "41  2022-04-13  17:38:28.7  19.19 N   155.40 W    32 2.1   \n",
      "42  2022-04-13  17:37:41.8  35.30 N    23.23 E    30 2.7   \n",
      "43  2022-04-13  17:22:14.7  37.86 N    16.52 E    41 2.1   \n",
      "44  2022-04-13  17:14:21.8  35.46 N     3.58 W    24 2.1   \n",
      "45  2022-04-13  17:10:31.0   1.17 N   121.75 E    10 2.8   \n",
      "46  2022-04-13  17:05:00.0  12.82 N    90.22 W    18 4.0   \n",
      "47  2022-04-13  16:59:26.0   1.29 S   120.48 E    10 2.6   \n",
      "48  2022-04-13  16:53:47.0   7.40 N    94.54 E    10 4.6   \n",
      "49  2022-04-13  16:51:09.0  12.61 N    88.05 W    19 3.1   \n",
      "\n",
      "                             REGION  \n",
      "0          SOUTH OF JAVA, INDONESIA  \n",
      "1               STRAIT OF GIBRALTAR  \n",
      "2      SOUTHEAST OF LOYALTY ISLANDS  \n",
      "3          ISLAND OF HAWAII, HAWAII  \n",
      "4                             SPAIN  \n",
      "5                     WESTERN TEXAS  \n",
      "6   OFF E. COAST OF N. ISLAND, N.Z.  \n",
      "7          FLORES REGION, INDONESIA  \n",
      "8                  ALASKA PENINSULA  \n",
      "9                 WESTERN AUSTRALIA  \n",
      "10              SULAWESI, INDONESIA  \n",
      "11         LOMBOK REGION, INDONESIA  \n",
      "12                WESTERN AUSTRALIA  \n",
      "13                    KURIL ISLANDS  \n",
      "14        SUMBAWA REGION, INDONESIA  \n",
      "15         ISLAND OF HAWAII, HAWAII  \n",
      "17              NORTHERN CALIFORNIA  \n",
      "18      SOUTHERN SUMATRA, INDONESIA  \n",
      "20                      MOLUCCA SEA  \n",
      "21                            SPAIN  \n",
      "22         ISLAND OF HAWAII, HAWAII  \n",
      "23          IRAN-IRAQ BORDER REGION  \n",
      "24                  TARAPACA, CHILE  \n",
      "26              STRAIT OF GIBRALTAR  \n",
      "27           SOUTHWEST INDIAN RIDGE  \n",
      "28        PHILIPPINE ISLANDS REGION  \n",
      "29                           FRANCE  \n",
      "30              STRAIT OF GIBRALTAR  \n",
      "31          OFFSHORE OAXACA, MEXICO  \n",
      "33              STRAIT OF GIBRALTAR  \n",
      "34                            SPAIN  \n",
      "35              NORTHERN CALIFORNIA  \n",
      "36         ISLAND OF HAWAII, HAWAII  \n",
      "37                            SPAIN  \n",
      "38              NORTHERN CALIFORNIA  \n",
      "39                 SERAM, INDONESIA  \n",
      "40        SUMBAWA REGION, INDONESIA  \n",
      "41         ISLAND OF HAWAII, HAWAII  \n",
      "42                    CRETE, GREECE  \n",
      "43                       IONIAN SEA  \n",
      "44              STRAIT OF GIBRALTAR  \n",
      "45    MINAHASA, SULAWESI, INDONESIA  \n",
      "46             OFFSHORE EL SALVADOR  \n",
      "47              SULAWESI, INDONESIA  \n",
      "48    NICOBAR ISLANDS, INDIA REGION  \n",
      "49          NEAR COAST OF NICARAGUA  \n"
     ]
    }
   ],
   "source": [
    "# This is the url you will scrape in this exercise\n",
    "url = 'https://www.emsc-csem.org/Earthquake/'\n",
    "driver.get(url)\n",
    "\n",
    "tabla=driver.find_element_by_xpath('//*[@id=\"tbody\"]')\n",
    "\n",
    "rows = tabla.find_elements_by_tag_name('tr')\n",
    "\n",
    "lst = []\n",
    "\n",
    "for row in rows:\n",
    "    l = row.text.replace('\\n', ',,,').replace('  ', ',,,').split(',,,')\n",
    "    lst.append(l)\n",
    "\n",
    "df1 = pd.DataFrame(lst)\n",
    "\n",
    "df1[\"DATE\"] = df1[0] + \" \" + df1[1]\n",
    "df1[\"LAT\"] = df1[3] + \" \" + df1[4]\n",
    "df1[\"LONG\"] = df1[5] + \" \" + df1[6]\n",
    "df1[\"DEPTH\"] = df1[7]\n",
    "df1[\"REGION\"] = df1[8]\n",
    "\n",
    "subset = df1[[\"DATE\", \"LAT\", \"LONG\", \"DEPTH\",\"REGION\"]]\n",
    "\n",
    "idx_to_rm = list(subset[~subset[\"DATE\"].str.contains('[0-9]{1}:[0-9]{2}', regex=True)].index)\n",
    "subset.drop(idx_to_rm, inplace=True)\n",
    "\n",
    "print(subset)"
   ]
  },
  {
   "cell_type": "markdown",
   "metadata": {},
   "source": [
    "#### Count number of tweets by a given Twitter account."
   ]
  },
  {
   "cell_type": "markdown",
   "metadata": {},
   "source": [
    "You will need to include a ***try/except block*** for account names not found. \n",
    "<br>***Hint:*** the program should count the number of tweets for any provided account"
   ]
  },
  {
   "cell_type": "code",
   "execution_count": 14,
   "metadata": {},
   "outputs": [],
   "source": [
    "# This is the url you will scrape in this exercise \n",
    "# You will need to add the account credentials to this url\n",
    "url = 'https://twitter.com/'"
   ]
  },
  {
   "cell_type": "code",
   "execution_count": 15,
   "metadata": {},
   "outputs": [
    {
     "name": "stdout",
     "output_type": "stream",
     "text": [
      "6.435 Tweets\n"
     ]
    }
   ],
   "source": [
    "#your code\n",
    "username=\"Dropbox\"\n",
    "try:\n",
    "    driver.get(url + username)\n",
    "    time.sleep(10)\n",
    "    tweets = driver.find_element_by_xpath('//*[@id=\"react-root\"]/div/div/div[2]/main/div/div/div/div/div/div[1]/div[1]/div/div/div/div/div[2]/div/div')\n",
    "    print(tweets.text)\n",
    "except:\n",
    "    print(\"Account does not exists\")\n"
   ]
  },
  {
   "cell_type": "markdown",
   "metadata": {},
   "source": [
    "#### Number of followers of a given twitter account"
   ]
  },
  {
   "cell_type": "markdown",
   "metadata": {},
   "source": [
    "You will need to include a ***try/except block*** in case account/s name not found. \n",
    "<br>***Hint:*** the program should count the followers for any provided account"
   ]
  },
  {
   "cell_type": "code",
   "execution_count": 16,
   "metadata": {},
   "outputs": [],
   "source": [
    "# This is the url you will scrape in this exercise \n",
    "# You will need to add the account credentials to this url\n",
    "url = 'https://twitter.com/'"
   ]
  },
  {
   "cell_type": "code",
   "execution_count": 17,
   "metadata": {},
   "outputs": [
    {
     "name": "stdout",
     "output_type": "stream",
     "text": [
      "6.435 Tweets\n"
     ]
    }
   ],
   "source": [
    "#your code\n",
    "username=\"Dropbox\"\n",
    "try:\n",
    "    driver.get(url + username)\n",
    "    time.sleep(10)\n",
    "    tweets = driver.find_element_by_xpath('//*[@id=\"react-root\"]/div/div/div[2]/main/div/div/div/div/div/div[1]/div[1]/div/div/div/div/div[2]/div/div')\n",
    "    print(tweets.text)\n",
    "except:\n",
    "    print(\"Account does not exists\")\n"
   ]
  },
  {
   "cell_type": "markdown",
   "metadata": {},
   "source": [
    "#### List all language names and number of related articles in the order they appear in wikipedia.org"
   ]
  },
  {
   "cell_type": "code",
   "execution_count": 18,
   "metadata": {},
   "outputs": [],
   "source": [
    "# This is the url you will scrape in this exercise\n",
    "url = 'https://www.wikipedia.org/'"
   ]
  },
  {
   "cell_type": "code",
   "execution_count": 19,
   "metadata": {},
   "outputs": [
    {
     "name": "stdout",
     "output_type": "stream",
     "text": [
      "['Español 755 000+ artículos', 'English 458 000+ articles', 'Русский 798 000+ статей', '日本語 314 000+ 記事', 'Deutsch 667 000+ Artikel', 'Français 400 000+ articles', '中文 256 000+ 條目', 'Italiano 742 000+ voci', 'Português 085 000+ artigos', 'Polski 512 000+ haseł']\n"
     ]
    }
   ],
   "source": [
    "#your code\n",
    "driver.get(url)\n",
    "\n",
    "tabla=driver.find_element_by_xpath('//*[@id=\"www-wikipedia-org\"]/div[2]')\n",
    "\n",
    "languages = tabla.find_elements_by_class_name('central-featured-lang')\n",
    "\n",
    "lst = []\n",
    "\n",
    "for lang in languages:\n",
    "    lst.append(re.sub('[\\n][0-9]', '', lang.text))\n",
    "\n",
    "print(lst)"
   ]
  },
  {
   "cell_type": "markdown",
   "metadata": {},
   "source": [
    "#### A list with the different kind of datasets available in data.gov.uk "
   ]
  },
  {
   "cell_type": "code",
   "execution_count": 20,
   "metadata": {},
   "outputs": [],
   "source": [
    "# This is the url you will scrape in this exercise\n",
    "url = 'https://data.gov.uk/'"
   ]
  },
  {
   "cell_type": "code",
   "execution_count": 21,
   "metadata": {},
   "outputs": [
    {
     "name": "stdout",
     "output_type": "stream",
     "text": [
      "['Business and economy', 'Crime and justice', 'Defence', 'Education', 'Environment', 'Government', 'Government spending', 'Health', 'Mapping', 'Society', 'Towns and cities', 'Transport', 'Digital service performance', 'Government reference data']\n"
     ]
    }
   ],
   "source": [
    "#your code\n",
    "driver.get(url)\n",
    "\n",
    "tabla=driver.find_element_by_xpath('//*[@id=\"main-content\"]/div[3]/div')\n",
    "\n",
    "dbs = tabla.find_elements_by_class_name('govuk-link')\n",
    "\n",
    "lst = []\n",
    "\n",
    "for db in dbs:\n",
    "    lst.append(db.text)\n",
    "\n",
    "print(lst)"
   ]
  },
  {
   "cell_type": "markdown",
   "metadata": {},
   "source": [
    "#### Top 10 languages by number of native speakers stored in a Pandas Dataframe"
   ]
  },
  {
   "cell_type": "code",
   "execution_count": 22,
   "metadata": {},
   "outputs": [],
   "source": [
    "# This is the url you will scrape in this exercise\n",
    "url = 'https://en.wikipedia.org/wiki/List_of_languages_by_number_of_native_speakers'"
   ]
  },
  {
   "cell_type": "code",
   "execution_count": 23,
   "metadata": {},
   "outputs": [
    {
     "name": "stdout",
     "output_type": "stream",
     "text": [
      "   RANK    LANGUAGE                      NATIVE_SPEAKERS PERCENTAGE\n",
      "0  Rank    Language  Native\\nspeakers\\nin millions\\n2007     (2010)\n",
      "1     1    Mandarin                            935 (955)      14.1%\n",
      "2     2     Spanish                            390 (405)      5.85%\n",
      "3     3     English                            365 (360)      5.52%\n",
      "4     4    Hindi[b]                            295 (310)      4.46%\n",
      "5     5      Arabic                            280 (295)      4.23%\n",
      "6     6  Portuguese                            205 (215)      3.08%\n",
      "7     7     Bengali                            200 (205)      3.05%\n",
      "8     8     Russian                            160 (155)      2.42%\n",
      "9     9    Japanese                            125 (125)      1.92%\n"
     ]
    }
   ],
   "source": [
    "#your code\n",
    "driver.get(url)\n",
    "\n",
    "tabla=driver.find_element_by_xpath('//*[@id=\"mw-content-text\"]/div[1]/table[4]/tbody')\n",
    "\n",
    "languages = tabla.find_elements_by_tag_name('tr')\n",
    "\n",
    "lst = []\n",
    "\n",
    "for lang in languages:\n",
    "    el = re.sub('\\([a-z].*[a-z]\\)', '', lang.text)\n",
    "    el = el.replace('  ', ' ')\n",
    "    lst.append(el.split(' '))\n",
    "\n",
    "df1 = pd.DataFrame(lst)\n",
    "\n",
    "df1[\"RANK\"] = df1[0]\n",
    "df1[\"LANGUAGE\"] = df1[1]\n",
    "df1[\"NATIVE_SPEAKERS\"] = df1[2] + \" \" + df1[3]\n",
    "df1[\"PERCENTAGE\"] = df1[4]\n",
    "\n",
    "subset = df1[[\"RANK\", \"LANGUAGE\", \"NATIVE_SPEAKERS\", \"PERCENTAGE\"]]\n",
    "\n",
    "subset=subset[0:10]\n",
    "\n",
    "print(subset)\n"
   ]
  },
  {
   "cell_type": "markdown",
   "metadata": {},
   "source": [
    "### BONUS QUESTIONS"
   ]
  },
  {
   "cell_type": "markdown",
   "metadata": {},
   "source": [
    "#### Scrape a certain number of tweets of a given Twitter account."
   ]
  },
  {
   "cell_type": "code",
   "execution_count": null,
   "metadata": {},
   "outputs": [],
   "source": [
    "# This is the url you will scrape in this exercise \n",
    "# You will need to add the account credentials to this url\n",
    "url = 'https://twitter.com/'"
   ]
  },
  {
   "cell_type": "code",
   "execution_count": null,
   "metadata": {},
   "outputs": [],
   "source": [
    "# your code"
   ]
  },
  {
   "cell_type": "markdown",
   "metadata": {},
   "source": [
    "#### IMDB's Top 250 data (movie name, Initial release, director name and stars) as a pandas dataframe"
   ]
  },
  {
   "cell_type": "code",
   "execution_count": null,
   "metadata": {},
   "outputs": [],
   "source": [
    "# This is the url you will scrape in this exercise \n",
    "url = 'https://www.imdb.com/chart/top'"
   ]
  },
  {
   "cell_type": "code",
   "execution_count": null,
   "metadata": {},
   "outputs": [],
   "source": [
    "# your code"
   ]
  },
  {
   "cell_type": "markdown",
   "metadata": {},
   "source": [
    "#### Movie name, year and a brief summary of the top 10 random movies (IMDB) as a pandas dataframe."
   ]
  },
  {
   "cell_type": "code",
   "execution_count": null,
   "metadata": {},
   "outputs": [],
   "source": [
    "#This is the url you will scrape in this exercise\n",
    "url = 'http://www.imdb.com/chart/top'"
   ]
  },
  {
   "cell_type": "code",
   "execution_count": null,
   "metadata": {},
   "outputs": [],
   "source": [
    "#your code"
   ]
  },
  {
   "cell_type": "markdown",
   "metadata": {},
   "source": [
    "#### Find the live weather report (temperature, wind speed, description and weather) of a given city."
   ]
  },
  {
   "cell_type": "code",
   "execution_count": null,
   "metadata": {},
   "outputs": [],
   "source": [
    "#https://openweathermap.org/current\n",
    "city = city=input('Enter the city:')\n",
    "url = 'http://api.openweathermap.org/data/2.5/weather?'+'q='+city+'&APPID=b35975e18dc93725acb092f7272cc6b8&units=metric'"
   ]
  },
  {
   "cell_type": "code",
   "execution_count": null,
   "metadata": {},
   "outputs": [],
   "source": [
    "# your code"
   ]
  },
  {
   "cell_type": "markdown",
   "metadata": {},
   "source": [
    "#### Book name,price and stock availability as a pandas dataframe."
   ]
  },
  {
   "cell_type": "code",
   "execution_count": null,
   "metadata": {},
   "outputs": [],
   "source": [
    "# This is the url you will scrape in this exercise. \n",
    "# It is a fictional bookstore created to be scraped. \n",
    "url = 'http://books.toscrape.com/'"
   ]
  },
  {
   "cell_type": "code",
   "execution_count": null,
   "metadata": {},
   "outputs": [],
   "source": [
    "#your code"
   ]
  }
 ],
 "metadata": {
  "kernelspec": {
   "display_name": "Python 3",
   "language": "python",
   "name": "python3"
  },
  "language_info": {
   "codemirror_mode": {
    "name": "ipython",
    "version": 3
   },
   "file_extension": ".py",
   "mimetype": "text/x-python",
   "name": "python",
   "nbconvert_exporter": "python",
   "pygments_lexer": "ipython3",
   "version": "3.7.2"
  }
 },
 "nbformat": 4,
 "nbformat_minor": 2
}