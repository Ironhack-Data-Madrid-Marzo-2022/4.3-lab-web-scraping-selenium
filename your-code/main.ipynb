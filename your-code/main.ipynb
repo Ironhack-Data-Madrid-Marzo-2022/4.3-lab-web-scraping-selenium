{
 "cells": [
  {
   "cell_type": "markdown",
   "metadata": {},
   "source": [
    "# Web Scraping Lab\n",
    "\n",
    "You will find in this notebook some scrapy exercises to practise your scraping skills.\n",
    "\n",
    "**Tips:**\n",
    "\n",
    "- Check the response status code for each request to ensure you have obtained the intended contennt.\n",
    "- Print the response text in each request to understand the kind of info you are getting and its format.\n",
    "- Check for patterns in the response text to extract the data/info requested in each question.\n",
    "- Visit each url and take a look at its source through Chrome DevTools. You'll need to identify the html tags, special class names etc. used for the html content you are expected to extract."
   ]
  },
  {
   "cell_type": "markdown",
   "metadata": {},
   "source": [
    "- [Selenium Doc](https://www.selenium.dev/documentation/)\n",
    "- [Requests library](http://docs.python-requests.org/en/master/#the-user-guide) documentation \n",
    "- [Urllib](https://docs.python.org/3/library/urllib.html#module-urllib)\n",
    "- [re lib](https://docs.python.org/3/library/re.html)\n",
    "- [lxml lib](https://lxml.de/)\n",
    "- [Scrapy](https://scrapy.org/)\n",
    "- [List of HTTP status codes](https://en.wikipedia.org/wiki/List_of_HTTP_status_codes)\n",
    "- [HTML basics](http://www.simplehtmlguide.com/cheatsheet.php)\n",
    "- [CSS basics](https://www.cssbasics.com/#page_start)"
   ]
  },
  {
   "cell_type": "markdown",
   "metadata": {},
   "source": [
    "#### Below are the libraries and modules you may need. `Selenium` and `pandas` are imported for you."
   ]
  },
  {
   "cell_type": "code",
   "execution_count": 1,
   "metadata": {},
   "outputs": [],
   "source": [
    "import pandas as pd\n",
    "from selenium.webdriver.chrome.options import Options\n",
    "from selenium import webdriver\n",
    "#from webdriver_manager.chrome import ChromeDriverManager"
   ]
  },
  {
   "cell_type": "markdown",
   "metadata": {},
   "source": [
    "#### Enable the options you may need. In the next cell you have an example of them but you can choose to use them or not."
   ]
  },
  {
   "cell_type": "code",
   "execution_count": 2,
   "metadata": {},
   "outputs": [],
   "source": [
    "#driver configuration\n",
    "opciones=Options()\n",
    "\n",
    "opciones.add_experimental_option('excludeSwitches', ['enable-automation'])\n",
    "opciones.add_experimental_option('useAutomationExtension', False)\n",
    "opciones.headless=False    # si True, no aperece la ventana (headless=no visible)\n",
    "opciones.add_argument('--start-maximized')         # comienza maximizado\n",
    "#opciones.add_argument('user-data-dir=selenium')    # mantiene las cookies\n",
    "#opciones.add_extension('driver_folder/adblock.crx')       # adblocker\n",
    "opciones.add_argument('--incognito')"
   ]
  },
  {
   "cell_type": "code",
   "execution_count": 3,
   "metadata": {},
   "outputs": [
    {
     "name": "stderr",
     "output_type": "stream",
     "text": [
      "C:\\Users\\Alberto\\AppData\\Local\\Temp\\ipykernel_11504\\3712765530.py:2: DeprecationWarning: executable_path has been deprecated, please pass in a Service object\n",
      "  driver = webdriver.Chrome(driver,options = opciones)\n"
     ]
    }
   ],
   "source": [
    "driver = r\"C:\\Users\\Alberto\\Downloads/chromedriver.exe\" #remember substitute this for your driver path\n",
    "driver = webdriver.Chrome(driver,options = opciones)"
   ]
  },
  {
   "cell_type": "markdown",
   "metadata": {},
   "source": [
    "#### Download, parse, and print the content from the Trending Developers page from GitHub:"
   ]
  },
  {
   "cell_type": "code",
   "execution_count": 4,
   "metadata": {},
   "outputs": [],
   "source": [
    "# This is the url you will scrape in this exercise\n",
    "url = 'https://github.com/trending/developers'"
   ]
  },
  {
   "cell_type": "code",
   "execution_count": 5,
   "metadata": {},
   "outputs": [],
   "source": [
    "#your code\n",
    "driver.get(url)"
   ]
  },
  {
   "cell_type": "code",
   "execution_count": null,
   "metadata": {},
   "outputs": [],
   "source": []
  },
  {
   "cell_type": "markdown",
   "metadata": {},
   "source": [
    "#### Display the names of the trending developers retrieved in the previous step.\n",
    "\n",
    "Your output should be a Python list of developer names. Each name should not contain any html tag.\n",
    "\n",
    "**Instructions:**\n",
    "\n",
    "1. Find out the html tag and class names used for the developer names.\n",
    "\n",
    "1. Use string manipulation techniques to replace whitespaces and linebreaks (i.e. `\\n`) in the *text* of each html element. Use a list to store the clean names.\n",
    "\n",
    "1. Print the list of names.\n",
    "\n",
    "Your output should look like below:\n",
    "\n",
    "```\n",
    "['trimstray (@trimstray)',\n",
    " 'joewalnes (JoeWalnes)',\n",
    " 'charlax (Charles-AxelDein)',\n",
    " 'ForrestKnight (ForrestKnight)',\n",
    " 'revery-ui (revery-ui)',\n",
    " 'alibaba (Alibaba)',\n",
    " 'Microsoft (Microsoft)',\n",
    " 'github (GitHub)',\n",
    " 'facebook (Facebook)',\n",
    " 'boazsegev (Bo)',\n",
    " 'google (Google)',\n",
    " 'cloudfetch',\n",
    " 'sindresorhus (SindreSorhus)',\n",
    " 'tensorflow',\n",
    " 'apache (TheApacheSoftwareFoundation)',\n",
    " 'DevonCrawford (DevonCrawford)',\n",
    " 'ARMmbed (ArmMbed)',\n",
    " 'vuejs (vuejs)',\n",
    " 'fastai (fast.ai)',\n",
    " 'QiShaoXuan (Qi)',\n",
    " 'joelparkerhenderson (JoelParkerHenderson)',\n",
    " 'torvalds (LinusTorvalds)',\n",
    " 'CyC2018',\n",
    " 'komeiji-satori (神楽坂覚々)',\n",
    " 'script-8']\n",
    " ```"
   ]
  },
  {
   "cell_type": "code",
   "execution_count": 6,
   "metadata": {},
   "outputs": [
    {
     "name": "stderr",
     "output_type": "stream",
     "text": [
      "C:\\Users\\Alberto\\AppData\\Local\\Temp\\ipykernel_11504\\4191201775.py:6: DeprecationWarning: find_element_by_xpath is deprecated. Please use find_element(by=By.XPATH, value=xpath) instead\n",
      "  nombres.append(driver.find_element_by_xpath(f'/html/body/div[4]/main/div[3]/div/div[2]/article[{n}]/div[2]/div[1]/div[1]/h1/a').text)\n"
     ]
    },
    {
     "data": {
      "text/plain": [
       "['Álvaro', 'Ariel Mashraki', 'Marten Seemann', 'Boris Dayma']"
      ]
     },
     "execution_count": 6,
     "metadata": {},
     "output_type": "execute_result"
    }
   ],
   "source": [
    "#your code\n",
    "n=1\n",
    "nombres=[]\n",
    "while True:\n",
    "    try:\n",
    "        nombres.append(driver.find_element_by_xpath(f'/html/body/div[4]/main/div[3]/div/div[2]/article[{n}]/div[2]/div[1]/div[1]/h1/a').text)\n",
    "        n+=1\n",
    "    except:\n",
    "        break\n",
    "nombres[:4]"
   ]
  },
  {
   "cell_type": "code",
   "execution_count": 7,
   "metadata": {},
   "outputs": [
    {
     "name": "stderr",
     "output_type": "stream",
     "text": [
      "C:\\Users\\Alberto\\AppData\\Local\\Temp\\ipykernel_11504\\1069675159.py:5: DeprecationWarning: find_element_by_xpath is deprecated. Please use find_element(by=By.XPATH, value=xpath) instead\n",
      "  users.append(driver.find_element_by_xpath(f'/html/body/div[4]/main/div[3]/div/div[2]/article[{n}]/div[2]/div[1]/div[1]/p/a').text)\n"
     ]
    },
    {
     "data": {
      "text/plain": [
       "['alvarotrigo', 'a8m', 'marten-seemann', 'borisdayma']"
      ]
     },
     "execution_count": 7,
     "metadata": {},
     "output_type": "execute_result"
    }
   ],
   "source": [
    "n=1\n",
    "users=[]\n",
    "while True:\n",
    "    try:\n",
    "        users.append(driver.find_element_by_xpath(f'/html/body/div[4]/main/div[3]/div/div[2]/article[{n}]/div[2]/div[1]/div[1]/p/a').text)\n",
    "        n+=1\n",
    "    except:\n",
    "        break\n",
    "users[:4]"
   ]
  },
  {
   "cell_type": "markdown",
   "metadata": {},
   "source": [
    "#### Display the trending Python repositories in GitHub\n",
    "\n",
    "The steps to solve this problem is similar to the previous one except that you need to find out the repository names instead of developer names."
   ]
  },
  {
   "cell_type": "code",
   "execution_count": 8,
   "metadata": {},
   "outputs": [],
   "source": [
    "# This is the url you will scrape in this exercise\n",
    "url = 'https://github.com/trending/python?since=daily'\n",
    "driver.get(url)"
   ]
  },
  {
   "cell_type": "code",
   "execution_count": 9,
   "metadata": {},
   "outputs": [
    {
     "name": "stderr",
     "output_type": "stream",
     "text": [
      "C:\\Users\\Alberto\\AppData\\Local\\Temp\\ipykernel_11504\\2953653628.py:6: DeprecationWarning: find_element_by_xpath is deprecated. Please use find_element(by=By.XPATH, value=xpath) instead\n",
      "  repos.append(driver.find_element_by_xpath(f'/html/body/div[4]/main/div[3]/div/div[2]/article[{n}]/h1/a').text)\n"
     ]
    },
    {
     "data": {
      "text/plain": [
       "['fighting41love / funNLP',\n",
       " 'Sjj1024 / QiangCai',\n",
       " 'vinta / awesome-python',\n",
       " 'lucidrains / DALLE2-pytorch']"
      ]
     },
     "execution_count": 9,
     "metadata": {},
     "output_type": "execute_result"
    }
   ],
   "source": [
    "#your code\n",
    "repos=[]\n",
    "n=1\n",
    "while True:\n",
    "    try:\n",
    "        repos.append(driver.find_element_by_xpath(f'/html/body/div[4]/main/div[3]/div/div[2]/article[{n}]/h1/a').text)\n",
    "        n+=1\n",
    "    except:\n",
    "        break\n",
    "repos[:4]\n"
   ]
  },
  {
   "cell_type": "markdown",
   "metadata": {},
   "source": [
    "#### Display all the image links from Walt Disney wikipedia page"
   ]
  },
  {
   "cell_type": "code",
   "execution_count": 10,
   "metadata": {},
   "outputs": [],
   "source": [
    "# This is the url you will scrape in this exercise\n",
    "url = 'https://en.wikipedia.org/wiki/Walt_Disney'\n",
    "driver.get(url)"
   ]
  },
  {
   "cell_type": "code",
   "execution_count": 11,
   "metadata": {},
   "outputs": [
    {
     "name": "stderr",
     "output_type": "stream",
     "text": [
      "C:\\Users\\Alberto\\AppData\\Local\\Temp\\ipykernel_11504\\142409770.py:3: DeprecationWarning: find_elements_by_tag_name is deprecated. Please use find_elements(by=By.TAG_NAME, value=name) instead\n",
      "  images=[x.get_attribute('src') for x in driver.find_elements_by_tag_name('img')]\n"
     ]
    },
    {
     "data": {
      "text/plain": [
       "['https://upload.wikimedia.org/wikipedia/en/thumb/e/e7/Cscr-featured.svg/20px-Cscr-featured.svg.png',\n",
       " 'https://upload.wikimedia.org/wikipedia/en/thumb/8/8c/Extended-protection-shackle.svg/20px-Extended-protection-shackle.svg.png',\n",
       " 'https://upload.wikimedia.org/wikipedia/commons/thumb/d/df/Walt_Disney_1946.JPG/220px-Walt_Disney_1946.JPG',\n",
       " 'https://upload.wikimedia.org/wikipedia/commons/thumb/8/87/Walt_Disney_1942_signature.svg/150px-Walt_Disney_1942_signature.svg.png',\n",
       " 'https://upload.wikimedia.org/wikipedia/commons/thumb/c/c4/Walt_Disney_envelope_ca._1921.jpg/220px-Walt_Disney_envelope_ca._1921.jpg']"
      ]
     },
     "execution_count": 11,
     "metadata": {},
     "output_type": "execute_result"
    }
   ],
   "source": [
    "#your code\n",
    "\n",
    "images=[x.get_attribute('src') for x in driver.find_elements_by_tag_name('img')]\n",
    "\n",
    "images[:5]\n",
    "\n",
    "\n"
   ]
  },
  {
   "cell_type": "markdown",
   "metadata": {},
   "source": [
    "#### Retrieve an arbitary Wikipedia page of \"Python\" and create a list of links on that page"
   ]
  },
  {
   "cell_type": "code",
   "execution_count": 12,
   "metadata": {},
   "outputs": [],
   "source": [
    "# This is the url you will scrape in this exercise\n",
    "url ='https://en.wikipedia.org/wiki/Python_(programming_language)' \n",
    "driver.get(url)"
   ]
  },
  {
   "cell_type": "code",
   "execution_count": 13,
   "metadata": {},
   "outputs": [
    {
     "name": "stderr",
     "output_type": "stream",
     "text": [
      "C:\\Users\\Alberto\\AppData\\Local\\Temp\\ipykernel_11504\\787191014.py:2: DeprecationWarning: find_elements_by_tag_name is deprecated. Please use find_elements(by=By.TAG_NAME, value=name) instead\n",
      "  links=[x.get_attribute('href') for x in driver.find_elements_by_tag_name('a') if x.get_attribute('href')!=None ]\n"
     ]
    },
    {
     "name": "stdout",
     "output_type": "stream",
     "text": [
      "<class 'str'>\n"
     ]
    }
   ],
   "source": [
    "#your code\n",
    "links=[x.get_attribute('href') for x in driver.find_elements_by_tag_name('a') if x.get_attribute('href')!=None ]\n",
    "print(type(links[0]))"
   ]
  },
  {
   "cell_type": "code",
   "execution_count": 14,
   "metadata": {},
   "outputs": [
    {
     "data": {
      "text/plain": [
       "['https://en.wikipedia.org/wiki/Wikipedia:Good_articles',\n",
       " 'https://en.wikipedia.org/wiki/Python_(programming_language)#mw-head',\n",
       " 'https://en.wikipedia.org/wiki/Python_(programming_language)#searchInput',\n",
       " 'https://en.wikipedia.org/wiki/File:Python-logo-notext.svg',\n",
       " 'https://en.wikipedia.org/wiki/Programming_paradigm']"
      ]
     },
     "execution_count": 14,
     "metadata": {},
     "output_type": "execute_result"
    }
   ],
   "source": [
    "links[:5]"
   ]
  },
  {
   "cell_type": "markdown",
   "metadata": {},
   "source": [
    "#### Number of Titles that have changed in the United States Code since its last release point "
   ]
  },
  {
   "cell_type": "code",
   "execution_count": 15,
   "metadata": {},
   "outputs": [],
   "source": [
    "# This is the url you will scrape in this exercise\n",
    "url = 'http://uscode.house.gov/download/download.shtml'\n",
    "driver.get(url)"
   ]
  },
  {
   "cell_type": "code",
   "execution_count": 16,
   "metadata": {},
   "outputs": [],
   "source": [
    "#your code"
   ]
  },
  {
   "cell_type": "markdown",
   "metadata": {},
   "source": [
    "#### A Python list with the top ten FBI's Most Wanted names "
   ]
  },
  {
   "cell_type": "code",
   "execution_count": 17,
   "metadata": {},
   "outputs": [],
   "source": [
    "# This is the url you will scrape in this exercise\n",
    "url = 'https://www.fbi.gov/wanted/topten'\n",
    "driver.get(url)"
   ]
  },
  {
   "cell_type": "code",
   "execution_count": 18,
   "metadata": {},
   "outputs": [
    {
     "name": "stderr",
     "output_type": "stream",
     "text": [
      "C:\\Users\\Alberto\\AppData\\Local\\Temp\\ipykernel_11504\\1922390780.py:2: DeprecationWarning: find_elements_by_tag_name is deprecated. Please use find_elements(by=By.TAG_NAME, value=name) instead\n",
      "  headers=driver.find_elements_by_tag_name('h3')\n"
     ]
    },
    {
     "data": {
      "text/plain": [
       "['RAFAEL CARO-QUINTERO',\n",
       " 'YULAN ADONAY ARCHAGA CARIAS',\n",
       " 'EUGENE PALMER',\n",
       " 'BHADRESHKUMAR CHETANBHAI PATEL',\n",
       " 'ALEJANDRO ROSALES CASTILLO',\n",
       " 'ARNOLDO JIMENEZ',\n",
       " 'JASON DEREK BROWN',\n",
       " 'ALEXIS FLORES',\n",
       " 'JOSE RODOLFO VILLARREAL-HERNANDEZ',\n",
       " 'OCTAVIANO JUAREZ-CORRO']"
      ]
     },
     "execution_count": 18,
     "metadata": {},
     "output_type": "execute_result"
    }
   ],
   "source": [
    "#your code \n",
    "headers=driver.find_elements_by_tag_name('h3')\n",
    "header_text=[x.text for x in headers]\n",
    "wanted=header_text[0:10]\n",
    "wanted"
   ]
  },
  {
   "cell_type": "markdown",
   "metadata": {},
   "source": [
    "####  20 latest earthquakes info (date, time, latitude, longitude and region name) by the EMSC as a pandas dataframe"
   ]
  },
  {
   "cell_type": "code",
   "execution_count": 19,
   "metadata": {},
   "outputs": [],
   "source": [
    "# This is the url you will scrape in this exercise\n",
    "url = 'https://www.emsc-csem.org/Earthquake/'\n",
    "driver.get(url)"
   ]
  },
  {
   "cell_type": "code",
   "execution_count": 20,
   "metadata": {},
   "outputs": [],
   "source": [
    "#your code\n"
   ]
  },
  {
   "cell_type": "markdown",
   "metadata": {},
   "source": [
    "#### Count number of tweets by a given Twitter account."
   ]
  },
  {
   "cell_type": "markdown",
   "metadata": {},
   "source": [
    "You will need to include a ***try/except block*** for account names not found. \n",
    "<br>***Hint:*** the program should count the number of tweets for any provided account"
   ]
  },
  {
   "cell_type": "code",
   "execution_count": 21,
   "metadata": {},
   "outputs": [],
   "source": [
    "# This is the url you will scrape in this exercise \n",
    "# You will need to add the account credentials to this url\n",
    "url = 'https://twitter.com/'\n"
   ]
  },
  {
   "cell_type": "code",
   "execution_count": 22,
   "metadata": {},
   "outputs": [],
   "source": [
    "#your code"
   ]
  },
  {
   "cell_type": "markdown",
   "metadata": {},
   "source": [
    "#### Number of followers of a given twitter account"
   ]
  },
  {
   "cell_type": "markdown",
   "metadata": {},
   "source": [
    "You will need to include a ***try/except block*** in case account/s name not found. \n",
    "<br>***Hint:*** the program should count the followers for any provided account"
   ]
  },
  {
   "cell_type": "code",
   "execution_count": 23,
   "metadata": {},
   "outputs": [],
   "source": [
    "# This is the url you will scrape in this exercise \n",
    "# You will need to add the account credentials to this url\n",
    "url = 'https://twitter.com/'"
   ]
  },
  {
   "cell_type": "code",
   "execution_count": 24,
   "metadata": {},
   "outputs": [],
   "source": [
    "#your code"
   ]
  },
  {
   "cell_type": "markdown",
   "metadata": {},
   "source": [
    "#### List all language names and number of related articles in the order they appear in wikipedia.org"
   ]
  },
  {
   "cell_type": "code",
   "execution_count": 25,
   "metadata": {},
   "outputs": [],
   "source": [
    "# This is the url you will scrape in this exercise\n",
    "url = 'https://www.wikipedia.org/'\n",
    "driver.get(url)"
   ]
  },
  {
   "cell_type": "code",
   "execution_count": 26,
   "metadata": {},
   "outputs": [
    {
     "data": {
      "text/plain": [
       "\"\\ndiv=driver.find_element_by_xpath('/html/body/div[2]')\\nwhile n<10:\\n    div.find_element_by_class_name(f'central-featured-lang lang{n}')\\n    n+=1\\n\""
      ]
     },
     "execution_count": 26,
     "metadata": {},
     "output_type": "execute_result"
    }
   ],
   "source": [
    "'''\n",
    "div=driver.find_element_by_xpath('/html/body/div[2]')\n",
    "n=1\n",
    "while n<10:\n",
    "    div.find_element_by_class_name(f'central-featured-lang lang{n}')\n",
    "    n+=1\n",
    "'''"
   ]
  },
  {
   "cell_type": "markdown",
   "metadata": {},
   "source": [
    "#### A list with the different kind of datasets available in data.gov.uk "
   ]
  },
  {
   "cell_type": "code",
   "execution_count": 27,
   "metadata": {},
   "outputs": [],
   "source": [
    "# This is the url you will scrape in this exercise\n",
    "url = 'https://data.gov.uk/'\n",
    "driver.get(url)"
   ]
  },
  {
   "cell_type": "code",
   "execution_count": 28,
   "metadata": {},
   "outputs": [],
   "source": [
    "#your code "
   ]
  },
  {
   "cell_type": "markdown",
   "metadata": {},
   "source": [
    "#### Top 10 languages by number of native speakers stored in a Pandas Dataframe"
   ]
  },
  {
   "cell_type": "code",
   "execution_count": 30,
   "metadata": {},
   "outputs": [],
   "source": [
    "# This is the url you will scrape in this exercise\n",
    "url = 'https://en.wikipedia.org/wiki/List_of_languages_by_number_of_native_speakers'\n",
    "driver.get(url)"
   ]
  },
  {
   "cell_type": "code",
   "execution_count": 34,
   "metadata": {},
   "outputs": [
    {
     "name": "stderr",
     "output_type": "stream",
     "text": [
      "C:\\Users\\Alberto\\AppData\\Local\\Temp\\ipykernel_11504\\973996915.py:2: DeprecationWarning: find_element_by_xpath is deprecated. Please use find_element(by=By.XPATH, value=xpath) instead\n",
      "  tabla=driver.find_element_by_xpath('/html/body/div[3]/div[3]/div[5]/div[1]/table[2]/tbody')\n",
      "C:\\Users\\Alberto\\Anaconda3\\envs\\clase\\lib\\site-packages\\selenium\\webdriver\\remote\\webelement.py:359: UserWarning: find_elements_by_tag_name is deprecated. Please use find_elements(by=By.TAG_NAME, value=name) instead\n",
      "  warnings.warn(\"find_elements_by_tag_name is deprecated. Please use find_elements(by=By.TAG_NAME, value=name) instead\")\n"
     ]
    }
   ],
   "source": [
    "#your code\n",
    "tabla=driver.find_element_by_xpath('/html/body/div[3]/div[3]/div[5]/div[1]/table[2]/tbody')\n",
    "\n",
    "\n",
    "lineas=tabla.find_elements_by_tag_name('tr')\n",
    "elemento=[x.find_elements_by_tag_name('td') for x in lineas]\n",
    "\n",
    "\n"
   ]
  },
  {
   "cell_type": "code",
   "execution_count": 40,
   "metadata": {},
   "outputs": [
    {
     "name": "stdout",
     "output_type": "stream",
     "text": [
      "1\n",
      "2\n",
      "3\n",
      "4\n",
      "5\n",
      "6\n",
      "7\n",
      "8\n",
      "9\n",
      "10\n",
      "11\n",
      "12\n",
      "13\n",
      "14\n",
      "15\n",
      "16\n",
      "17\n",
      "18\n",
      "19\n",
      "20\n",
      "21\n",
      "22\n",
      "23\n",
      "24\n",
      "25\n",
      "26\n",
      "27\n",
      "28\n",
      "29\n",
      "30\n",
      "31\n",
      "32\n",
      "33\n",
      "34\n",
      "35\n",
      "36\n",
      "37\n",
      "38\n",
      "39\n",
      "40\n",
      "41\n",
      "42\n",
      "43\n",
      "44\n",
      "45\n",
      "46\n",
      "47\n",
      "48\n",
      "49\n",
      "50\n",
      "51\n",
      "52\n",
      "53\n",
      "54\n",
      "55\n",
      "56\n",
      "57\n",
      "58\n",
      "59\n",
      "60\n",
      "61\n",
      "62\n",
      "63\n",
      "64\n",
      "65\n",
      "66\n",
      "67\n",
      "68\n",
      "69\n",
      "70\n",
      "71\n",
      "72\n",
      "73\n",
      "74\n",
      "75\n",
      "76\n",
      "77\n",
      "78\n",
      "79\n",
      "80\n",
      "81\n",
      "82\n",
      "83\n",
      "84\n",
      "85\n",
      "86\n",
      "87\n",
      "88\n",
      "89\n",
      "90\n",
      "91\n",
      "Mandarin Chinese\n",
      "Spanish\n",
      "English\n",
      "Hindi (sanskritised Hindustani)[11]\n",
      "Bengali\n",
      "Portuguese\n",
      "Russian\n",
      "Japanese\n",
      "Western Punjabi[12]\n",
      "Marathi\n",
      "Telugu\n",
      "Wu Chinese\n",
      "Turkish\n",
      "Korean\n",
      "French\n",
      "German (only Standard German)\n",
      "Vietnamese\n",
      "Tamil\n",
      "Yue Chinese\n",
      "Urdu (Persianised Hindustani)[11]\n",
      "Javanese\n",
      "Italian\n",
      "Egyptian Arabic\n",
      "Gujarati\n",
      "Iranian Persian\n",
      "Bhojpuri\n",
      "Southern Min\n",
      "Hakka\n",
      "Jin Chinese\n",
      "Hausa\n",
      "Kannada\n",
      "Indonesian\n",
      "Polish\n",
      "Yoruba\n",
      "Xiang Chinese\n",
      "Malayalam\n",
      "Odia\n",
      "Maithili\n",
      "Burmese\n",
      "Eastern Punjabi[12]\n",
      "Sunda\n",
      "Sudanese Arabic\n",
      "Algerian Arabic\n",
      "Moroccan Arabic\n",
      "Ukrainian\n",
      "Igbo\n",
      "Northern Uzbek\n",
      "Sindhi\n",
      "North Levantine Arabic\n",
      "Romanian\n",
      "Tagalog\n",
      "Dutch\n",
      "Saʽidi Arabic\n",
      "Gan Chinese\n",
      "Amharic\n",
      "Northern Pashto\n",
      "Magahi\n",
      "Thai\n",
      "Saraiki\n",
      "Khmer\n",
      "Chhattisgarhi\n",
      "Somali\n",
      "Malaysian (Malaysian Malay)\n",
      "Cebuano\n",
      "Nepali\n",
      "Mesopotamian Arabic\n",
      "Assamese\n",
      "Sinhalese\n",
      "Northern Kurdish\n",
      "Hejazi Arabic\n",
      "Nigerian Fulfulde\n",
      "Bavarian\n",
      "South Azerbaijani\n",
      "Greek\n",
      "Chittagonian\n",
      "Kazakh\n",
      "Deccan\n",
      "Hungarian\n",
      "Kinyarwanda\n",
      "Zulu\n",
      "South Levantine Arabic\n",
      "Tunisian Arabic\n",
      "Sanaani Spoken Arabic\n",
      "Northern Min\n",
      "Southern Pashto\n",
      "Rundi\n",
      "Czech\n",
      "Taʽizzi-Adeni Arabic\n",
      "Uyghur\n",
      "Eastern Min\n",
      "Sylheti\n",
      "918\n",
      "480\n",
      "379\n",
      "341\n",
      "300\n",
      "221\n",
      "154\n",
      "128\n",
      "92.7\n",
      "83.1\n",
      "82.0\n",
      "81.4\n",
      "79.4\n",
      "77.3\n",
      "77.2\n",
      "76.1\n",
      "76.0\n",
      "75.0\n",
      "73.1\n",
      "68.6\n",
      "68.3\n",
      "64.8\n",
      "64.6\n",
      "56.4\n",
      "52.8\n",
      "52.2\n",
      "50.1\n",
      "48.2\n",
      "46.9\n",
      "43.9\n",
      "43.6\n",
      "43.4[a]\n",
      "39.7\n",
      "37.8\n",
      "37.3\n",
      "37.1\n",
      "34.5\n",
      "33.9\n",
      "32.9\n",
      "32.6\n",
      "32.4\n",
      "31.9\n",
      "29.4\n",
      "27.5\n",
      "27.3\n",
      "27.0\n",
      "25.1\n",
      "24.6\n",
      "24.6\n",
      "24.3\n",
      "23.6\n",
      "23.1\n",
      "22.4\n",
      "22.1\n",
      "21.9\n",
      "20.9\n",
      "20.7\n",
      "20.7\n",
      "20.0\n",
      "16.6\n",
      "16.3\n",
      "16.2\n",
      "16.1\n",
      "15.9\n",
      "15.8\n",
      "15.7\n",
      "15.3\n",
      "15.3\n",
      "14.6\n",
      "14.5\n",
      "14.5\n",
      "14.1\n",
      "13.8\n",
      "13.1\n",
      "13.0\n",
      "12.9\n",
      "12.8\n",
      "12.6\n",
      "12.1\n",
      "12.1\n",
      "11.6\n",
      "11.6\n",
      "11.4\n",
      "11.0\n",
      "10.9\n",
      "10.8\n",
      "10.7\n",
      "10.5\n",
      "10.4\n",
      "10.3\n",
      "10.3\n",
      "11.922%\n",
      "5.994%\n",
      "4.922%\n",
      "4.429%\n",
      "4.000%\n",
      "2.870%\n",
      "2.000%\n",
      "1.662%\n",
      "1.204%\n",
      "1.079%\n",
      "1.065%\n",
      "1.057%\n",
      "1.031%\n",
      "1.004%\n",
      "1.003%\n",
      "0.988%\n",
      "0.987%\n",
      "0.974%\n",
      "0.949%\n",
      "0.891%\n",
      "0.887%\n",
      "0.842%\n",
      "0.839%\n",
      "0.732%\n",
      "0.686%\n",
      "0.678%\n",
      "0.651%\n",
      "0.626%\n",
      "0.609%\n",
      "0.570%\n",
      "0.566%\n",
      "0.564%\n",
      "0.516%\n",
      "0.491%\n",
      "0.484%\n",
      "0.482%\n",
      "0.448%\n",
      "0.440%\n",
      "0.427%\n",
      "0.423%\n",
      "0.421%\n",
      "0.414%\n",
      "0.382%\n",
      "0.357%\n",
      "0.355%\n",
      "0.351%\n",
      "0.326%\n",
      "0.319%\n",
      "0.319%\n",
      "0.316%\n",
      "0.306%\n",
      "0.300%\n",
      "0.291%\n",
      "0.287%\n",
      "0.284%\n",
      "0.271%\n",
      "0.269%\n",
      "0.269%\n",
      "0.260%\n",
      "0.216%\n",
      "0.212%\n",
      "0.210%\n",
      "0.209%\n",
      "0.206%\n",
      "0.205%\n",
      "0.204%\n",
      "0.199%\n",
      "0.199%\n",
      "0.190%\n",
      "0.188%\n",
      "0.188%\n",
      "0.183%\n",
      "0.179%\n",
      "0.170%\n",
      "0.169%\n",
      "0.168%\n",
      "0.166%\n",
      "0.164%\n",
      "0.157%\n",
      "0.157%\n",
      "0.151%\n",
      "0.151%\n",
      "0.148%\n",
      "0.143%\n",
      "0.142%\n",
      "0.140%\n",
      "0.139%\n",
      "0.136%\n",
      "0.135%\n",
      "0.134%\n",
      "0.134%\n",
      "Sino-Tibetan\n",
      "Indo-European\n",
      "Indo-European\n",
      "Indo-European\n",
      "Indo-European\n",
      "Indo-European\n",
      "Indo-European\n",
      "Japonic\n",
      "Indo-European\n",
      "Indo-European\n",
      "Dravidian\n",
      "Sino-Tibetan\n",
      "Turkic\n",
      "Koreanic\n",
      "Indo-European\n",
      "Indo-European\n",
      "Austroasiatic\n",
      "Dravidian\n",
      "Sino-Tibetan\n",
      "Indo-European\n",
      "Austronesian\n",
      "Indo-European\n",
      "Afroasiatic\n",
      "Indo-European\n",
      "Indo-European\n",
      "Indo-European\n",
      "Sino-Tibetan\n",
      "Sino-Tibetan\n",
      "Sino-Tibetan\n",
      "Afroasiatic\n",
      "Dravidian\n",
      "Austronesian\n",
      "Indo-European\n",
      "Niger–Congo\n",
      "Sino-Tibetan\n",
      "Dravidian\n",
      "Indo-European\n",
      "Indo-European\n",
      "Sino-Tibetan\n",
      "Indo-European\n",
      "Austronesian\n",
      "Afroasiatic\n",
      "Afroasiatic\n",
      "Afroasiatic\n",
      "Indo-European\n",
      "Niger–Congo\n",
      "Turkic\n",
      "Indo-European\n",
      "Afroasiatic\n",
      "Indo-European\n",
      "Austronesian\n",
      "Indo-European\n",
      "Afroasiatic\n",
      "Sino-Tibetan\n",
      "Afroasiatic\n",
      "Indo-European\n",
      "Indo-European\n",
      "Kra–Dai\n",
      "Indo-European\n",
      "Austroasiatic\n",
      "Indo-European\n",
      "Afroasiatic\n",
      "Austronesian\n",
      "Austronesian\n",
      "Indo-European\n",
      "Afroasiatic\n",
      "Indo-European\n",
      "Indo-European\n",
      "Indo-European\n",
      "Afroasiatic\n",
      "Niger–Congo\n",
      "Indo-European\n",
      "Turkic\n",
      "Indo-European\n",
      "Indo-European\n",
      "Turkic\n",
      "Indo-European\n",
      "Uralic\n",
      "Niger–Congo\n",
      "Niger–Congo\n",
      "Afroasiatic\n",
      "Afroasiatic\n",
      "Afroasiatic\n",
      "Sino-Tibetan\n",
      "Indo-European\n",
      "Niger–Congo\n",
      "Indo-European\n",
      "Afroasiatic\n",
      "Turkic\n",
      "Sino-Tibetan\n",
      "Indo-European\n",
      "Sinitic\n",
      "Romance\n",
      "Germanic\n",
      "Indo-Aryan\n",
      "Indo-Aryan\n",
      "Romance\n",
      "Balto-Slavic\n",
      "Japanese\n",
      "Indo-Aryan\n",
      "Indo-Aryan\n",
      "South-Central\n",
      "Sinitic\n",
      "Oghuz\n",
      "language isolate\n",
      "Romance\n",
      "Germanic\n",
      "Vietic\n",
      "South\n",
      "Sinitic\n",
      "Indo-Aryan\n",
      "Malayo-Polynesian\n",
      "Romance\n",
      "Semitic\n",
      "Indo-Aryan\n",
      "Iranian\n",
      "Indo-Aryan\n",
      "Sinitic\n",
      "Sinitic\n",
      "Sinitic\n",
      "Chadic\n",
      "South\n",
      "Malayo-Polynesian\n",
      "Balto-Slavic\n",
      "Volta–Niger\n",
      "Sinitic\n",
      "South\n",
      "Indo-Aryan\n",
      "Indo-Aryan\n",
      "Lolo-Burmese\n",
      "Indo-Aryan\n",
      "Malayo-Polynesian\n",
      "Semitic\n",
      "Semitic\n",
      "Semitic\n",
      "Balto-Slavic\n",
      "Volta–Niger\n",
      "Karluk\n",
      "Indo-Aryan\n",
      "Semitic\n",
      "Romance\n",
      "Malayo-Polynesian\n",
      "Germanic\n",
      "Semitic\n",
      "Sinitic\n",
      "Semitic\n",
      "Iranian\n",
      "Indo-Aryan\n",
      "Tai\n",
      "Indo-Aryan\n",
      "Khmer\n",
      "Indo-Aryan\n",
      "Cushitic\n",
      "Malayo-Polynesian\n",
      "Malayo-Polynesian\n",
      "Indo-Aryan\n",
      "Semitic\n",
      "Indo-Aryan\n",
      "Indo-Aryan\n",
      "Iranian\n",
      "Semitic\n",
      "Senegambian\n",
      "Germanic\n",
      "Oghuz\n",
      "Hellenic\n",
      "Indo-Aryan\n",
      "Kipchak\n",
      "Indo-Aryan\n",
      "Finno-Ugric\n",
      "Bantu\n",
      "Bantu\n",
      "Semitic\n",
      "Semitic\n",
      "Semitic\n",
      "Sinitic\n",
      "Iranian\n",
      "Bantu\n",
      "Balto-Slavic\n",
      "Semitic\n",
      "Karluk\n",
      "Sinitic\n",
      "Indo-Aryan\n"
     ]
    },
    {
     "data": {
      "text/html": [
       "<div>\n",
       "<style scoped>\n",
       "    .dataframe tbody tr th:only-of-type {\n",
       "        vertical-align: middle;\n",
       "    }\n",
       "\n",
       "    .dataframe tbody tr th {\n",
       "        vertical-align: top;\n",
       "    }\n",
       "\n",
       "    .dataframe thead th {\n",
       "        text-align: right;\n",
       "    }\n",
       "</style>\n",
       "<table border=\"1\" class=\"dataframe\">\n",
       "  <thead>\n",
       "    <tr style=\"text-align: right;\">\n",
       "      <th></th>\n",
       "      <th>0</th>\n",
       "      <th>1</th>\n",
       "      <th>2</th>\n",
       "      <th>3</th>\n",
       "      <th>4</th>\n",
       "      <th>5</th>\n",
       "    </tr>\n",
       "  </thead>\n",
       "  <tbody>\n",
       "    <tr>\n",
       "      <th>0</th>\n",
       "      <td>&lt;selenium.webdriver.remote.webelement.WebEleme...</td>\n",
       "      <td>&lt;selenium.webdriver.remote.webelement.WebEleme...</td>\n",
       "      <td>&lt;selenium.webdriver.remote.webelement.WebEleme...</td>\n",
       "      <td>&lt;selenium.webdriver.remote.webelement.WebEleme...</td>\n",
       "      <td>&lt;selenium.webdriver.remote.webelement.WebEleme...</td>\n",
       "      <td>&lt;selenium.webdriver.remote.webelement.WebEleme...</td>\n",
       "    </tr>\n",
       "    <tr>\n",
       "      <th>1</th>\n",
       "      <td>&lt;selenium.webdriver.remote.webelement.WebEleme...</td>\n",
       "      <td>&lt;selenium.webdriver.remote.webelement.WebEleme...</td>\n",
       "      <td>&lt;selenium.webdriver.remote.webelement.WebEleme...</td>\n",
       "      <td>&lt;selenium.webdriver.remote.webelement.WebEleme...</td>\n",
       "      <td>&lt;selenium.webdriver.remote.webelement.WebEleme...</td>\n",
       "      <td>&lt;selenium.webdriver.remote.webelement.WebEleme...</td>\n",
       "    </tr>\n",
       "    <tr>\n",
       "      <th>2</th>\n",
       "      <td>&lt;selenium.webdriver.remote.webelement.WebEleme...</td>\n",
       "      <td>&lt;selenium.webdriver.remote.webelement.WebEleme...</td>\n",
       "      <td>&lt;selenium.webdriver.remote.webelement.WebEleme...</td>\n",
       "      <td>&lt;selenium.webdriver.remote.webelement.WebEleme...</td>\n",
       "      <td>&lt;selenium.webdriver.remote.webelement.WebEleme...</td>\n",
       "      <td>&lt;selenium.webdriver.remote.webelement.WebEleme...</td>\n",
       "    </tr>\n",
       "    <tr>\n",
       "      <th>3</th>\n",
       "      <td>&lt;selenium.webdriver.remote.webelement.WebEleme...</td>\n",
       "      <td>&lt;selenium.webdriver.remote.webelement.WebEleme...</td>\n",
       "      <td>&lt;selenium.webdriver.remote.webelement.WebEleme...</td>\n",
       "      <td>&lt;selenium.webdriver.remote.webelement.WebEleme...</td>\n",
       "      <td>&lt;selenium.webdriver.remote.webelement.WebEleme...</td>\n",
       "      <td>&lt;selenium.webdriver.remote.webelement.WebEleme...</td>\n",
       "    </tr>\n",
       "    <tr>\n",
       "      <th>4</th>\n",
       "      <td>&lt;selenium.webdriver.remote.webelement.WebEleme...</td>\n",
       "      <td>&lt;selenium.webdriver.remote.webelement.WebEleme...</td>\n",
       "      <td>&lt;selenium.webdriver.remote.webelement.WebEleme...</td>\n",
       "      <td>&lt;selenium.webdriver.remote.webelement.WebEleme...</td>\n",
       "      <td>&lt;selenium.webdriver.remote.webelement.WebEleme...</td>\n",
       "      <td>&lt;selenium.webdriver.remote.webelement.WebEleme...</td>\n",
       "    </tr>\n",
       "    <tr>\n",
       "      <th>...</th>\n",
       "      <td>...</td>\n",
       "      <td>...</td>\n",
       "      <td>...</td>\n",
       "      <td>...</td>\n",
       "      <td>...</td>\n",
       "      <td>...</td>\n",
       "    </tr>\n",
       "    <tr>\n",
       "      <th>86</th>\n",
       "      <td>&lt;selenium.webdriver.remote.webelement.WebEleme...</td>\n",
       "      <td>&lt;selenium.webdriver.remote.webelement.WebEleme...</td>\n",
       "      <td>&lt;selenium.webdriver.remote.webelement.WebEleme...</td>\n",
       "      <td>&lt;selenium.webdriver.remote.webelement.WebEleme...</td>\n",
       "      <td>&lt;selenium.webdriver.remote.webelement.WebEleme...</td>\n",
       "      <td>&lt;selenium.webdriver.remote.webelement.WebEleme...</td>\n",
       "    </tr>\n",
       "    <tr>\n",
       "      <th>87</th>\n",
       "      <td>&lt;selenium.webdriver.remote.webelement.WebEleme...</td>\n",
       "      <td>&lt;selenium.webdriver.remote.webelement.WebEleme...</td>\n",
       "      <td>&lt;selenium.webdriver.remote.webelement.WebEleme...</td>\n",
       "      <td>&lt;selenium.webdriver.remote.webelement.WebEleme...</td>\n",
       "      <td>&lt;selenium.webdriver.remote.webelement.WebEleme...</td>\n",
       "      <td>&lt;selenium.webdriver.remote.webelement.WebEleme...</td>\n",
       "    </tr>\n",
       "    <tr>\n",
       "      <th>88</th>\n",
       "      <td>&lt;selenium.webdriver.remote.webelement.WebEleme...</td>\n",
       "      <td>&lt;selenium.webdriver.remote.webelement.WebEleme...</td>\n",
       "      <td>&lt;selenium.webdriver.remote.webelement.WebEleme...</td>\n",
       "      <td>&lt;selenium.webdriver.remote.webelement.WebEleme...</td>\n",
       "      <td>&lt;selenium.webdriver.remote.webelement.WebEleme...</td>\n",
       "      <td>&lt;selenium.webdriver.remote.webelement.WebEleme...</td>\n",
       "    </tr>\n",
       "    <tr>\n",
       "      <th>89</th>\n",
       "      <td>&lt;selenium.webdriver.remote.webelement.WebEleme...</td>\n",
       "      <td>&lt;selenium.webdriver.remote.webelement.WebEleme...</td>\n",
       "      <td>&lt;selenium.webdriver.remote.webelement.WebEleme...</td>\n",
       "      <td>&lt;selenium.webdriver.remote.webelement.WebEleme...</td>\n",
       "      <td>&lt;selenium.webdriver.remote.webelement.WebEleme...</td>\n",
       "      <td>&lt;selenium.webdriver.remote.webelement.WebEleme...</td>\n",
       "    </tr>\n",
       "    <tr>\n",
       "      <th>90</th>\n",
       "      <td>&lt;selenium.webdriver.remote.webelement.WebEleme...</td>\n",
       "      <td>&lt;selenium.webdriver.remote.webelement.WebEleme...</td>\n",
       "      <td>&lt;selenium.webdriver.remote.webelement.WebEleme...</td>\n",
       "      <td>&lt;selenium.webdriver.remote.webelement.WebEleme...</td>\n",
       "      <td>&lt;selenium.webdriver.remote.webelement.WebEleme...</td>\n",
       "      <td>&lt;selenium.webdriver.remote.webelement.WebEleme...</td>\n",
       "    </tr>\n",
       "  </tbody>\n",
       "</table>\n",
       "<p>91 rows × 6 columns</p>\n",
       "</div>"
      ],
      "text/plain": [
       "                                                    0  \\\n",
       "0   <selenium.webdriver.remote.webelement.WebEleme...   \n",
       "1   <selenium.webdriver.remote.webelement.WebEleme...   \n",
       "2   <selenium.webdriver.remote.webelement.WebEleme...   \n",
       "3   <selenium.webdriver.remote.webelement.WebEleme...   \n",
       "4   <selenium.webdriver.remote.webelement.WebEleme...   \n",
       "..                                                ...   \n",
       "86  <selenium.webdriver.remote.webelement.WebEleme...   \n",
       "87  <selenium.webdriver.remote.webelement.WebEleme...   \n",
       "88  <selenium.webdriver.remote.webelement.WebEleme...   \n",
       "89  <selenium.webdriver.remote.webelement.WebEleme...   \n",
       "90  <selenium.webdriver.remote.webelement.WebEleme...   \n",
       "\n",
       "                                                    1  \\\n",
       "0   <selenium.webdriver.remote.webelement.WebEleme...   \n",
       "1   <selenium.webdriver.remote.webelement.WebEleme...   \n",
       "2   <selenium.webdriver.remote.webelement.WebEleme...   \n",
       "3   <selenium.webdriver.remote.webelement.WebEleme...   \n",
       "4   <selenium.webdriver.remote.webelement.WebEleme...   \n",
       "..                                                ...   \n",
       "86  <selenium.webdriver.remote.webelement.WebEleme...   \n",
       "87  <selenium.webdriver.remote.webelement.WebEleme...   \n",
       "88  <selenium.webdriver.remote.webelement.WebEleme...   \n",
       "89  <selenium.webdriver.remote.webelement.WebEleme...   \n",
       "90  <selenium.webdriver.remote.webelement.WebEleme...   \n",
       "\n",
       "                                                    2  \\\n",
       "0   <selenium.webdriver.remote.webelement.WebEleme...   \n",
       "1   <selenium.webdriver.remote.webelement.WebEleme...   \n",
       "2   <selenium.webdriver.remote.webelement.WebEleme...   \n",
       "3   <selenium.webdriver.remote.webelement.WebEleme...   \n",
       "4   <selenium.webdriver.remote.webelement.WebEleme...   \n",
       "..                                                ...   \n",
       "86  <selenium.webdriver.remote.webelement.WebEleme...   \n",
       "87  <selenium.webdriver.remote.webelement.WebEleme...   \n",
       "88  <selenium.webdriver.remote.webelement.WebEleme...   \n",
       "89  <selenium.webdriver.remote.webelement.WebEleme...   \n",
       "90  <selenium.webdriver.remote.webelement.WebEleme...   \n",
       "\n",
       "                                                    3  \\\n",
       "0   <selenium.webdriver.remote.webelement.WebEleme...   \n",
       "1   <selenium.webdriver.remote.webelement.WebEleme...   \n",
       "2   <selenium.webdriver.remote.webelement.WebEleme...   \n",
       "3   <selenium.webdriver.remote.webelement.WebEleme...   \n",
       "4   <selenium.webdriver.remote.webelement.WebEleme...   \n",
       "..                                                ...   \n",
       "86  <selenium.webdriver.remote.webelement.WebEleme...   \n",
       "87  <selenium.webdriver.remote.webelement.WebEleme...   \n",
       "88  <selenium.webdriver.remote.webelement.WebEleme...   \n",
       "89  <selenium.webdriver.remote.webelement.WebEleme...   \n",
       "90  <selenium.webdriver.remote.webelement.WebEleme...   \n",
       "\n",
       "                                                    4  \\\n",
       "0   <selenium.webdriver.remote.webelement.WebEleme...   \n",
       "1   <selenium.webdriver.remote.webelement.WebEleme...   \n",
       "2   <selenium.webdriver.remote.webelement.WebEleme...   \n",
       "3   <selenium.webdriver.remote.webelement.WebEleme...   \n",
       "4   <selenium.webdriver.remote.webelement.WebEleme...   \n",
       "..                                                ...   \n",
       "86  <selenium.webdriver.remote.webelement.WebEleme...   \n",
       "87  <selenium.webdriver.remote.webelement.WebEleme...   \n",
       "88  <selenium.webdriver.remote.webelement.WebEleme...   \n",
       "89  <selenium.webdriver.remote.webelement.WebEleme...   \n",
       "90  <selenium.webdriver.remote.webelement.WebEleme...   \n",
       "\n",
       "                                                    5  \n",
       "0   <selenium.webdriver.remote.webelement.WebEleme...  \n",
       "1   <selenium.webdriver.remote.webelement.WebEleme...  \n",
       "2   <selenium.webdriver.remote.webelement.WebEleme...  \n",
       "3   <selenium.webdriver.remote.webelement.WebEleme...  \n",
       "4   <selenium.webdriver.remote.webelement.WebEleme...  \n",
       "..                                                ...  \n",
       "86  <selenium.webdriver.remote.webelement.WebEleme...  \n",
       "87  <selenium.webdriver.remote.webelement.WebEleme...  \n",
       "88  <selenium.webdriver.remote.webelement.WebEleme...  \n",
       "89  <selenium.webdriver.remote.webelement.WebEleme...  \n",
       "90  <selenium.webdriver.remote.webelement.WebEleme...  \n",
       "\n",
       "[91 rows x 6 columns]"
      ]
     },
     "execution_count": 40,
     "metadata": {},
     "output_type": "execute_result"
    }
   ],
   "source": [
    "import pandas as pd\n",
    "df=pd.DataFrame(elemento)\n",
    "\n",
    "#for x in df:\n",
    "   #for y in df[x]:\n",
    "      # y=y.text\n",
    "       \n",
    "\n"
   ]
  },
  {
   "cell_type": "code",
   "execution_count": 45,
   "metadata": {},
   "outputs": [],
   "source": [
    "df2=df.applymap(lambda x: x.text)"
   ]
  },
  {
   "cell_type": "code",
   "execution_count": 48,
   "metadata": {},
   "outputs": [
    {
     "data": {
      "text/html": [
       "<div>\n",
       "<style scoped>\n",
       "    .dataframe tbody tr th:only-of-type {\n",
       "        vertical-align: middle;\n",
       "    }\n",
       "\n",
       "    .dataframe tbody tr th {\n",
       "        vertical-align: top;\n",
       "    }\n",
       "\n",
       "    .dataframe thead th {\n",
       "        text-align: right;\n",
       "    }\n",
       "</style>\n",
       "<table border=\"1\" class=\"dataframe\">\n",
       "  <thead>\n",
       "    <tr style=\"text-align: right;\">\n",
       "      <th></th>\n",
       "      <th>language</th>\n",
       "      <th>number</th>\n",
       "    </tr>\n",
       "  </thead>\n",
       "  <tbody>\n",
       "    <tr>\n",
       "      <th>0</th>\n",
       "      <td>Mandarin Chinese</td>\n",
       "      <td>918</td>\n",
       "    </tr>\n",
       "    <tr>\n",
       "      <th>1</th>\n",
       "      <td>Spanish</td>\n",
       "      <td>480</td>\n",
       "    </tr>\n",
       "    <tr>\n",
       "      <th>2</th>\n",
       "      <td>English</td>\n",
       "      <td>379</td>\n",
       "    </tr>\n",
       "    <tr>\n",
       "      <th>3</th>\n",
       "      <td>Hindi (sanskritised Hindustani)[11]</td>\n",
       "      <td>341</td>\n",
       "    </tr>\n",
       "    <tr>\n",
       "      <th>4</th>\n",
       "      <td>Bengali</td>\n",
       "      <td>300</td>\n",
       "    </tr>\n",
       "    <tr>\n",
       "      <th>...</th>\n",
       "      <td>...</td>\n",
       "      <td>...</td>\n",
       "    </tr>\n",
       "    <tr>\n",
       "      <th>86</th>\n",
       "      <td>Czech</td>\n",
       "      <td>10.7</td>\n",
       "    </tr>\n",
       "    <tr>\n",
       "      <th>87</th>\n",
       "      <td>Taʽizzi-Adeni Arabic</td>\n",
       "      <td>10.5</td>\n",
       "    </tr>\n",
       "    <tr>\n",
       "      <th>88</th>\n",
       "      <td>Uyghur</td>\n",
       "      <td>10.4</td>\n",
       "    </tr>\n",
       "    <tr>\n",
       "      <th>89</th>\n",
       "      <td>Eastern Min</td>\n",
       "      <td>10.3</td>\n",
       "    </tr>\n",
       "    <tr>\n",
       "      <th>90</th>\n",
       "      <td>Sylheti</td>\n",
       "      <td>10.3</td>\n",
       "    </tr>\n",
       "  </tbody>\n",
       "</table>\n",
       "<p>91 rows × 2 columns</p>\n",
       "</div>"
      ],
      "text/plain": [
       "                               language number\n",
       "0                      Mandarin Chinese    918\n",
       "1                               Spanish    480\n",
       "2                               English    379\n",
       "3   Hindi (sanskritised Hindustani)[11]    341\n",
       "4                               Bengali    300\n",
       "..                                  ...    ...\n",
       "86                                Czech   10.7\n",
       "87                 Taʽizzi-Adeni Arabic   10.5\n",
       "88                               Uyghur   10.4\n",
       "89                          Eastern Min   10.3\n",
       "90                              Sylheti   10.3\n",
       "\n",
       "[91 rows x 2 columns]"
      ]
     },
     "execution_count": 48,
     "metadata": {},
     "output_type": "execute_result"
    }
   ],
   "source": [
    "df3=df2[[1,2]]\n",
    "df3.columns=['language', 'number']\n",
    "df3"
   ]
  },
  {
   "cell_type": "markdown",
   "metadata": {},
   "source": [
    "### BONUS QUESTIONS"
   ]
  },
  {
   "cell_type": "markdown",
   "metadata": {},
   "source": [
    "#### Scrape a certain number of tweets of a given Twitter account."
   ]
  },
  {
   "cell_type": "code",
   "execution_count": 89,
   "metadata": {},
   "outputs": [],
   "source": [
    "# This is the url you will scrape in this exercise \n",
    "# You will need to add the account credentials to this url\n",
    "url = 'https://twitter.com/'"
   ]
  },
  {
   "cell_type": "code",
   "execution_count": 90,
   "metadata": {},
   "outputs": [],
   "source": [
    "# your code"
   ]
  },
  {
   "cell_type": "markdown",
   "metadata": {},
   "source": [
    "#### IMDB's Top 250 data (movie name, Initial release, director name and stars) as a pandas dataframe"
   ]
  },
  {
   "cell_type": "code",
   "execution_count": 91,
   "metadata": {},
   "outputs": [],
   "source": [
    "# This is the url you will scrape in this exercise \n",
    "url = 'https://www.imdb.com/chart/top'"
   ]
  },
  {
   "cell_type": "code",
   "execution_count": 92,
   "metadata": {},
   "outputs": [],
   "source": [
    "# your code"
   ]
  },
  {
   "cell_type": "markdown",
   "metadata": {},
   "source": [
    "#### Movie name, year and a brief summary of the top 10 random movies (IMDB) as a pandas dataframe."
   ]
  },
  {
   "cell_type": "code",
   "execution_count": 93,
   "metadata": {},
   "outputs": [],
   "source": [
    "#This is the url you will scrape in this exercise\n",
    "url = 'http://www.imdb.com/chart/top'"
   ]
  },
  {
   "cell_type": "code",
   "execution_count": 94,
   "metadata": {},
   "outputs": [],
   "source": [
    "#your code"
   ]
  },
  {
   "cell_type": "markdown",
   "metadata": {},
   "source": [
    "#### Find the live weather report (temperature, wind speed, description and weather) of a given city."
   ]
  },
  {
   "cell_type": "code",
   "execution_count": 95,
   "metadata": {},
   "outputs": [],
   "source": [
    "#https://openweathermap.org/current\n",
    "city = city=input('Enter the city:')\n",
    "url = 'http://api.openweathermap.org/data/2.5/weather?'+'q='+city+'&APPID=b35975e18dc93725acb092f7272cc6b8&units=metric'"
   ]
  },
  {
   "cell_type": "code",
   "execution_count": 96,
   "metadata": {},
   "outputs": [],
   "source": [
    "# your code"
   ]
  },
  {
   "cell_type": "markdown",
   "metadata": {},
   "source": [
    "#### Book name,price and stock availability as a pandas dataframe."
   ]
  },
  {
   "cell_type": "code",
   "execution_count": 97,
   "metadata": {},
   "outputs": [],
   "source": [
    "# This is the url you will scrape in this exercise. \n",
    "# It is a fictional bookstore created to be scraped. \n",
    "url = 'http://books.toscrape.com/'"
   ]
  },
  {
   "cell_type": "code",
   "execution_count": 98,
   "metadata": {},
   "outputs": [],
   "source": [
    "#your code"
   ]
  },
  {
   "cell_type": "code",
   "execution_count": null,
   "metadata": {},
   "outputs": [],
   "source": [
    "driver.quit()"
   ]
  }
 ],
 "metadata": {
  "kernelspec": {
   "display_name": "Python 3",
   "language": "python",
   "name": "python3"
  },
  "language_info": {
   "codemirror_mode": {
    "name": "ipython",
    "version": 3
   },
   "file_extension": ".py",
   "mimetype": "text/x-python",
   "name": "python",
   "nbconvert_exporter": "python",
   "pygments_lexer": "ipython3",
   "version": "3.9.7"
  }
 },
 "nbformat": 4,
 "nbformat_minor": 2
}
