{
 "cells": [
  {
   "cell_type": "markdown",
   "metadata": {},
   "source": [
    "# Web Scraping Lab\n",
    "\n",
    "You will find in this notebook some scrapy exercises to practise your scraping skills.\n",
    "\n",
    "**Tips:**\n",
    "\n",
    "- Check the response status code for each request to ensure you have obtained the intended contennt.\n",
    "- Print the response text in each request to understand the kind of info you are getting and its format.\n",
    "- Check for patterns in the response text to extract the data/info requested in each question.\n",
    "- Visit each url and take a look at its source through Chrome DevTools. You'll need to identify the html tags, special class names etc. used for the html content you are expected to extract."
   ]
  },
  {
   "cell_type": "markdown",
   "metadata": {},
   "source": [
    "# Web Scraping Lab\n",
    "\n",
    "You will find in this notebook some scrapy exercises to practise your scraping skills.\n",
    "\n",
    "**Tips:**\n",
    "\n",
    "- Check the response status code for each request to ensure you have obtained the intended contennt.\n",
    "- Print the response text in each request to understand the kind of info you are getting and its format.\n",
    "- Check for patterns in the response text to extract the data/info requested in each question.\n",
    "- Visit each url and take a look at its source through Chrome DevTools. You'll need to identify the html tags, special class names etc. used for the html content you are expected to extract."
   ]
  },
  {
   "cell_type": "markdown",
   "metadata": {},
   "source": [
    "- [Selenium Doc](https://www.selenium.dev/documentation/)\n",
    "- [Requests library](http://docs.python-requests.org/en/master/#the-user-guide) documentation \n",
    "- [Urllib](https://docs.python.org/3/library/urllib.html#module-urllib)\n",
    "- [re lib](https://docs.python.org/3/library/re.html)\n",
    "- [lxml lib](https://lxml.de/)\n",
    "- [Scrapy](https://scrapy.org/)\n",
    "- [List of HTTP status codes](https://en.wikipedia.org/wiki/List_of_HTTP_status_codes)\n",
    "- [HTML basics](http://www.simplehtmlguide.com/cheatsheet.php)\n",
    "- [CSS basics](https://www.cssbasics.com/#page_start)"
   ]
  },
  {
   "cell_type": "markdown",
   "metadata": {},
   "source": [
    "# Web Scraping Lab\n",
    "\n",
    "You will find in this notebook some scrapy exercises to practise your scraping skills.\n",
    "\n",
    "**Tips:**\n",
    "\n",
    "- Check the response status code for each request to ensure you have obtained the intended contennt.\n",
    "- Print the response text in each request to understand the kind of info you are getting and its format.\n",
    "- Check for patterns in the response text to extract the data/info requested in each question.\n",
    "- Visit each url and take a look at its source through Chrome DevTools. You'll need to identify the html tags, special class names etc. used for the html content you are expected to extract."
   ]
  },
  {
   "cell_type": "markdown",
   "metadata": {},
   "source": [
    "#### Below are the libraries and modules you may need. `Selenium` and `pandas` are imported for you."
   ]
  },
  {
   "cell_type": "code",
   "execution_count": 10,
   "metadata": {},
   "outputs": [],
   "source": [
    "import requests\n",
    "from bs4 import BeautifulSoup\n",
    "import pandas as pd\n",
    "from selenium import webdriver \n",
    "import time\n",
    "from selenium.webdriver.chrome.options import Options\n",
    "import os\n",
    "from bs4 import BeautifulSoup\n",
    "from selenium.webdriver.common.by import By\n",
    "import re"
   ]
  },
  {
   "cell_type": "code",
   "execution_count": 2,
   "metadata": {},
   "outputs": [],
   "source": [
    "opts = Options()\n",
    "\n",
    "opts.add_experimental_option('excludeSwitches', ['enable-automation'])\n",
    "opts.add_experimental_option('useAutomationExtension', False)\n",
    "opts.headless=False\n",
    "opts.add_argument('--start-maximized')         \n",
    "#opts.add_extension('driver/adblock.crx')\n",
    "dir_path = os.getcwd()\n",
    "opts.add_argument(f'user-data-dir={dir_path}/selenium') "
   ]
  },
  {
   "cell_type": "code",
   "execution_count": 3,
   "metadata": {},
   "outputs": [
    {
     "name": "stderr",
     "output_type": "stream",
     "text": [
      "\n",
      "\n",
      "====== WebDriver manager ======\n",
      "Current google-chrome version is 100.0.4896\n",
      "Get LATEST chromedriver version for 100.0.4896 google-chrome\n",
      "Driver [C:\\Users\\jgcha\\.wdm\\drivers\\chromedriver\\win32\\100.0.4896.60\\chromedriver.exe] found in cache\n"
     ]
    }
   ],
   "source": [
    "from webdriver_manager.chrome import ChromeDriverManager\n",
    "PATH=ChromeDriverManager().install()"
   ]
  },
  {
   "cell_type": "markdown",
   "metadata": {},
   "source": [
    "#### Enable the options you may need. In the next cell you have an example of them but you can choose to use them or not."
   ]
  },
  {
   "cell_type": "markdown",
   "metadata": {},
   "source": [
    "#### Download, parse, and print the content from the Trending Developers page from GitHub:"
   ]
  },
  {
   "cell_type": "code",
   "execution_count": 14,
   "metadata": {},
   "outputs": [
    {
     "name": "stderr",
     "output_type": "stream",
     "text": [
      "C:\\Users\\jgcha\\AppData\\Local\\Temp\\ipykernel_10944\\2822553269.py:4: DeprecationWarning: executable_path has been deprecated, please pass in a Service object\n",
      "  driver = webdriver.Chrome(PATH, options=opts)\n"
     ]
    }
   ],
   "source": [
    "# This is the url you will scrape in this exercise\n",
    "url = 'https://github.com/trending/developers'\n",
    "\n",
    "driver = webdriver.Chrome(PATH, options=opts)\n",
    "driver.get(url)"
   ]
  },
  {
   "cell_type": "code",
   "execution_count": 15,
   "metadata": {},
   "outputs": [
    {
     "data": {
      "text/plain": [
       "'Trending  developers on GitHub today · GitHub                                                               Skip to content                              Sign\\xa0up                                          Product                     Features           Mobile           Actions           Codespaces           Packages           Security           Code review           Issues           Integrations           GitHub Sponsors           Customer stories        Team   Enterprise             Explore        '"
      ]
     },
     "execution_count": 15,
     "metadata": {},
     "output_type": "execute_result"
    }
   ],
   "source": [
    "html = driver.page_source \n",
    "driver.quit()\n",
    "soup = BeautifulSoup(html, \"lxml\")  \n",
    "soup.text.strip().replace('\\n', ' ')[:500]"
   ]
  },
  {
   "cell_type": "markdown",
   "metadata": {},
   "source": [
    "#### Display the names of the trending developers retrieved in the previous step.\n",
    "\n",
    "Your output should be a Python list of developer names. Each name should not contain any html tag.\n",
    "\n",
    "**Instructions:**\n",
    "\n",
    "1. Find out the html tag and class names used for the developer names.\n",
    "\n",
    "1. Use string manipulation techniques to replace whitespaces and linebreaks (i.e. `\\n`) in the *text* of each html element. Use a list to store the clean names.\n",
    "\n",
    "1. Print the list of names.\n",
    "\n",
    "Your output should look like below:\n",
    "\n",
    "```\n",
    "['trimstray (@trimstray)',\n",
    " 'joewalnes (JoeWalnes)',\n",
    " 'charlax (Charles-AxelDein)',\n",
    " 'ForrestKnight (ForrestKnight)',\n",
    " 'revery-ui (revery-ui)',\n",
    " 'alibaba (Alibaba)',\n",
    " 'Microsoft (Microsoft)',\n",
    " 'github (GitHub)',\n",
    " 'facebook (Facebook)',\n",
    " 'boazsegev (Bo)',\n",
    " 'google (Google)',\n",
    " 'cloudfetch',\n",
    " 'sindresorhus (SindreSorhus)',\n",
    " 'tensorflow',\n",
    " 'apache (TheApacheSoftwareFoundation)',\n",
    " 'DevonCrawford (DevonCrawford)',\n",
    " 'ARMmbed (ArmMbed)',\n",
    " 'vuejs (vuejs)',\n",
    " 'fastai (fast.ai)',\n",
    " 'QiShaoXuan (Qi)',\n",
    " 'joelparkerhenderson (JoelParkerHenderson)',\n",
    " 'torvalds (LinusTorvalds)',\n",
    " 'CyC2018',\n",
    " 'komeiji-satori (神楽坂覚々)',\n",
    " 'script-8']\n",
    " ```"
   ]
  },
  {
   "cell_type": "code",
   "execution_count": 16,
   "metadata": {},
   "outputs": [
    {
     "name": "stderr",
     "output_type": "stream",
     "text": [
      "C:\\Users\\jgcha\\AppData\\Local\\Temp\\ipykernel_10944\\1466430251.py:3: DeprecationWarning: executable_path has been deprecated, please pass in a Service object\n",
      "  driver = webdriver.Chrome(PATH, options=opts)\n"
     ]
    }
   ],
   "source": [
    "url = 'https://github.com/trending/developers'\n",
    "\n",
    "driver = webdriver.Chrome(PATH, options=opts)\n",
    "driver.get(url)\n"
   ]
  },
  {
   "cell_type": "code",
   "execution_count": 41,
   "metadata": {},
   "outputs": [
    {
     "data": {
      "text/plain": [
       "['alvarotrigo (Álvaro)',\n",
       " 'a8m (Ariel Mashraki)',\n",
       " 'marten-seemann (Marten Seemann)',\n",
       " 'borisdayma (Boris Dayma)',\n",
       " 'AmruthPillai (Amruth Pillai)']"
      ]
     },
     "execution_count": 41,
     "metadata": {},
     "output_type": "execute_result"
    }
   ],
   "source": [
    "names = [el.text for el in driver.find_elements(by = By.CLASS_NAME, value = 'h3')]\n",
    "usernames =  [el.text for el in driver.find_elements(by = By.CLASS_NAME, value = 'f4')][2:]\n",
    "\n",
    "driver.quit()\n",
    "final_list = [f'{username} ({name})' for username, name in zip(usernames, names)]\n",
    "final_list[:5]"
   ]
  },
  {
   "cell_type": "markdown",
   "metadata": {},
   "source": [
    "#### Display the trending Python repositories in GitHub\n",
    "\n",
    "The steps to solve this problem is similar to the previous one except that you need to find out the repository names instead of developer names."
   ]
  },
  {
   "cell_type": "code",
   "execution_count": 42,
   "metadata": {},
   "outputs": [
    {
     "name": "stderr",
     "output_type": "stream",
     "text": [
      "C:\\Users\\jgcha\\AppData\\Local\\Temp\\ipykernel_10944\\1892328622.py:4: DeprecationWarning: executable_path has been deprecated, please pass in a Service object\n",
      "  driver = webdriver.Chrome(PATH, options=opts)\n"
     ]
    }
   ],
   "source": [
    "# This is the url you will scrape in this exercise\n",
    "url = 'https://github.com/trending/python?since=daily'\n",
    "\n",
    "driver = webdriver.Chrome(PATH, options=opts)\n",
    "driver.get(url)"
   ]
  },
  {
   "cell_type": "code",
   "execution_count": 69,
   "metadata": {},
   "outputs": [
    {
     "data": {
      "text/plain": [
       "['fighting41love/funNLP',\n",
       " 'Sjj1024/QiangCai',\n",
       " 'vinta/awesome-python',\n",
       " 'lucidrains/DALLE2-pytorch',\n",
       " 'mlcommons/inference']"
      ]
     },
     "execution_count": 69,
     "metadata": {},
     "output_type": "execute_result"
    }
   ],
   "source": [
    "table = driver.find_element(by = By.XPATH, value = '//*[@id=\"js-pjax-container\"]/div[3]')\n",
    "repos = table.find_elements(by = By.CLASS_NAME, value = 'h3')\n",
    "\n",
    "repo_lst = []\n",
    "for repo in repos:\n",
    "    parts = repo.text.split('/')\n",
    "    for i in range(len(parts)):\n",
    "        parts[i] = parts[i].strip()\n",
    "    repo_lst.append('/'.join(parts))\n",
    "\n",
    "driver.quit()\n",
    "repo_lst[:5]"
   ]
  },
  {
   "cell_type": "markdown",
   "metadata": {},
   "source": [
    "#### Display all the image links from Walt Disney wikipedia page"
   ]
  },
  {
   "cell_type": "code",
   "execution_count": 70,
   "metadata": {},
   "outputs": [
    {
     "name": "stderr",
     "output_type": "stream",
     "text": [
      "C:\\Users\\jgcha\\AppData\\Local\\Temp\\ipykernel_10944\\3651636151.py:3: DeprecationWarning: executable_path has been deprecated, please pass in a Service object\n",
      "  driver = webdriver.Chrome(PATH, options=opts)\n"
     ]
    }
   ],
   "source": [
    "# This is the url you will scrape in this exercise\n",
    "url = 'https://en.wikipedia.org/wiki/Walt_Disney'\n",
    "driver = webdriver.Chrome(PATH, options=opts)\n",
    "driver.get(url)"
   ]
  },
  {
   "cell_type": "code",
   "execution_count": 80,
   "metadata": {},
   "outputs": [
    {
     "data": {
      "text/plain": [
       "['https://upload.wikimedia.org/wikipedia/en/thumb/e/e7/Cscr-featured.svg/20px-Cscr-featured.svg.png',\n",
       " 'https://upload.wikimedia.org/wikipedia/en/thumb/8/8c/Extended-protection-shackle.svg/20px-Extended-protection-shackle.svg.png',\n",
       " 'https://upload.wikimedia.org/wikipedia/commons/thumb/d/df/Walt_Disney_1946.JPG/220px-Walt_Disney_1946.JPG',\n",
       " 'https://upload.wikimedia.org/wikipedia/commons/thumb/8/87/Walt_Disney_1942_signature.svg/150px-Walt_Disney_1942_signature.svg.png',\n",
       " 'https://upload.wikimedia.org/wikipedia/commons/thumb/c/c4/Walt_Disney_envelope_ca._1921.jpg/220px-Walt_Disney_envelope_ca._1921.jpg']"
      ]
     },
     "execution_count": 80,
     "metadata": {},
     "output_type": "execute_result"
    }
   ],
   "source": [
    "img_tag = driver.find_elements(by = By.TAG_NAME, value = 'img')\n",
    "imgs = [img.get_attribute('src') for img in img_tag]\n",
    "driver.quit()\n",
    "imgs[:5]"
   ]
  },
  {
   "cell_type": "markdown",
   "metadata": {},
   "source": [
    "#### Retrieve an arbitary Wikipedia page of \"Python\" and create a list of links on that page"
   ]
  },
  {
   "cell_type": "code",
   "execution_count": 91,
   "metadata": {},
   "outputs": [
    {
     "name": "stderr",
     "output_type": "stream",
     "text": [
      "C:\\Users\\jgcha\\AppData\\Local\\Temp\\ipykernel_10944\\262818671.py:3: DeprecationWarning: executable_path has been deprecated, please pass in a Service object\n",
      "  driver = webdriver.Chrome(PATH, options=opts)\n"
     ]
    }
   ],
   "source": [
    "# This is the url you will scrape in this exercise\n",
    "url ='https://en.wikipedia.org/wiki/Python' \n",
    "driver = webdriver.Chrome(PATH, options=opts)\n",
    "driver.get(url)"
   ]
  },
  {
   "cell_type": "code",
   "execution_count": 92,
   "metadata": {},
   "outputs": [
    {
     "data": {
      "text/plain": [
       "['https://en.wikipedia.org/wiki/Python#mw-head',\n",
       " 'https://en.wikipedia.org/wiki/Python#searchInput',\n",
       " 'https://en.wiktionary.org/wiki/Python',\n",
       " 'https://en.wiktionary.org/wiki/python',\n",
       " 'https://en.wikipedia.org/wiki/Pythonidae']"
      ]
     },
     "execution_count": 92,
     "metadata": {},
     "output_type": "execute_result"
    }
   ],
   "source": [
    "content = driver.find_element(by = By.ID, value = 'content')\n",
    "elements = content.find_elements(by=By.XPATH, value = \"//a[@href]\")\n",
    "links = [el.get_attribute('href') for el in elements]\n",
    "driver.quit()\n",
    "links[:5]"
   ]
  },
  {
   "cell_type": "markdown",
   "metadata": {},
   "source": [
    "#### Number of Titles that have changed in the United States Code since its last release point "
   ]
  },
  {
   "cell_type": "code",
   "execution_count": 93,
   "metadata": {},
   "outputs": [
    {
     "name": "stderr",
     "output_type": "stream",
     "text": [
      "C:\\Users\\jgcha\\AppData\\Local\\Temp\\ipykernel_10944\\1838877469.py:3: DeprecationWarning: executable_path has been deprecated, please pass in a Service object\n",
      "  driver = webdriver.Chrome(PATH, options=opts)\n"
     ]
    }
   ],
   "source": [
    "# This is the url you will scrape in this exercise\n",
    "url = 'http://uscode.house.gov/download/download.shtml'\n",
    "driver = webdriver.Chrome(PATH, options=opts)\n",
    "driver.get(url)"
   ]
  },
  {
   "cell_type": "code",
   "execution_count": 96,
   "metadata": {},
   "outputs": [
    {
     "data": {
      "text/plain": [
       "['Title 12 - Banks and Banking',\n",
       " 'Title 19 - Customs Duties',\n",
       " 'Title 22 - Foreign Relations and Intercourse']"
      ]
     },
     "execution_count": 96,
     "metadata": {},
     "output_type": "execute_result"
    }
   ],
   "source": [
    "changed_elements = driver.find_elements(by = By.CLASS_NAME, value = 'usctitlechanged')\n",
    "\n",
    "changed_titles = [ct.text.strip().replace(' ٭', '') for ct in changed_elements]\n",
    "driver.quit()\n",
    "changed_titles"
   ]
  },
  {
   "cell_type": "markdown",
   "metadata": {},
   "source": [
    "#### A Python list with the top ten FBI's Most Wanted names "
   ]
  },
  {
   "cell_type": "code",
   "execution_count": 97,
   "metadata": {},
   "outputs": [
    {
     "name": "stderr",
     "output_type": "stream",
     "text": [
      "C:\\Users\\jgcha\\AppData\\Local\\Temp\\ipykernel_10944\\4199185878.py:3: DeprecationWarning: executable_path has been deprecated, please pass in a Service object\n",
      "  driver = webdriver.Chrome(PATH, options=opts)\n"
     ]
    }
   ],
   "source": [
    "# This is the url you will scrape in this exercise\n",
    "url = 'https://www.fbi.gov/wanted/topten'\n",
    "driver = webdriver.Chrome(PATH, options=opts)\n",
    "driver.get(url)"
   ]
  },
  {
   "cell_type": "code",
   "execution_count": 106,
   "metadata": {},
   "outputs": [
    {
     "data": {
      "text/plain": [
       "['RAFAEL CARO-QUINTERO',\n",
       " 'YULAN ADONAY ARCHAGA CARIAS',\n",
       " 'EUGENE PALMER',\n",
       " 'BHADRESHKUMAR CHETANBHAI PATEL',\n",
       " 'ALEJANDRO ROSALES CASTILLO',\n",
       " 'ARNOLDO JIMENEZ',\n",
       " 'JASON DEREK BROWN',\n",
       " 'ALEXIS FLORES',\n",
       " 'JOSE RODOLFO VILLARREAL-HERNANDEZ',\n",
       " 'OCTAVIANO JUAREZ-CORRO']"
      ]
     },
     "execution_count": 106,
     "metadata": {},
     "output_type": "execute_result"
    }
   ],
   "source": [
    "h3_tag = driver.find_element(by = By.XPATH, value = '//*[@id=\"query-results-0f737222c5054a81a120bce207b0446a\"]/ul')\n",
    "topten = h3_tag.text.split('\\n')\n",
    "driver.quit()\n",
    "topten"
   ]
  },
  {
   "cell_type": "markdown",
   "metadata": {},
   "source": [
    "####  20 latest earthquakes info (date, time, latitude, longitude and region name) by the EMSC as a pandas dataframe"
   ]
  },
  {
   "cell_type": "code",
   "execution_count": 107,
   "metadata": {},
   "outputs": [
    {
     "name": "stderr",
     "output_type": "stream",
     "text": [
      "C:\\Users\\jgcha\\AppData\\Local\\Temp\\ipykernel_10944\\350477466.py:3: DeprecationWarning: executable_path has been deprecated, please pass in a Service object\n",
      "  driver = webdriver.Chrome(PATH, options=opts)\n"
     ]
    }
   ],
   "source": [
    "# This is the url you will scrape in this exercise\n",
    "url = 'https://www.emsc-csem.org/Earthquake/'\n",
    "driver = webdriver.Chrome(PATH, options=opts)\n",
    "driver.get(url)"
   ]
  },
  {
   "cell_type": "code",
   "execution_count": 151,
   "metadata": {},
   "outputs": [
    {
     "ename": "NoSuchElementException",
     "evalue": "Message: no such element: Unable to locate element: {\"method\":\"xpath\",\"selector\":\"//*[@id=\"tbody\"]\"}\n  (Session info: chrome=100.0.4896.88)\nStacktrace:\nBacktrace:\n\tOrdinal0 [0x00487413+2389011]\n\tOrdinal0 [0x00419F61+1941345]\n\tOrdinal0 [0x0030C658+837208]\n\tOrdinal0 [0x003391DD+1020381]\n\tOrdinal0 [0x0033949B+1021083]\n\tOrdinal0 [0x00366032+1204274]\n\tOrdinal0 [0x00354194+1130900]\n\tOrdinal0 [0x00364302+1196802]\n\tOrdinal0 [0x00353F66+1130342]\n\tOrdinal0 [0x0032E546+976198]\n\tOrdinal0 [0x0032F456+980054]\n\tGetHandleVerifier [0x00639632+1727522]\n\tGetHandleVerifier [0x006EBA4D+2457661]\n\tGetHandleVerifier [0x0051EB81+569713]\n\tGetHandleVerifier [0x0051DD76+566118]\n\tOrdinal0 [0x00420B2B+1968939]\n\tOrdinal0 [0x00425988+1989000]\n\tOrdinal0 [0x00425A75+1989237]\n\tOrdinal0 [0x0042ECB1+2026673]\n\tBaseThreadInitThunk [0x75AA6739+25]\n\tRtlGetFullPathName_UEx [0x77A18E7F+1215]\n\tRtlGetFullPathName_UEx [0x77A18E4D+1165]\n",
     "output_type": "error",
     "traceback": [
      "\u001b[1;31m---------------------------------------------------------------------------\u001b[0m",
      "\u001b[1;31mNoSuchElementException\u001b[0m                    Traceback (most recent call last)",
      "\u001b[1;32mc:\\Users\\jgcha\\Desktop\\IronHack\\Semana 4\\4.3-lab-web-scraping-selenium\\your-code\\main.ipynb Cell 31'\u001b[0m in \u001b[0;36m<module>\u001b[1;34m\u001b[0m\n\u001b[1;32m----> <a href='vscode-notebook-cell:/c%3A/Users/jgcha/Desktop/IronHack/Semana%204/4.3-lab-web-scraping-selenium/your-code/main.ipynb#ch0000029?line=0'>1</a>\u001b[0m table \u001b[39m=\u001b[39m driver\u001b[39m.\u001b[39;49mfind_element(by \u001b[39m=\u001b[39;49m By\u001b[39m.\u001b[39;49mXPATH, value \u001b[39m=\u001b[39;49m \u001b[39m'\u001b[39;49m\u001b[39m//*[@id=\u001b[39;49m\u001b[39m\"\u001b[39;49m\u001b[39mtbody\u001b[39;49m\u001b[39m\"\u001b[39;49m\u001b[39m]\u001b[39;49m\u001b[39m'\u001b[39;49m)\n\u001b[0;32m      <a href='vscode-notebook-cell:/c%3A/Users/jgcha/Desktop/IronHack/Semana%204/4.3-lab-web-scraping-selenium/your-code/main.ipynb#ch0000029?line=1'>2</a>\u001b[0m rows \u001b[39m=\u001b[39m table\u001b[39m.\u001b[39mfind_elements(by \u001b[39m=\u001b[39m By\u001b[39m.\u001b[39mTAG_NAME, value \u001b[39m=\u001b[39m \u001b[39m'\u001b[39m\u001b[39mtr\u001b[39m\u001b[39m'\u001b[39m)\n\u001b[0;32m      <a href='vscode-notebook-cell:/c%3A/Users/jgcha/Desktop/IronHack/Semana%204/4.3-lab-web-scraping-selenium/your-code/main.ipynb#ch0000029?line=3'>4</a>\u001b[0m data \u001b[39m=\u001b[39m []\n",
      "File \u001b[1;32m~\\AppData\\Local\\Programs\\Python\\Python39\\lib\\site-packages\\selenium\\webdriver\\remote\\webdriver.py:1248\u001b[0m, in \u001b[0;36mWebDriver.find_element\u001b[1;34m(self, by, value)\u001b[0m\n\u001b[0;32m   <a href='file:///c%3A/Users/jgcha/AppData/Local/Programs/Python/Python39/lib/site-packages/selenium/webdriver/remote/webdriver.py?line=1244'>1245</a>\u001b[0m     by \u001b[39m=\u001b[39m By\u001b[39m.\u001b[39mCSS_SELECTOR\n\u001b[0;32m   <a href='file:///c%3A/Users/jgcha/AppData/Local/Programs/Python/Python39/lib/site-packages/selenium/webdriver/remote/webdriver.py?line=1245'>1246</a>\u001b[0m     value \u001b[39m=\u001b[39m \u001b[39m'\u001b[39m\u001b[39m[name=\u001b[39m\u001b[39m\"\u001b[39m\u001b[39m%s\u001b[39;00m\u001b[39m\"\u001b[39m\u001b[39m]\u001b[39m\u001b[39m'\u001b[39m \u001b[39m%\u001b[39m value\n\u001b[1;32m-> <a href='file:///c%3A/Users/jgcha/AppData/Local/Programs/Python/Python39/lib/site-packages/selenium/webdriver/remote/webdriver.py?line=1247'>1248</a>\u001b[0m \u001b[39mreturn\u001b[39;00m \u001b[39mself\u001b[39;49m\u001b[39m.\u001b[39;49mexecute(Command\u001b[39m.\u001b[39;49mFIND_ELEMENT, {\n\u001b[0;32m   <a href='file:///c%3A/Users/jgcha/AppData/Local/Programs/Python/Python39/lib/site-packages/selenium/webdriver/remote/webdriver.py?line=1248'>1249</a>\u001b[0m     \u001b[39m'\u001b[39;49m\u001b[39musing\u001b[39;49m\u001b[39m'\u001b[39;49m: by,\n\u001b[0;32m   <a href='file:///c%3A/Users/jgcha/AppData/Local/Programs/Python/Python39/lib/site-packages/selenium/webdriver/remote/webdriver.py?line=1249'>1250</a>\u001b[0m     \u001b[39m'\u001b[39;49m\u001b[39mvalue\u001b[39;49m\u001b[39m'\u001b[39;49m: value})[\u001b[39m'\u001b[39m\u001b[39mvalue\u001b[39m\u001b[39m'\u001b[39m]\n",
      "File \u001b[1;32m~\\AppData\\Local\\Programs\\Python\\Python39\\lib\\site-packages\\selenium\\webdriver\\remote\\webdriver.py:425\u001b[0m, in \u001b[0;36mWebDriver.execute\u001b[1;34m(self, driver_command, params)\u001b[0m\n\u001b[0;32m    <a href='file:///c%3A/Users/jgcha/AppData/Local/Programs/Python/Python39/lib/site-packages/selenium/webdriver/remote/webdriver.py?line=422'>423</a>\u001b[0m response \u001b[39m=\u001b[39m \u001b[39mself\u001b[39m\u001b[39m.\u001b[39mcommand_executor\u001b[39m.\u001b[39mexecute(driver_command, params)\n\u001b[0;32m    <a href='file:///c%3A/Users/jgcha/AppData/Local/Programs/Python/Python39/lib/site-packages/selenium/webdriver/remote/webdriver.py?line=423'>424</a>\u001b[0m \u001b[39mif\u001b[39;00m response:\n\u001b[1;32m--> <a href='file:///c%3A/Users/jgcha/AppData/Local/Programs/Python/Python39/lib/site-packages/selenium/webdriver/remote/webdriver.py?line=424'>425</a>\u001b[0m     \u001b[39mself\u001b[39;49m\u001b[39m.\u001b[39;49merror_handler\u001b[39m.\u001b[39;49mcheck_response(response)\n\u001b[0;32m    <a href='file:///c%3A/Users/jgcha/AppData/Local/Programs/Python/Python39/lib/site-packages/selenium/webdriver/remote/webdriver.py?line=425'>426</a>\u001b[0m     response[\u001b[39m'\u001b[39m\u001b[39mvalue\u001b[39m\u001b[39m'\u001b[39m] \u001b[39m=\u001b[39m \u001b[39mself\u001b[39m\u001b[39m.\u001b[39m_unwrap_value(\n\u001b[0;32m    <a href='file:///c%3A/Users/jgcha/AppData/Local/Programs/Python/Python39/lib/site-packages/selenium/webdriver/remote/webdriver.py?line=426'>427</a>\u001b[0m         response\u001b[39m.\u001b[39mget(\u001b[39m'\u001b[39m\u001b[39mvalue\u001b[39m\u001b[39m'\u001b[39m, \u001b[39mNone\u001b[39;00m))\n\u001b[0;32m    <a href='file:///c%3A/Users/jgcha/AppData/Local/Programs/Python/Python39/lib/site-packages/selenium/webdriver/remote/webdriver.py?line=427'>428</a>\u001b[0m     \u001b[39mreturn\u001b[39;00m response\n",
      "File \u001b[1;32m~\\AppData\\Local\\Programs\\Python\\Python39\\lib\\site-packages\\selenium\\webdriver\\remote\\errorhandler.py:247\u001b[0m, in \u001b[0;36mErrorHandler.check_response\u001b[1;34m(self, response)\u001b[0m\n\u001b[0;32m    <a href='file:///c%3A/Users/jgcha/AppData/Local/Programs/Python/Python39/lib/site-packages/selenium/webdriver/remote/errorhandler.py?line=244'>245</a>\u001b[0m         alert_text \u001b[39m=\u001b[39m value[\u001b[39m'\u001b[39m\u001b[39malert\u001b[39m\u001b[39m'\u001b[39m]\u001b[39m.\u001b[39mget(\u001b[39m'\u001b[39m\u001b[39mtext\u001b[39m\u001b[39m'\u001b[39m)\n\u001b[0;32m    <a href='file:///c%3A/Users/jgcha/AppData/Local/Programs/Python/Python39/lib/site-packages/selenium/webdriver/remote/errorhandler.py?line=245'>246</a>\u001b[0m     \u001b[39mraise\u001b[39;00m exception_class(message, screen, stacktrace, alert_text)  \u001b[39m# type: ignore[call-arg]  # mypy is not smart enough here\u001b[39;00m\n\u001b[1;32m--> <a href='file:///c%3A/Users/jgcha/AppData/Local/Programs/Python/Python39/lib/site-packages/selenium/webdriver/remote/errorhandler.py?line=246'>247</a>\u001b[0m \u001b[39mraise\u001b[39;00m exception_class(message, screen, stacktrace)\n",
      "\u001b[1;31mNoSuchElementException\u001b[0m: Message: no such element: Unable to locate element: {\"method\":\"xpath\",\"selector\":\"//*[@id=\"tbody\"]\"}\n  (Session info: chrome=100.0.4896.88)\nStacktrace:\nBacktrace:\n\tOrdinal0 [0x00487413+2389011]\n\tOrdinal0 [0x00419F61+1941345]\n\tOrdinal0 [0x0030C658+837208]\n\tOrdinal0 [0x003391DD+1020381]\n\tOrdinal0 [0x0033949B+1021083]\n\tOrdinal0 [0x00366032+1204274]\n\tOrdinal0 [0x00354194+1130900]\n\tOrdinal0 [0x00364302+1196802]\n\tOrdinal0 [0x00353F66+1130342]\n\tOrdinal0 [0x0032E546+976198]\n\tOrdinal0 [0x0032F456+980054]\n\tGetHandleVerifier [0x00639632+1727522]\n\tGetHandleVerifier [0x006EBA4D+2457661]\n\tGetHandleVerifier [0x0051EB81+569713]\n\tGetHandleVerifier [0x0051DD76+566118]\n\tOrdinal0 [0x00420B2B+1968939]\n\tOrdinal0 [0x00425988+1989000]\n\tOrdinal0 [0x00425A75+1989237]\n\tOrdinal0 [0x0042ECB1+2026673]\n\tBaseThreadInitThunk [0x75AA6739+25]\n\tRtlGetFullPathName_UEx [0x77A18E7F+1215]\n\tRtlGetFullPathName_UEx [0x77A18E4D+1165]\n"
     ]
    }
   ],
   "source": [
    "table = driver.find_element(by = By.XPATH, value = '//*[@id=\"tbody\"]')\n",
    "rows = table.find_elements(by = By.TAG_NAME, value = 'tr')\n",
    "\n",
    "data = []\n",
    "for r in rows:\n",
    "    elems = r.find_elements(by = By.TAG_NAME, value = 'td')\n",
    "    r_lst = [el.text for el in elems]\n",
    "    # Select only desired indices\n",
    "    indices = [3, 4, 5, 6, 7, 8, 10, 11]\n",
    "    clean_r_lst = [r_lst[i].strip() for i in indices]\n",
    "    data.append(clean_r_lst)\n"
   ]
  },
  {
   "cell_type": "code",
   "execution_count": 136,
   "metadata": {},
   "outputs": [
    {
     "data": {
      "text/html": [
       "<div>\n",
       "<style scoped>\n",
       "    .dataframe tbody tr th:only-of-type {\n",
       "        vertical-align: middle;\n",
       "    }\n",
       "\n",
       "    .dataframe tbody tr th {\n",
       "        vertical-align: top;\n",
       "    }\n",
       "\n",
       "    .dataframe thead th {\n",
       "        text-align: right;\n",
       "    }\n",
       "</style>\n",
       "<table border=\"1\" class=\"dataframe\">\n",
       "  <thead>\n",
       "    <tr style=\"text-align: right;\">\n",
       "      <th></th>\n",
       "      <th>datetime</th>\n",
       "      <th>lat</th>\n",
       "      <th>lat_dir</th>\n",
       "      <th>long</th>\n",
       "      <th>long_dir</th>\n",
       "      <th>depth</th>\n",
       "      <th>mag</th>\n",
       "      <th>location</th>\n",
       "    </tr>\n",
       "  </thead>\n",
       "  <tbody>\n",
       "    <tr>\n",
       "      <th>0</th>\n",
       "      <td>2022-04-13   14:29:14.0</td>\n",
       "      <td>1.85</td>\n",
       "      <td>N</td>\n",
       "      <td>127.42</td>\n",
       "      <td>E</td>\n",
       "      <td>109</td>\n",
       "      <td>3.5</td>\n",
       "      <td>HALMAHERA, INDONESIA</td>\n",
       "    </tr>\n",
       "    <tr>\n",
       "      <th>1</th>\n",
       "      <td>2022-04-13   14:23:10.1</td>\n",
       "      <td>55.54</td>\n",
       "      <td>N</td>\n",
       "      <td>160.52</td>\n",
       "      <td>W</td>\n",
       "      <td>10</td>\n",
       "      <td>4.8</td>\n",
       "      <td>ALASKA PENINSULA</td>\n",
       "    </tr>\n",
       "    <tr>\n",
       "      <th>2</th>\n",
       "      <td>2022-04-13   13:28:32.6</td>\n",
       "      <td>37.07</td>\n",
       "      <td>N</td>\n",
       "      <td>5.63</td>\n",
       "      <td>W</td>\n",
       "      <td>5</td>\n",
       "      <td>3.0</td>\n",
       "      <td>SPAIN</td>\n",
       "    </tr>\n",
       "    <tr>\n",
       "      <th>3</th>\n",
       "      <td>2022-04-13   13:09:55.1</td>\n",
       "      <td>41.06</td>\n",
       "      <td>N</td>\n",
       "      <td>6.87</td>\n",
       "      <td>W</td>\n",
       "      <td>26</td>\n",
       "      <td>2.0</td>\n",
       "      <td>PORTUGAL</td>\n",
       "    </tr>\n",
       "    <tr>\n",
       "      <th>4</th>\n",
       "      <td>2022-04-13   13:04:59.2</td>\n",
       "      <td>43.73</td>\n",
       "      <td>N</td>\n",
       "      <td>7.78</td>\n",
       "      <td>W</td>\n",
       "      <td>17</td>\n",
       "      <td>2.2</td>\n",
       "      <td>SPAIN</td>\n",
       "    </tr>\n",
       "  </tbody>\n",
       "</table>\n",
       "</div>"
      ],
      "text/plain": [
       "                  datetime    lat lat_dir    long long_dir depth  mag  \\\n",
       "0  2022-04-13   14:29:14.0   1.85       N  127.42        E   109  3.5   \n",
       "1  2022-04-13   14:23:10.1  55.54       N  160.52        W    10  4.8   \n",
       "2  2022-04-13   13:28:32.6  37.07       N    5.63        W     5  3.0   \n",
       "3  2022-04-13   13:09:55.1  41.06       N    6.87        W    26  2.0   \n",
       "4  2022-04-13   13:04:59.2  43.73       N    7.78        W    17  2.2   \n",
       "\n",
       "               location  \n",
       "0  HALMAHERA, INDONESIA  \n",
       "1      ALASKA PENINSULA  \n",
       "2                 SPAIN  \n",
       "3              PORTUGAL  \n",
       "4                 SPAIN  "
      ]
     },
     "execution_count": 136,
     "metadata": {},
     "output_type": "execute_result"
    }
   ],
   "source": [
    "earthquake_df = pd.DataFrame(data, columns = ['datetime', 'lat', 'lat_dir', 'long', 'long_dir', 'depth', 'mag', 'location'])\n",
    "\n",
    "# Clean datetime column\n",
    "earthquake_df['datetime'] = [c.split('\\n')[0] for c in earthquake_df['datetime']]\n",
    "\n",
    "driver.quit()\n",
    "earthquake_df[:5]"
   ]
  },
  {
   "cell_type": "markdown",
   "metadata": {},
   "source": [
    "#### Count number of tweets by a given Twitter account."
   ]
  },
  {
   "cell_type": "markdown",
   "metadata": {},
   "source": [
    "You will need to include a ***try/except block*** for account names not found. \n",
    "<br>***Hint:*** the program should count the number of tweets for any provided account"
   ]
  },
  {
   "cell_type": "code",
   "execution_count": 147,
   "metadata": {},
   "outputs": [
    {
     "name": "stderr",
     "output_type": "stream",
     "text": [
      "C:\\Users\\jgcha\\AppData\\Local\\Temp\\ipykernel_10944\\1812681687.py:6: DeprecationWarning: executable_path has been deprecated, please pass in a Service object\n",
      "  driver = webdriver.Chrome(PATH, options=opts)\n"
     ]
    }
   ],
   "source": [
    "# This is the url you will scrape in this exercise \n",
    "# You will need to add the account credentials to this url\n",
    "\n",
    "username = '32497324893274983270948723904'\n",
    "url = 'https://twitter.com/' + username\n",
    "driver = webdriver.Chrome(PATH, options=opts)\n",
    "driver.get(url)"
   ]
  },
  {
   "cell_type": "code",
   "execution_count": 149,
   "metadata": {},
   "outputs": [
    {
     "name": "stdout",
     "output_type": "stream",
     "text": [
      "User does not exist\n"
     ]
    }
   ],
   "source": [
    "try:\n",
    "    n_tweets = driver.find_element(by = By.XPATH, value = '//*[@id=\"react-root\"]/div/div/div[2]/main/div/div/div/div[1]/div/div[1]/div[1]/div/div/div/div/div[2]/div/div').text\n",
    "    driver.quit()\n",
    "    print(n_tweets)\n",
    "except:\n",
    "    print('User does not exist')\n",
    "    driver.quit()"
   ]
  },
  {
   "cell_type": "markdown",
   "metadata": {},
   "source": [
    "#### Number of followers of a given twitter account"
   ]
  },
  {
   "cell_type": "markdown",
   "metadata": {},
   "source": [
    "You will need to include a ***try/except block*** in case account/s name not found. \n",
    "<br>***Hint:*** the program should count the followers for any provided account"
   ]
  },
  {
   "cell_type": "code",
   "execution_count": 150,
   "metadata": {},
   "outputs": [
    {
     "name": "stderr",
     "output_type": "stream",
     "text": [
      "C:\\Users\\jgcha\\AppData\\Local\\Temp\\ipykernel_10944\\6533714.py:5: DeprecationWarning: executable_path has been deprecated, please pass in a Service object\n",
      "  driver = webdriver.Chrome(PATH, options=opts)\n"
     ]
    }
   ],
   "source": [
    "# This is the url you will scrape in this exercise \n",
    "# You will need to add the account credentials to this url\n",
    "username = 'albertomoreeno4'\n",
    "url = 'https://twitter.com/' + username\n",
    "driver = webdriver.Chrome(PATH, options=opts)\n",
    "driver.get(url)"
   ]
  },
  {
   "cell_type": "code",
   "execution_count": 158,
   "metadata": {},
   "outputs": [
    {
     "name": "stdout",
     "output_type": "stream",
     "text": [
      "360 followers\n"
     ]
    }
   ],
   "source": [
    "try:\n",
    "    followers = driver.find_element(by = By.XPATH, value = '//*[@id=\"react-root\"]/div/div/div[2]/main/div/div/div/div/div/div[2]/div/div/div/div/div[4]/div[2]/a/span[1]/span')\n",
    "    n_followers = followers.text + ' followers'\n",
    "    print(n_followers)\n",
    "    driver.quit()\n",
    "except:\n",
    "    print('User does not exist')\n",
    "    driver.quit()"
   ]
  },
  {
   "cell_type": "markdown",
   "metadata": {},
   "source": [
    "#### List all language names and number of related articles in the order they appear in wikipedia.org"
   ]
  },
  {
   "cell_type": "code",
   "execution_count": 174,
   "metadata": {},
   "outputs": [
    {
     "name": "stderr",
     "output_type": "stream",
     "text": [
      "C:\\Users\\jgcha\\AppData\\Local\\Temp\\ipykernel_10944\\3330974238.py:3: DeprecationWarning: executable_path has been deprecated, please pass in a Service object\n",
      "  driver = webdriver.Chrome(PATH, options=opts)\n"
     ]
    }
   ],
   "source": [
    "# This is the url you will scrape in this exercise\n",
    "url = 'https://www.wikipedia.org/'\n",
    "driver = webdriver.Chrome(PATH, options=opts)\n",
    "driver.get(url)"
   ]
  },
  {
   "cell_type": "code",
   "execution_count": 169,
   "metadata": {},
   "outputs": [
    {
     "data": {
      "text/plain": [
       "['Español 1 755 000+ artículos',\n",
       " 'English 6 458 000+ articles',\n",
       " 'Русский 1 798 000+ статей',\n",
       " '日本語 1 314 000+ 記事',\n",
       " 'Deutsch 2 667 000+ Artikel']"
      ]
     },
     "execution_count": 169,
     "metadata": {},
     "output_type": "execute_result"
    }
   ],
   "source": [
    "central_box = driver.find_element(by = By.XPATH, value = '//*[@id=\"www-wikipedia-org\"]/div[2]')\n",
    "lang_boxes = central_box.find_elements(by = By.TAG_NAME, value = 'a')\n",
    "langs = [b.text.replace('\\n', ' ') for b in lang_boxes]\n",
    "driver.quit()\n",
    "langs[:5]"
   ]
  },
  {
   "cell_type": "markdown",
   "metadata": {},
   "source": [
    "#### A list with the different kind of datasets available in data.gov.uk "
   ]
  },
  {
   "cell_type": "code",
   "execution_count": 170,
   "metadata": {},
   "outputs": [
    {
     "name": "stderr",
     "output_type": "stream",
     "text": [
      "C:\\Users\\jgcha\\AppData\\Local\\Temp\\ipykernel_10944\\3885857341.py:3: DeprecationWarning: executable_path has been deprecated, please pass in a Service object\n",
      "  driver = webdriver.Chrome(PATH, options=opts)\n"
     ]
    }
   ],
   "source": [
    "# This is the url you will scrape in this exercise\n",
    "url = 'https://data.gov.uk/'\n",
    "driver = webdriver.Chrome(PATH, options=opts)\n",
    "driver.get(url)"
   ]
  },
  {
   "cell_type": "code",
   "execution_count": 173,
   "metadata": {},
   "outputs": [
    {
     "data": {
      "text/plain": [
       "['Business and economy',\n",
       " 'Crime and justice',\n",
       " 'Defence',\n",
       " 'Education',\n",
       " 'Environment']"
      ]
     },
     "execution_count": 173,
     "metadata": {},
     "output_type": "execute_result"
    }
   ],
   "source": [
    "links_raw = driver.find_elements(by = By.CLASS_NAME, value = 'govuk-link')[4:]\n",
    "links = [l.text for l in links_raw]\n",
    "driver.quit()\n",
    "links[:5]"
   ]
  },
  {
   "cell_type": "markdown",
   "metadata": {},
   "source": [
    "#### Top 10 languages by number of native speakers stored in a Pandas Dataframe"
   ]
  },
  {
   "cell_type": "code",
   "execution_count": 175,
   "metadata": {},
   "outputs": [
    {
     "name": "stderr",
     "output_type": "stream",
     "text": [
      "C:\\Users\\jgcha\\AppData\\Local\\Temp\\ipykernel_10944\\3952997884.py:3: DeprecationWarning: executable_path has been deprecated, please pass in a Service object\n",
      "  driver = webdriver.Chrome(PATH, options=opts)\n"
     ]
    }
   ],
   "source": [
    "# This is the url you will scrape in this exercise\n",
    "url = 'https://en.wikipedia.org/wiki/List_of_languages_by_number_of_native_speakers'\n",
    "driver = webdriver.Chrome(PATH, options=opts)\n",
    "driver.get(url)"
   ]
  },
  {
   "cell_type": "code",
   "execution_count": 186,
   "metadata": {},
   "outputs": [
    {
     "ename": "NameError",
     "evalue": "name 'drive' is not defined",
     "output_type": "error",
     "traceback": [
      "\u001b[1;31m---------------------------------------------------------------------------\u001b[0m",
      "\u001b[1;31mNameError\u001b[0m                                 Traceback (most recent call last)",
      "\u001b[1;32mc:\\Users\\jgcha\\Desktop\\IronHack\\Semana 4\\4.3-lab-web-scraping-selenium\\your-code\\main.ipynb Cell 49'\u001b[0m in \u001b[0;36m<module>\u001b[1;34m\u001b[0m\n\u001b[0;32m      <a href='vscode-notebook-cell:/c%3A/Users/jgcha/Desktop/IronHack/Semana%204/4.3-lab-web-scraping-selenium/your-code/main.ipynb#ch0000046?line=6'>7</a>\u001b[0m     r_lst \u001b[39m=\u001b[39m [el\u001b[39m.\u001b[39mtext \u001b[39mfor\u001b[39;00m el \u001b[39min\u001b[39;00m elems]\n\u001b[0;32m      <a href='vscode-notebook-cell:/c%3A/Users/jgcha/Desktop/IronHack/Semana%204/4.3-lab-web-scraping-selenium/your-code/main.ipynb#ch0000046?line=7'>8</a>\u001b[0m     data\u001b[39m.\u001b[39mappend(r_lst)\n\u001b[1;32m---> <a href='vscode-notebook-cell:/c%3A/Users/jgcha/Desktop/IronHack/Semana%204/4.3-lab-web-scraping-selenium/your-code/main.ipynb#ch0000046?line=9'>10</a>\u001b[0m drive\u001b[39m-\u001b[39mquit()\n",
      "\u001b[1;31mNameError\u001b[0m: name 'drive' is not defined"
     ]
    }
   ],
   "source": [
    "table = driver.find_element(by = By.XPATH, value = '//*[@id=\"mw-content-text\"]/div[1]/table[2]')\n",
    "rows = table.find_elements(by = By.TAG_NAME, value = 'tr')\n",
    "\n",
    "data = []\n",
    "for r in rows:\n",
    "    elems = r.find_elements(by = By.TAG_NAME, value = 'td')\n",
    "    r_lst = [el.text for el in elems]\n",
    "    data.append(r_lst)\n",
    "\n",
    "driver.quit()"
   ]
  },
  {
   "cell_type": "code",
   "execution_count": 185,
   "metadata": {},
   "outputs": [
    {
     "data": {
      "text/html": [
       "<div>\n",
       "<style scoped>\n",
       "    .dataframe tbody tr th:only-of-type {\n",
       "        vertical-align: middle;\n",
       "    }\n",
       "\n",
       "    .dataframe tbody tr th {\n",
       "        vertical-align: top;\n",
       "    }\n",
       "\n",
       "    .dataframe thead th {\n",
       "        text-align: right;\n",
       "    }\n",
       "</style>\n",
       "<table border=\"1\" class=\"dataframe\">\n",
       "  <thead>\n",
       "    <tr style=\"text-align: right;\">\n",
       "      <th></th>\n",
       "      <th>rank</th>\n",
       "      <th>language</th>\n",
       "      <th>speakers</th>\n",
       "      <th>perc</th>\n",
       "      <th>family</th>\n",
       "      <th>branch</th>\n",
       "    </tr>\n",
       "  </thead>\n",
       "  <tbody>\n",
       "    <tr>\n",
       "      <th>0</th>\n",
       "      <td>1</td>\n",
       "      <td>Mandarin Chinese</td>\n",
       "      <td>918</td>\n",
       "      <td>11.922%</td>\n",
       "      <td>Sino-Tibetan</td>\n",
       "      <td>Sinitic</td>\n",
       "    </tr>\n",
       "    <tr>\n",
       "      <th>1</th>\n",
       "      <td>2</td>\n",
       "      <td>Spanish</td>\n",
       "      <td>480</td>\n",
       "      <td>5.994%</td>\n",
       "      <td>Indo-European</td>\n",
       "      <td>Romance</td>\n",
       "    </tr>\n",
       "    <tr>\n",
       "      <th>2</th>\n",
       "      <td>3</td>\n",
       "      <td>English</td>\n",
       "      <td>379</td>\n",
       "      <td>4.922%</td>\n",
       "      <td>Indo-European</td>\n",
       "      <td>Germanic</td>\n",
       "    </tr>\n",
       "    <tr>\n",
       "      <th>3</th>\n",
       "      <td>4</td>\n",
       "      <td>Hindi (sanskritised Hindustani)[11]</td>\n",
       "      <td>341</td>\n",
       "      <td>4.429%</td>\n",
       "      <td>Indo-European</td>\n",
       "      <td>Indo-Aryan</td>\n",
       "    </tr>\n",
       "    <tr>\n",
       "      <th>4</th>\n",
       "      <td>5</td>\n",
       "      <td>Bengali</td>\n",
       "      <td>300</td>\n",
       "      <td>4.000%</td>\n",
       "      <td>Indo-European</td>\n",
       "      <td>Indo-Aryan</td>\n",
       "    </tr>\n",
       "  </tbody>\n",
       "</table>\n",
       "</div>"
      ],
      "text/plain": [
       "  rank                             language speakers     perc         family  \\\n",
       "0    1                     Mandarin Chinese      918  11.922%   Sino-Tibetan   \n",
       "1    2                              Spanish      480   5.994%  Indo-European   \n",
       "2    3                              English      379   4.922%  Indo-European   \n",
       "3    4  Hindi (sanskritised Hindustani)[11]      341   4.429%  Indo-European   \n",
       "4    5                              Bengali      300   4.000%  Indo-European   \n",
       "\n",
       "       branch  \n",
       "0     Sinitic  \n",
       "1     Romance  \n",
       "2    Germanic  \n",
       "3  Indo-Aryan  \n",
       "4  Indo-Aryan  "
      ]
     },
     "execution_count": 185,
     "metadata": {},
     "output_type": "execute_result"
    }
   ],
   "source": [
    "colnames = ['rank', 'language', 'speakers', 'perc', 'family', 'branch']\n",
    "rows = data[1:]\n",
    "\n",
    "df = pd.DataFrame(rows, columns=colnames)\n",
    "df.head()"
   ]
  },
  {
   "cell_type": "markdown",
   "metadata": {},
   "source": [
    "### BONUS QUESTIONS"
   ]
  },
  {
   "cell_type": "markdown",
   "metadata": {},
   "source": [
    "#### Scrape a certain number of tweets of a given Twitter account."
   ]
  },
  {
   "cell_type": "code",
   "execution_count": 98,
   "metadata": {},
   "outputs": [
    {
     "name": "stderr",
     "output_type": "stream",
     "text": [
      "C:\\Users\\jgcha\\AppData\\Local\\Temp\\ipykernel_16888\\2158555079.py:3: DeprecationWarning: executable_path has been deprecated, please pass in a Service object\n",
      "  driver = webdriver.Chrome(PATH, options=opts)\n"
     ]
    }
   ],
   "source": [
    "username = 'albertomoreeno4'\n",
    "url = 'https://twitter.com/' + username\n",
    "driver = webdriver.Chrome(PATH, options=opts)\n",
    "driver.get(url)"
   ]
  },
  {
   "cell_type": "code",
   "execution_count": 99,
   "metadata": {},
   "outputs": [
    {
     "data": {
      "text/plain": [
       "['Alberto - · - 31 dic. 2020 - Cuantas gotas tienen que caer para saber que está lloviendo',\n",
       " 'Alberto - · - 18 mar. - Puede mi vecina dejar de grítale cornudo a su marido, YA ME HE ENTERADO',\n",
       " 'Alberto lo retwitteó - 𝓟𝓪𝓾𝓵𝓪 - · - 14 feb. - Alberto',\n",
       " 'Alberto - · - 11 feb. - Vaya pedazo de regalo me ha hecho mi novia ',\n",
       " 'Alberto - · - 7 ene. - Vaya pedazo regalos me han hecho ',\n",
       " 'Alberto - · - 5 ene. - Como cojones escribo 800 palabras de conclusión sobre los tatuajes, gracias Dionisio',\n",
       " 'Alberto lo retwitteó - Ibai - · - 15 dic. 2021 - Dando RT a este tweet y siguiendo a @SquadKoi y a  @CUPRA_esp  en Instagram participáis en el sorteo del nuevo coche de Cupra.   Damos el ganador esta misma noche.',\n",
       " 'Alberto - · - 3 dic. 2021 - Que te traten como si fueses de su familia >>>>',\n",
       " 'Alberto lo retwitteó - 𝓟𝓪𝓾𝓵𝓪 - · - 22 nov. 2021 - Se ha ido hace un ratito y ya lo echo de menos ',\n",
       " 'Alberto lo retwitteó - nor - · - 18 oct. 2021 - nada más real q mirarte y sentirlo to sin hablar']"
      ]
     },
     "execution_count": 99,
     "metadata": {},
     "output_type": "execute_result"
    }
   ],
   "source": [
    "tweets = driver.find_elements(by = By.TAG_NAME, value = 'article')\n",
    "rec_tweets = tweets[:10]\n",
    "\n",
    "contents = []\n",
    "for tweet in rec_tweets:\n",
    "    classes = tweet.find_elements(by = By.CLASS_NAME, value = 'css-901oao')\n",
    "    filtered = [cl.text.replace('\\n', ' ') for cl in classes if (cl.get_attribute('dir') == 'auto' and cl.text != '' and 'Tweet fijado' not in cl.text and 'retwiteó' not in cl.text)]\n",
    "    final = ' - '.join(filtered)\n",
    "    contents.append(final)\n",
    "\n",
    "contents"
   ]
  },
  {
   "cell_type": "markdown",
   "metadata": {},
   "source": [
    "#### IMDB's Top 250 data (movie name, Initial release, director name and stars) as a pandas dataframe"
   ]
  },
  {
   "cell_type": "code",
   "execution_count": 254,
   "metadata": {},
   "outputs": [
    {
     "name": "stderr",
     "output_type": "stream",
     "text": [
      "C:\\Users\\jgcha\\AppData\\Local\\Temp\\ipykernel_10944\\437611339.py:3: DeprecationWarning: executable_path has been deprecated, please pass in a Service object\n",
      "  driver = webdriver.Chrome(PATH, options=opts)\n"
     ]
    }
   ],
   "source": [
    "# This is the url you will scrape in this exercise \n",
    "url = 'https://www.imdb.com/chart/top'\n",
    "driver = webdriver.Chrome(PATH, options=opts)\n",
    "driver.get(url)"
   ]
  },
  {
   "cell_type": "code",
   "execution_count": 286,
   "metadata": {},
   "outputs": [],
   "source": [
    "table = driver.find_element(by = By.XPATH, value = '//*[@id=\"main\"]/div/span/div/div/div[3]/table')\n",
    "rows = table.find_elements(by = By.TAG_NAME, value = 'tr')[1:]\n",
    "\n",
    "data = []\n",
    "for r in rows:\n",
    "    name = r.find_element(by = By.CLASS_NAME, value = 'titleColumn').find_element(by = By.TAG_NAME, value = 'a').text\n",
    "    year = r.find_element(by = By.CLASS_NAME, value = 'titleColumn').find_element(by = By.TAG_NAME, value = 'span').text[1:-1]\n",
    "    director = r.find_element(by = By.CLASS_NAME, value = 'titleColumn').find_element(by = By.TAG_NAME, value = 'a').get_attribute('title').split(' (dir.)')[0]\n",
    "    stars = r.find_element(by = By.CLASS_NAME, value = 'ratingColumn').text\n",
    "    url = r.find_element(by = By.CLASS_NAME, value = 'titleColumn').find_element(by = By.TAG_NAME, value = 'a').get_attribute('href')\n",
    "\n",
    "    r_lst = [name, year, director, stars, url]\n",
    "    data.append(r_lst)\n"
   ]
  },
  {
   "cell_type": "code",
   "execution_count": 289,
   "metadata": {},
   "outputs": [
    {
     "data": {
      "text/html": [
       "<div>\n",
       "<style scoped>\n",
       "    .dataframe tbody tr th:only-of-type {\n",
       "        vertical-align: middle;\n",
       "    }\n",
       "\n",
       "    .dataframe tbody tr th {\n",
       "        vertical-align: top;\n",
       "    }\n",
       "\n",
       "    .dataframe thead th {\n",
       "        text-align: right;\n",
       "    }\n",
       "</style>\n",
       "<table border=\"1\" class=\"dataframe\">\n",
       "  <thead>\n",
       "    <tr style=\"text-align: right;\">\n",
       "      <th></th>\n",
       "      <th>title</th>\n",
       "      <th>year</th>\n",
       "      <th>stars</th>\n",
       "      <th>director</th>\n",
       "      <th>url</th>\n",
       "    </tr>\n",
       "  </thead>\n",
       "  <tbody>\n",
       "    <tr>\n",
       "      <th>0</th>\n",
       "      <td>Cadena perpetua</td>\n",
       "      <td>1994</td>\n",
       "      <td>Frank Darabont</td>\n",
       "      <td>9,2</td>\n",
       "      <td>https://www.imdb.com/title/tt0111161/?pf_rd_m=...</td>\n",
       "    </tr>\n",
       "    <tr>\n",
       "      <th>1</th>\n",
       "      <td>El padrino</td>\n",
       "      <td>1972</td>\n",
       "      <td>Francis Ford Coppola</td>\n",
       "      <td>9,2</td>\n",
       "      <td>https://www.imdb.com/title/tt0068646/?pf_rd_m=...</td>\n",
       "    </tr>\n",
       "    <tr>\n",
       "      <th>2</th>\n",
       "      <td>El caballero oscuro</td>\n",
       "      <td>2008</td>\n",
       "      <td>Christopher Nolan</td>\n",
       "      <td>9,0</td>\n",
       "      <td>https://www.imdb.com/title/tt0468569/?pf_rd_m=...</td>\n",
       "    </tr>\n",
       "    <tr>\n",
       "      <th>3</th>\n",
       "      <td>El padrino: Parte II</td>\n",
       "      <td>1974</td>\n",
       "      <td>Francis Ford Coppola</td>\n",
       "      <td>9,0</td>\n",
       "      <td>https://www.imdb.com/title/tt0071562/?pf_rd_m=...</td>\n",
       "    </tr>\n",
       "    <tr>\n",
       "      <th>4</th>\n",
       "      <td>12 hombres sin piedad</td>\n",
       "      <td>1957</td>\n",
       "      <td>Sidney Lumet</td>\n",
       "      <td>9,0</td>\n",
       "      <td>https://www.imdb.com/title/tt0050083/?pf_rd_m=...</td>\n",
       "    </tr>\n",
       "  </tbody>\n",
       "</table>\n",
       "</div>"
      ],
      "text/plain": [
       "                   title  year                 stars director  \\\n",
       "0        Cadena perpetua  1994        Frank Darabont      9,2   \n",
       "1             El padrino  1972  Francis Ford Coppola      9,2   \n",
       "2    El caballero oscuro  2008     Christopher Nolan      9,0   \n",
       "3   El padrino: Parte II  1974  Francis Ford Coppola      9,0   \n",
       "4  12 hombres sin piedad  1957          Sidney Lumet      9,0   \n",
       "\n",
       "                                                 url  \n",
       "0  https://www.imdb.com/title/tt0111161/?pf_rd_m=...  \n",
       "1  https://www.imdb.com/title/tt0068646/?pf_rd_m=...  \n",
       "2  https://www.imdb.com/title/tt0468569/?pf_rd_m=...  \n",
       "3  https://www.imdb.com/title/tt0071562/?pf_rd_m=...  \n",
       "4  https://www.imdb.com/title/tt0050083/?pf_rd_m=...  "
      ]
     },
     "execution_count": 289,
     "metadata": {},
     "output_type": "execute_result"
    }
   ],
   "source": [
    "colnames = ['title', 'year', 'stars', 'director', 'url']\n",
    "rows = data\n",
    "\n",
    "df_imdb = pd.DataFrame(rows, columns=colnames)\n",
    "df_imdb.head()"
   ]
  },
  {
   "cell_type": "markdown",
   "metadata": {},
   "source": [
    "#### Movie name, year and a brief summary of the top 10 random movies (IMDB) as a pandas dataframe."
   ]
  },
  {
   "cell_type": "code",
   "execution_count": 292,
   "metadata": {},
   "outputs": [
    {
     "data": {
      "text/plain": [
       "['Andy Dufresne es encarcelado por matar a su esposa y al amante de esta. Tras una dura adaptación, intenta mejorar las condiciones de la prisión y dar esperanza a sus compañeros.',\n",
       " 'El envejecido patriarca de una dinastía del crimen organizado en la ciudad de Nueva York de la posguerra transfiere el control de su imperio clandestino a su reacio hijo menor.',\n",
       " 'Cuando la amenaza conocida como el Joker causa estragos y el caos en Gotham City, Batman debe aceptar una de las mayores pruebas psicológicas y físicas para luchar contra la injusticia.',\n",
       " 'Se retratan los inicios de la vida y la carrera de Vito Corleone en el Nueva York de los años 20, mientras su hijo, Michael, amplía y refuerza su control sobre el sindicato del crimen famili... Leer todo',\n",
       " 'Un miembro del jurado trata de evitar un error judicial obligando al resto del jurado a reconsiderar las pruebas.',\n",
       " 'En la Polonia ocupada por los alemanes durante la Segunda Guerra Mundial, el industrial Oskar Schindler se preocupa por sus trabajadores judíos tras presenciar su persecución por los nazis.',\n",
       " 'Gandalf y Aragorn lideran el mundo de los hombres contra la armada de Sauron para distraer su atención de Frodo y Sam, quienes se aproximan al Monte del Destino con el Anillo Único.',\n",
       " 'Las vidas de dos mafiosos, un boxeador, la esposa de un gánster y un par de bandidos se entrelazan en cuatro historias de violencia y redención.',\n",
       " 'Un hobbit de la Comarca y ocho compañeros emprenden un viaje para destruir el poderoso Anillo Único y salvar la Tierra Media del Señor Oscuro Sauron.',\n",
       " 'Durante la Guerra de Secesión, tres cazarrecompensas se lanzan a la búsqueda de un tesoro que ninguno puede localizar sin la ayuda de los otros dos.']"
      ]
     },
     "execution_count": 292,
     "metadata": {},
     "output_type": "execute_result"
    }
   ],
   "source": [
    "#This is the url you will scrape in this exercise\n",
    "df_imdb2 = df_imdb[:10].copy()\n",
    "\n",
    "urls = df_imdb2['url']\n",
    "descs = []\n",
    "for u in urls:\n",
    "    driver.get(u)\n",
    "    desc = driver.find_element(by = By.XPATH, value = '//*[@id=\"__next\"]/main/div/section[1]/section/div[3]/section/section/div[3]/div[2]/div[1]/div[1]/p/span[1]').text    \n",
    "    descs.append(desc)\n"
   ]
  },
  {
   "cell_type": "code",
   "execution_count": 294,
   "metadata": {},
   "outputs": [
    {
     "data": {
      "text/html": [
       "<div>\n",
       "<style scoped>\n",
       "    .dataframe tbody tr th:only-of-type {\n",
       "        vertical-align: middle;\n",
       "    }\n",
       "\n",
       "    .dataframe tbody tr th {\n",
       "        vertical-align: top;\n",
       "    }\n",
       "\n",
       "    .dataframe thead th {\n",
       "        text-align: right;\n",
       "    }\n",
       "</style>\n",
       "<table border=\"1\" class=\"dataframe\">\n",
       "  <thead>\n",
       "    <tr style=\"text-align: right;\">\n",
       "      <th></th>\n",
       "      <th>title</th>\n",
       "      <th>year</th>\n",
       "      <th>desc</th>\n",
       "    </tr>\n",
       "  </thead>\n",
       "  <tbody>\n",
       "    <tr>\n",
       "      <th>0</th>\n",
       "      <td>Cadena perpetua</td>\n",
       "      <td>1994</td>\n",
       "      <td>Andy Dufresne es encarcelado por matar a su es...</td>\n",
       "    </tr>\n",
       "    <tr>\n",
       "      <th>1</th>\n",
       "      <td>El padrino</td>\n",
       "      <td>1972</td>\n",
       "      <td>El envejecido patriarca de una dinastía del cr...</td>\n",
       "    </tr>\n",
       "    <tr>\n",
       "      <th>2</th>\n",
       "      <td>El caballero oscuro</td>\n",
       "      <td>2008</td>\n",
       "      <td>Cuando la amenaza conocida como el Joker causa...</td>\n",
       "    </tr>\n",
       "    <tr>\n",
       "      <th>3</th>\n",
       "      <td>El padrino: Parte II</td>\n",
       "      <td>1974</td>\n",
       "      <td>Se retratan los inicios de la vida y la carrer...</td>\n",
       "    </tr>\n",
       "    <tr>\n",
       "      <th>4</th>\n",
       "      <td>12 hombres sin piedad</td>\n",
       "      <td>1957</td>\n",
       "      <td>Un miembro del jurado trata de evitar un error...</td>\n",
       "    </tr>\n",
       "    <tr>\n",
       "      <th>5</th>\n",
       "      <td>La lista de Schindler</td>\n",
       "      <td>1993</td>\n",
       "      <td>En la Polonia ocupada por los alemanes durante...</td>\n",
       "    </tr>\n",
       "    <tr>\n",
       "      <th>6</th>\n",
       "      <td>El señor de los anillos: El retorno del rey</td>\n",
       "      <td>2003</td>\n",
       "      <td>Gandalf y Aragorn lideran el mundo de los homb...</td>\n",
       "    </tr>\n",
       "    <tr>\n",
       "      <th>7</th>\n",
       "      <td>Pulp Fiction</td>\n",
       "      <td>1994</td>\n",
       "      <td>Las vidas de dos mafiosos, un boxeador, la esp...</td>\n",
       "    </tr>\n",
       "    <tr>\n",
       "      <th>8</th>\n",
       "      <td>El señor de los anillos: La comunidad del anillo</td>\n",
       "      <td>2001</td>\n",
       "      <td>Un hobbit de la Comarca y ocho compañeros empr...</td>\n",
       "    </tr>\n",
       "    <tr>\n",
       "      <th>9</th>\n",
       "      <td>El bueno, el feo y el malo</td>\n",
       "      <td>1966</td>\n",
       "      <td>Durante la Guerra de Secesión, tres cazarrecom...</td>\n",
       "    </tr>\n",
       "  </tbody>\n",
       "</table>\n",
       "</div>"
      ],
      "text/plain": [
       "                                              title  year  \\\n",
       "0                                   Cadena perpetua  1994   \n",
       "1                                        El padrino  1972   \n",
       "2                               El caballero oscuro  2008   \n",
       "3                              El padrino: Parte II  1974   \n",
       "4                             12 hombres sin piedad  1957   \n",
       "5                             La lista de Schindler  1993   \n",
       "6       El señor de los anillos: El retorno del rey  2003   \n",
       "7                                      Pulp Fiction  1994   \n",
       "8  El señor de los anillos: La comunidad del anillo  2001   \n",
       "9                        El bueno, el feo y el malo  1966   \n",
       "\n",
       "                                                desc  \n",
       "0  Andy Dufresne es encarcelado por matar a su es...  \n",
       "1  El envejecido patriarca de una dinastía del cr...  \n",
       "2  Cuando la amenaza conocida como el Joker causa...  \n",
       "3  Se retratan los inicios de la vida y la carrer...  \n",
       "4  Un miembro del jurado trata de evitar un error...  \n",
       "5  En la Polonia ocupada por los alemanes durante...  \n",
       "6  Gandalf y Aragorn lideran el mundo de los homb...  \n",
       "7  Las vidas de dos mafiosos, un boxeador, la esp...  \n",
       "8  Un hobbit de la Comarca y ocho compañeros empr...  \n",
       "9  Durante la Guerra de Secesión, tres cazarrecom...  "
      ]
     },
     "execution_count": 294,
     "metadata": {},
     "output_type": "execute_result"
    }
   ],
   "source": [
    "df_imdb2['desc'] = descs\n",
    "\n",
    "df_imdb2 = df_imdb2[['title', 'year', 'desc']]\n",
    "df_imdb2"
   ]
  },
  {
   "cell_type": "markdown",
   "metadata": {},
   "source": [
    "#### Find the live weather report (temperature, wind speed, description and weather) of a given city."
   ]
  },
  {
   "cell_type": "code",
   "execution_count": 9,
   "metadata": {},
   "outputs": [
    {
     "name": "stderr",
     "output_type": "stream",
     "text": [
      "C:\\Users\\jgcha\\AppData\\Local\\Temp\\ipykernel_20860\\3395618482.py:6: DeprecationWarning: executable_path has been deprecated, please pass in a Service object\n",
      "  driver = webdriver.Chrome(PATH, options=opts)\n"
     ]
    }
   ],
   "source": [
    "#https://openweathermap.org/current\n",
    "#city = city=input('Enter the city:')\n",
    "# url = 'http://api.openweathermap.org/data/2.5/weather?'+'q='+city+'&APPID=b35975e18dc93725acb092f7272cc6b8&units=metric'\n",
    "\n",
    "url = 'https://openweathermap.org/city/2514256' # Málaga\n",
    "driver = webdriver.Chrome(PATH, options=opts)\n",
    "driver.get(url)"
   ]
  },
  {
   "cell_type": "code",
   "execution_count": 22,
   "metadata": {},
   "outputs": [
    {
     "name": "stdout",
     "output_type": "stream",
     "text": [
      "22°C\n",
      "Wind speed: 7.7m/s WNW\n",
      "Feels like 21°C. Few clouds. Moderate breeze\n"
     ]
    }
   ],
   "source": [
    "temp = driver.find_element(by = By.XPATH, value = '//*[@id=\"weather-widget\"]/div[2]/div[1]/div[1]/div[2]/div[1]/span').text\n",
    "wind = 'Wind speed: ' + driver.find_element(by = By.XPATH, value = '//*[@id=\"weather-widget\"]/div[2]/div[1]/div[1]/div[2]/ul/li[1]/div').text\n",
    "desc = driver.find_element(by = By.XPATH, value = '//*[@id=\"weather-widget\"]/div[2]/div[1]/div[1]/div[2]/div[2]').text\n",
    "\n",
    "print(temp)\n",
    "print(wind)\n",
    "print(desc)\n"
   ]
  },
  {
   "cell_type": "markdown",
   "metadata": {},
   "source": [
    "#### Book name,price and stock availability as a pandas dataframe."
   ]
  },
  {
   "cell_type": "code",
   "execution_count": 24,
   "metadata": {},
   "outputs": [
    {
     "name": "stderr",
     "output_type": "stream",
     "text": [
      "C:\\Users\\jgcha\\AppData\\Local\\Temp\\ipykernel_20860\\1971909939.py:4: DeprecationWarning: executable_path has been deprecated, please pass in a Service object\n",
      "  driver = webdriver.Chrome(PATH, options=opts)\n"
     ]
    }
   ],
   "source": [
    "# This is the url you will scrape in this exercise. \n",
    "# It is a fictional bookstore created to be scraped. \n",
    "url = 'http://books.toscrape.com/'\n",
    "driver = webdriver.Chrome(PATH, options=opts)\n",
    "driver.get(url)"
   ]
  },
  {
   "cell_type": "code",
   "execution_count": 46,
   "metadata": {},
   "outputs": [
    {
     "name": "stdout",
     "output_type": "stream",
     "text": [
      "A Light in the Attic\n",
      "Tipping the Velvet\n",
      "Soumission\n",
      "Sharp Objects\n",
      "Sapiens: A Brief History of Humankind\n",
      "The Requiem Red\n",
      "The Dirty Little Secrets of Getting Your Dream Job\n",
      "The Coming Woman: A Novel Based on the Life of the Infamous Feminist, Victoria Woodhull\n",
      "The Boys in the Boat: Nine Americans and Their Epic Quest for Gold at the 1936 Berlin Olympics\n",
      "The Black Maria\n",
      "Starving Hearts (Triangular Trade Trilogy, #1)\n",
      "Shakespeare's Sonnets\n",
      "Set Me Free\n",
      "Scott Pilgrim's Precious Little Life (Scott Pilgrim #1)\n",
      "Rip it Up and Start Again\n",
      "Our Band Could Be Your Life: Scenes from the American Indie Underground, 1981-1991\n",
      "Olio\n",
      "Mesaerion: The Best Science Fiction Stories 1800-1849\n",
      "Libertarianism for Beginners\n",
      "It's Only the Himalayas\n"
     ]
    }
   ],
   "source": [
    "book_container = driver.find_element(by = By.XPATH, value = '//*[@id=\"default\"]/div/div/div/div/section') \n",
    "books = book_container.find_elements(by = By.TAG_NAME, value = 'li')\n",
    "\n",
    "data = []\n",
    "for b in books:\n",
    "    try:\n",
    "        title = b.find_element(by = By.TAG_NAME, value = 'h3').find_element(by = By.TAG_NAME, value = 'a').get_attribute('title')\n",
    "        price = b.find_element(by = By.CLASS_NAME, value = 'price_color').text\n",
    "        stock = b.find_element(by = By.CLASS_NAME, value = 'instock').text\n",
    "        data.append([title, price, stock])\n",
    "    except:\n",
    "        break"
   ]
  },
  {
   "cell_type": "code",
   "execution_count": 49,
   "metadata": {},
   "outputs": [
    {
     "data": {
      "text/html": [
       "<div>\n",
       "<style scoped>\n",
       "    .dataframe tbody tr th:only-of-type {\n",
       "        vertical-align: middle;\n",
       "    }\n",
       "\n",
       "    .dataframe tbody tr th {\n",
       "        vertical-align: top;\n",
       "    }\n",
       "\n",
       "    .dataframe thead th {\n",
       "        text-align: right;\n",
       "    }\n",
       "</style>\n",
       "<table border=\"1\" class=\"dataframe\">\n",
       "  <thead>\n",
       "    <tr style=\"text-align: right;\">\n",
       "      <th></th>\n",
       "      <th>title</th>\n",
       "      <th>price</th>\n",
       "      <th>availability</th>\n",
       "    </tr>\n",
       "  </thead>\n",
       "  <tbody>\n",
       "    <tr>\n",
       "      <th>0</th>\n",
       "      <td>A Light in the Attic</td>\n",
       "      <td>£51.77</td>\n",
       "      <td>In stock</td>\n",
       "    </tr>\n",
       "    <tr>\n",
       "      <th>1</th>\n",
       "      <td>Tipping the Velvet</td>\n",
       "      <td>£53.74</td>\n",
       "      <td>In stock</td>\n",
       "    </tr>\n",
       "    <tr>\n",
       "      <th>2</th>\n",
       "      <td>Soumission</td>\n",
       "      <td>£50.10</td>\n",
       "      <td>In stock</td>\n",
       "    </tr>\n",
       "    <tr>\n",
       "      <th>3</th>\n",
       "      <td>Sharp Objects</td>\n",
       "      <td>£47.82</td>\n",
       "      <td>In stock</td>\n",
       "    </tr>\n",
       "    <tr>\n",
       "      <th>4</th>\n",
       "      <td>Sapiens: A Brief History of Humankind</td>\n",
       "      <td>£54.23</td>\n",
       "      <td>In stock</td>\n",
       "    </tr>\n",
       "  </tbody>\n",
       "</table>\n",
       "</div>"
      ],
      "text/plain": [
       "                                   title   price availability\n",
       "0                   A Light in the Attic  £51.77     In stock\n",
       "1                     Tipping the Velvet  £53.74     In stock\n",
       "2                             Soumission  £50.10     In stock\n",
       "3                          Sharp Objects  £47.82     In stock\n",
       "4  Sapiens: A Brief History of Humankind  £54.23     In stock"
      ]
     },
     "execution_count": 49,
     "metadata": {},
     "output_type": "execute_result"
    }
   ],
   "source": [
    "colnames = ['title', 'price', 'availability']\n",
    "\n",
    "df_books = pd.DataFrame(data, columns=colnames)\n",
    "df_books.head()\n",
    " "
   ]
  }
 ],
 "metadata": {
  "kernelspec": {
   "display_name": "Python 3",
   "language": "python",
   "name": "python3"
  },
  "language_info": {
   "codemirror_mode": {
    "name": "ipython",
    "version": 3
   },
   "file_extension": ".py",
   "mimetype": "text/x-python",
   "name": "python",
   "nbconvert_exporter": "python",
   "pygments_lexer": "ipython3",
   "version": "3.9.7"
  }
 },
 "nbformat": 4,
 "nbformat_minor": 2
}
