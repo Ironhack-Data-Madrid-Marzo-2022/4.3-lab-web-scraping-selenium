{
 "cells": [
  {
   "cell_type": "markdown",
   "metadata": {},
   "source": [
    "# Web Scraping Lab\n",
    "\n",
    "You will find in this notebook some scrapy exercises to practise your scraping skills.\n",
    "\n",
    "**Tips:**\n",
    "\n",
    "- Check the response status code for each request to ensure you have obtained the intended contennt.\n",
    "- Print the response text in each request to understand the kind of info you are getting and its format.\n",
    "- Check for patterns in the response text to extract the data/info requested in each question.\n",
    "- Visit each url and take a look at its source through Chrome DevTools. You'll need to identify the html tags, special class names etc. used for the html content you are expected to extract."
   ]
  },
  {
   "cell_type": "markdown",
   "metadata": {},
   "source": [
    "- [Selenium Doc](https://www.selenium.dev/documentation/)\n",
    "- [Requests library](http://docs.python-requests.org/en/master/#the-user-guide) documentation \n",
    "- [Urllib](https://docs.python.org/3/library/urllib.html#module-urllib)\n",
    "- [re lib](https://docs.python.org/3/library/re.html)\n",
    "- [lxml lib](https://lxml.de/)\n",
    "- [Scrapy](https://scrapy.org/)\n",
    "- [List of HTTP status codes](https://en.wikipedia.org/wiki/List_of_HTTP_status_codes)\n",
    "- [HTML basics](http://www.simplehtmlguide.com/cheatsheet.php)\n",
    "- [CSS basics](https://www.cssbasics.com/#page_start)"
   ]
  },
  {
   "cell_type": "markdown",
   "metadata": {},
   "source": [
    "#### Below are the libraries and modules you may need. `Selenium` and `pandas` are imported for you."
   ]
  },
  {
   "cell_type": "code",
   "execution_count": 2,
   "metadata": {},
   "outputs": [],
   "source": [
    "import pandas as pd\n",
    "from selenium.webdriver.chrome.options import Options\n",
    "from selenium import webdriver\n",
    "#from webdriver_manager.chrome import ChromeDriverManager"
   ]
  },
  {
   "cell_type": "markdown",
   "metadata": {},
   "source": [
    "#### Enable the options you may need. In the next cell you have an example of them but you can choose to use them or not."
   ]
  },
  {
   "cell_type": "code",
   "execution_count": 3,
   "metadata": {},
   "outputs": [],
   "source": [
    "#driver configuration\n",
    "opciones=Options()\n",
    "\n",
    "opciones.add_experimental_option('excludeSwitches', ['enable-automation'])\n",
    "opciones.add_experimental_option('useAutomationExtension', False)\n",
    "opciones.headless=False    # si True, no aperece la ventana (headless=no visible)\n",
    "opciones.add_argument('--start-maximized')         # comienza maximizado\n",
    "#opciones.add_argument('user-data-dir=selenium')    # mantiene las cookies\n",
    "#opciones.add_extension('driver_folder/adblock.crx')       # adblocker\n",
    "opciones.add_argument('--incognito')"
   ]
  },
  {
   "cell_type": "code",
   "execution_count": 4,
   "metadata": {},
   "outputs": [
    {
     "name": "stderr",
     "output_type": "stream",
     "text": [
      "C:\\Users\\Alberto\\AppData\\Local\\Temp\\ipykernel_15180\\3712765530.py:2: DeprecationWarning: executable_path has been deprecated, please pass in a Service object\n",
      "  driver = webdriver.Chrome(driver,options = opciones)\n"
     ]
    }
   ],
   "source": [
    "driver = r\"C:\\Users\\Alberto\\Downloads/chromedriver.exe\" #remember substitute this for your driver path\n",
    "driver = webdriver.Chrome(driver,options = opciones)"
   ]
  },
  {
   "cell_type": "markdown",
   "metadata": {},
   "source": [
    "#### Download, parse, and print the content from the Trending Developers page from GitHub:"
   ]
  },
  {
   "cell_type": "code",
   "execution_count": 16,
   "metadata": {},
   "outputs": [],
   "source": [
    "# This is the url you will scrape in this exercise\n",
    "url = 'https://github.com/trending/developers'"
   ]
  },
  {
   "cell_type": "code",
   "execution_count": 17,
   "metadata": {},
   "outputs": [],
   "source": [
    "#your code\n",
    "driver.get(url)"
   ]
  },
  {
   "cell_type": "code",
   "execution_count": null,
   "metadata": {},
   "outputs": [],
   "source": []
  },
  {
   "cell_type": "markdown",
   "metadata": {},
   "source": [
    "#### Display the names of the trending developers retrieved in the previous step.\n",
    "\n",
    "Your output should be a Python list of developer names. Each name should not contain any html tag.\n",
    "\n",
    "**Instructions:**\n",
    "\n",
    "1. Find out the html tag and class names used for the developer names.\n",
    "\n",
    "1. Use string manipulation techniques to replace whitespaces and linebreaks (i.e. `\\n`) in the *text* of each html element. Use a list to store the clean names.\n",
    "\n",
    "1. Print the list of names.\n",
    "\n",
    "Your output should look like below:\n",
    "\n",
    "```\n",
    "['trimstray (@trimstray)',\n",
    " 'joewalnes (JoeWalnes)',\n",
    " 'charlax (Charles-AxelDein)',\n",
    " 'ForrestKnight (ForrestKnight)',\n",
    " 'revery-ui (revery-ui)',\n",
    " 'alibaba (Alibaba)',\n",
    " 'Microsoft (Microsoft)',\n",
    " 'github (GitHub)',\n",
    " 'facebook (Facebook)',\n",
    " 'boazsegev (Bo)',\n",
    " 'google (Google)',\n",
    " 'cloudfetch',\n",
    " 'sindresorhus (SindreSorhus)',\n",
    " 'tensorflow',\n",
    " 'apache (TheApacheSoftwareFoundation)',\n",
    " 'DevonCrawford (DevonCrawford)',\n",
    " 'ARMmbed (ArmMbed)',\n",
    " 'vuejs (vuejs)',\n",
    " 'fastai (fast.ai)',\n",
    " 'QiShaoXuan (Qi)',\n",
    " 'joelparkerhenderson (JoelParkerHenderson)',\n",
    " 'torvalds (LinusTorvalds)',\n",
    " 'CyC2018',\n",
    " 'komeiji-satori (神楽坂覚々)',\n",
    " 'script-8']\n",
    " ```"
   ]
  },
  {
   "cell_type": "code",
   "execution_count": 18,
   "metadata": {},
   "outputs": [
    {
     "name": "stderr",
     "output_type": "stream",
     "text": [
      "C:\\Users\\Alberto\\AppData\\Local\\Temp\\ipykernel_3972\\4191201775.py:6: DeprecationWarning: find_element_by_xpath is deprecated. Please use find_element(by=By.XPATH, value=xpath) instead\n",
      "  nombres.append(driver.find_element_by_xpath(f'/html/body/div[4]/main/div[3]/div/div[2]/article[{n}]/div[2]/div[1]/div[1]/h1/a').text)\n"
     ]
    },
    {
     "data": {
      "text/plain": [
       "['Álvaro', 'Ariel Mashraki', 'Marten Seemann', 'Boris Dayma']"
      ]
     },
     "execution_count": 18,
     "metadata": {},
     "output_type": "execute_result"
    }
   ],
   "source": [
    "#your code\n",
    "n=1\n",
    "nombres=[]\n",
    "while True:\n",
    "    try:\n",
    "        nombres.append(driver.find_element_by_xpath(f'/html/body/div[4]/main/div[3]/div/div[2]/article[{n}]/div[2]/div[1]/div[1]/h1/a').text)\n",
    "        n+=1\n",
    "    except:\n",
    "        break\n",
    "nombres[:4]"
   ]
  },
  {
   "cell_type": "code",
   "execution_count": 19,
   "metadata": {},
   "outputs": [
    {
     "name": "stderr",
     "output_type": "stream",
     "text": [
      "C:\\Users\\Alberto\\AppData\\Local\\Temp\\ipykernel_3972\\1069675159.py:5: DeprecationWarning: find_element_by_xpath is deprecated. Please use find_element(by=By.XPATH, value=xpath) instead\n",
      "  users.append(driver.find_element_by_xpath(f'/html/body/div[4]/main/div[3]/div/div[2]/article[{n}]/div[2]/div[1]/div[1]/p/a').text)\n"
     ]
    },
    {
     "data": {
      "text/plain": [
       "['alvarotrigo', 'a8m', 'marten-seemann', 'borisdayma']"
      ]
     },
     "execution_count": 19,
     "metadata": {},
     "output_type": "execute_result"
    }
   ],
   "source": [
    "n=1\n",
    "users=[]\n",
    "while True:\n",
    "    try:\n",
    "        users.append(driver.find_element_by_xpath(f'/html/body/div[4]/main/div[3]/div/div[2]/article[{n}]/div[2]/div[1]/div[1]/p/a').text)\n",
    "        n+=1\n",
    "    except:\n",
    "        break\n",
    "users[:4]"
   ]
  },
  {
   "cell_type": "markdown",
   "metadata": {},
   "source": [
    "#### Display the trending Python repositories in GitHub\n",
    "\n",
    "The steps to solve this problem is similar to the previous one except that you need to find out the repository names instead of developer names."
   ]
  },
  {
   "cell_type": "code",
   "execution_count": 20,
   "metadata": {},
   "outputs": [],
   "source": [
    "# This is the url you will scrape in this exercise\n",
    "url = 'https://github.com/trending/python?since=daily'\n",
    "driver.get(url)"
   ]
  },
  {
   "cell_type": "code",
   "execution_count": 21,
   "metadata": {},
   "outputs": [
    {
     "name": "stderr",
     "output_type": "stream",
     "text": [
      "C:\\Users\\Alberto\\AppData\\Local\\Temp\\ipykernel_3972\\2953653628.py:6: DeprecationWarning: find_element_by_xpath is deprecated. Please use find_element(by=By.XPATH, value=xpath) instead\n",
      "  repos.append(driver.find_element_by_xpath(f'/html/body/div[4]/main/div[3]/div/div[2]/article[{n}]/h1/a').text)\n"
     ]
    },
    {
     "data": {
      "text/plain": [
       "['fighting41love / funNLP',\n",
       " 'Sjj1024 / QiangCai',\n",
       " 'vinta / awesome-python',\n",
       " 'lucidrains / DALLE2-pytorch']"
      ]
     },
     "execution_count": 21,
     "metadata": {},
     "output_type": "execute_result"
    }
   ],
   "source": [
    "#your code\n",
    "repos=[]\n",
    "n=1\n",
    "while True:\n",
    "    try:\n",
    "        repos.append(driver.find_element_by_xpath(f'/html/body/div[4]/main/div[3]/div/div[2]/article[{n}]/h1/a').text)\n",
    "        n+=1\n",
    "    except:\n",
    "        break\n",
    "repos[:4]\n"
   ]
  },
  {
   "cell_type": "markdown",
   "metadata": {},
   "source": [
    "#### Display all the image links from Walt Disney wikipedia page"
   ]
  },
  {
   "cell_type": "code",
   "execution_count": 22,
   "metadata": {},
   "outputs": [],
   "source": [
    "# This is the url you will scrape in this exercise\n",
    "url = 'https://en.wikipedia.org/wiki/Walt_Disney'\n",
    "driver.get(url)"
   ]
  },
  {
   "cell_type": "code",
   "execution_count": 23,
   "metadata": {},
   "outputs": [
    {
     "name": "stderr",
     "output_type": "stream",
     "text": [
      "C:\\Users\\Alberto\\AppData\\Local\\Temp\\ipykernel_3972\\142409770.py:3: DeprecationWarning: find_elements_by_tag_name is deprecated. Please use find_elements(by=By.TAG_NAME, value=name) instead\n",
      "  images=[x.get_attribute('src') for x in driver.find_elements_by_tag_name('img')]\n"
     ]
    },
    {
     "data": {
      "text/plain": [
       "['https://upload.wikimedia.org/wikipedia/en/thumb/e/e7/Cscr-featured.svg/20px-Cscr-featured.svg.png',\n",
       " 'https://upload.wikimedia.org/wikipedia/en/thumb/8/8c/Extended-protection-shackle.svg/20px-Extended-protection-shackle.svg.png',\n",
       " 'https://upload.wikimedia.org/wikipedia/commons/thumb/d/df/Walt_Disney_1946.JPG/220px-Walt_Disney_1946.JPG',\n",
       " 'https://upload.wikimedia.org/wikipedia/commons/thumb/8/87/Walt_Disney_1942_signature.svg/150px-Walt_Disney_1942_signature.svg.png',\n",
       " 'https://upload.wikimedia.org/wikipedia/commons/thumb/c/c4/Walt_Disney_envelope_ca._1921.jpg/220px-Walt_Disney_envelope_ca._1921.jpg']"
      ]
     },
     "execution_count": 23,
     "metadata": {},
     "output_type": "execute_result"
    }
   ],
   "source": [
    "#your code\n",
    "\n",
    "images=[x.get_attribute('src') for x in driver.find_elements_by_tag_name('img')]\n",
    "\n",
    "images[:5]\n",
    "\n",
    "\n"
   ]
  },
  {
   "cell_type": "markdown",
   "metadata": {},
   "source": [
    "#### Retrieve an arbitary Wikipedia page of \"Python\" and create a list of links on that page"
   ]
  },
  {
   "cell_type": "code",
   "execution_count": 24,
   "metadata": {},
   "outputs": [],
   "source": [
    "# This is the url you will scrape in this exercise\n",
    "url ='https://en.wikipedia.org/wiki/Python_(programming_language)' \n",
    "driver.get(url)"
   ]
  },
  {
   "cell_type": "code",
   "execution_count": 25,
   "metadata": {},
   "outputs": [
    {
     "name": "stderr",
     "output_type": "stream",
     "text": [
      "C:\\Users\\Alberto\\AppData\\Local\\Temp\\ipykernel_3972\\787191014.py:2: DeprecationWarning: find_elements_by_tag_name is deprecated. Please use find_elements(by=By.TAG_NAME, value=name) instead\n",
      "  links=[x.get_attribute('href') for x in driver.find_elements_by_tag_name('a') if x.get_attribute('href')!=None ]\n"
     ]
    },
    {
     "name": "stdout",
     "output_type": "stream",
     "text": [
      "<class 'str'>\n"
     ]
    }
   ],
   "source": [
    "#your code\n",
    "links=[x.get_attribute('href') for x in driver.find_elements_by_tag_name('a') if x.get_attribute('href')!=None ]\n",
    "print(type(links[0]))"
   ]
  },
  {
   "cell_type": "code",
   "execution_count": 26,
   "metadata": {},
   "outputs": [
    {
     "data": {
      "text/plain": [
       "['https://en.wikipedia.org/wiki/Wikipedia:Good_articles',\n",
       " 'https://en.wikipedia.org/wiki/Python_(programming_language)#mw-head',\n",
       " 'https://en.wikipedia.org/wiki/Python_(programming_language)#searchInput',\n",
       " 'https://en.wikipedia.org/wiki/File:Python-logo-notext.svg',\n",
       " 'https://en.wikipedia.org/wiki/Programming_paradigm']"
      ]
     },
     "execution_count": 26,
     "metadata": {},
     "output_type": "execute_result"
    }
   ],
   "source": [
    "links[:5]"
   ]
  },
  {
   "cell_type": "markdown",
   "metadata": {},
   "source": [
    "#### Number of Titles that have changed in the United States Code since its last release point "
   ]
  },
  {
   "cell_type": "code",
   "execution_count": 27,
   "metadata": {},
   "outputs": [],
   "source": [
    "# This is the url you will scrape in this exercise\n",
    "url = 'http://uscode.house.gov/download/download.shtml'\n",
    "driver.get(url)"
   ]
  },
  {
   "cell_type": "code",
   "execution_count": 28,
   "metadata": {},
   "outputs": [],
   "source": [
    "#your code"
   ]
  },
  {
   "cell_type": "markdown",
   "metadata": {},
   "source": [
    "#### A Python list with the top ten FBI's Most Wanted names "
   ]
  },
  {
   "cell_type": "code",
   "execution_count": 40,
   "metadata": {},
   "outputs": [],
   "source": [
    "# This is the url you will scrape in this exercise\n",
    "url = 'https://www.fbi.gov/wanted/topten'\n",
    "driver.get(url)"
   ]
  },
  {
   "cell_type": "code",
   "execution_count": 41,
   "metadata": {},
   "outputs": [
    {
     "name": "stderr",
     "output_type": "stream",
     "text": [
      "C:\\Users\\Alberto\\AppData\\Local\\Temp\\ipykernel_3972\\1922390780.py:2: DeprecationWarning: find_elements_by_tag_name is deprecated. Please use find_elements(by=By.TAG_NAME, value=name) instead\n",
      "  headers=driver.find_elements_by_tag_name('h3')\n"
     ]
    },
    {
     "data": {
      "text/plain": [
       "['RAFAEL CARO-QUINTERO',\n",
       " 'YULAN ADONAY ARCHAGA CARIAS',\n",
       " 'EUGENE PALMER',\n",
       " 'BHADRESHKUMAR CHETANBHAI PATEL',\n",
       " 'ALEJANDRO ROSALES CASTILLO',\n",
       " 'ARNOLDO JIMENEZ',\n",
       " 'JASON DEREK BROWN',\n",
       " 'ALEXIS FLORES',\n",
       " 'JOSE RODOLFO VILLARREAL-HERNANDEZ',\n",
       " 'OCTAVIANO JUAREZ-CORRO']"
      ]
     },
     "execution_count": 41,
     "metadata": {},
     "output_type": "execute_result"
    }
   ],
   "source": [
    "#your code \n",
    "headers=driver.find_elements_by_tag_name('h3')\n",
    "header_text=[x.text for x in headers]\n",
    "wanted=header_text[0:10]\n",
    "wanted"
   ]
  },
  {
   "cell_type": "markdown",
   "metadata": {},
   "source": [
    "####  20 latest earthquakes info (date, time, latitude, longitude and region name) by the EMSC as a pandas dataframe"
   ]
  },
  {
   "cell_type": "code",
   "execution_count": 106,
   "metadata": {},
   "outputs": [],
   "source": [
    "# This is the url you will scrape in this exercise\n",
    "url = 'https://www.emsc-csem.org/Earthquake/'\n",
    "driver.get(url)"
   ]
  },
  {
   "cell_type": "code",
   "execution_count": 78,
   "metadata": {},
   "outputs": [],
   "source": [
    "#your code\n"
   ]
  },
  {
   "cell_type": "markdown",
   "metadata": {},
   "source": [
    "#### Count number of tweets by a given Twitter account."
   ]
  },
  {
   "cell_type": "markdown",
   "metadata": {},
   "source": [
    "You will need to include a ***try/except block*** for account names not found. \n",
    "<br>***Hint:*** the program should count the number of tweets for any provided account"
   ]
  },
  {
   "cell_type": "code",
   "execution_count": 39,
   "metadata": {},
   "outputs": [],
   "source": [
    "# This is the url you will scrape in this exercise \n",
    "# You will need to add the account credentials to this url\n",
    "url = 'https://twitter.com/'\n"
   ]
  },
  {
   "cell_type": "code",
   "execution_count": 80,
   "metadata": {},
   "outputs": [],
   "source": [
    "#your code"
   ]
  },
  {
   "cell_type": "markdown",
   "metadata": {},
   "source": [
    "#### Number of followers of a given twitter account"
   ]
  },
  {
   "cell_type": "markdown",
   "metadata": {},
   "source": [
    "You will need to include a ***try/except block*** in case account/s name not found. \n",
    "<br>***Hint:*** the program should count the followers for any provided account"
   ]
  },
  {
   "cell_type": "code",
   "execution_count": 81,
   "metadata": {},
   "outputs": [],
   "source": [
    "# This is the url you will scrape in this exercise \n",
    "# You will need to add the account credentials to this url\n",
    "url = 'https://twitter.com/'"
   ]
  },
  {
   "cell_type": "code",
   "execution_count": 82,
   "metadata": {},
   "outputs": [],
   "source": [
    "#your code"
   ]
  },
  {
   "cell_type": "markdown",
   "metadata": {},
   "source": [
    "#### List all language names and number of related articles in the order they appear in wikipedia.org"
   ]
  },
  {
   "cell_type": "code",
   "execution_count": 111,
   "metadata": {},
   "outputs": [],
   "source": [
    "# This is the url you will scrape in this exercise\n",
    "url = 'https://www.wikipedia.org/'\n",
    "driver.get(url)"
   ]
  },
  {
   "cell_type": "code",
   "execution_count": null,
   "metadata": {},
   "outputs": [
    {
     "name": "stderr",
     "output_type": "stream",
     "text": [
      "C:\\Users\\Alberto\\AppData\\Local\\Temp\\ipykernel_3972\\588502817.py:1: DeprecationWarning: find_element_by_xpath is deprecated. Please use find_element(by=By.XPATH, value=xpath) instead\n",
      "  div=driver.find_element_by_xpath('/html/body/div[2]')\n",
      "C:\\Users\\Alberto\\Anaconda3\\envs\\clase\\lib\\site-packages\\selenium\\webdriver\\remote\\webelement.py:446: UserWarning: find_element_by_class_name is deprecated. Please use find_element(by=By.CLASS_NAME, value=name) instead\n",
      "  warnings.warn(\"find_element_by_class_name is deprecated. Please use find_element(by=By.CLASS_NAME, value=name) instead\")\n"
     ]
    },
    {
     "ename": "NoSuchElementException",
     "evalue": "Message: no such element: Unable to locate element: {\"method\":\"css selector\",\"selector\":\".central-featured-lang lang1\"}\n  (Session info: chrome=100.0.4896.75)\nStacktrace:\nBacktrace:\n\tOrdinal0 [0x00497413+2389011]\n\tOrdinal0 [0x00429F61+1941345]\n\tOrdinal0 [0x0031C658+837208]\n\tOrdinal0 [0x003491DD+1020381]\n\tOrdinal0 [0x0034949B+1021083]\n\tOrdinal0 [0x0033F9F1+981489]\n\tOrdinal0 [0x00364194+1130900]\n\tOrdinal0 [0x0033F974+981364]\n\tOrdinal0 [0x00364364+1131364]\n\tOrdinal0 [0x00374302+1196802]\n\tOrdinal0 [0x00363F66+1130342]\n\tOrdinal0 [0x0033E546+976198]\n\tOrdinal0 [0x0033F456+980054]\n\tGetHandleVerifier [0x00649632+1727522]\n\tGetHandleVerifier [0x006FBA4D+2457661]\n\tGetHandleVerifier [0x0052EB81+569713]\n\tGetHandleVerifier [0x0052DD76+566118]\n\tOrdinal0 [0x00430B2B+1968939]\n\tOrdinal0 [0x00435988+1989000]\n\tOrdinal0 [0x00435A75+1989237]\n\tOrdinal0 [0x0043ECB1+2026673]\n\tBaseThreadInitThunk [0x772DFA29+25]\n\tRtlGetAppContainerNamedObjectPath [0x77D57A7E+286]\n\tRtlGetAppContainerNamedObjectPath [0x77D57A4E+238]\n",
     "output_type": "error",
     "traceback": [
      "\u001b[1;31m---------------------------------------------------------------------------\u001b[0m",
      "\u001b[1;31mNoSuchElementException\u001b[0m                    Traceback (most recent call last)",
      "\u001b[1;32mc:\\Users\\Alberto\\git_yo\\dia18\\4.3-lab-web-scraping-selenium\\your-code\\main.ipynb Cell 44'\u001b[0m in \u001b[0;36m<cell line: 2>\u001b[1;34m()\u001b[0m\n\u001b[0;32m      <a href='vscode-notebook-cell:/c%3A/Users/Alberto/git_yo/dia18/4.3-lab-web-scraping-selenium/your-code/main.ipynb#ch0000071?line=0'>1</a>\u001b[0m div\u001b[39m=\u001b[39mdriver\u001b[39m.\u001b[39mfind_element_by_xpath(\u001b[39m'\u001b[39m\u001b[39m/html/body/div[2]\u001b[39m\u001b[39m'\u001b[39m)\n\u001b[0;32m      <a href='vscode-notebook-cell:/c%3A/Users/Alberto/git_yo/dia18/4.3-lab-web-scraping-selenium/your-code/main.ipynb#ch0000071?line=1'>2</a>\u001b[0m \u001b[39mwhile\u001b[39;00m n\u001b[39m<\u001b[39m\u001b[39m10\u001b[39m:\n\u001b[1;32m----> <a href='vscode-notebook-cell:/c%3A/Users/Alberto/git_yo/dia18/4.3-lab-web-scraping-selenium/your-code/main.ipynb#ch0000071?line=2'>3</a>\u001b[0m     div\u001b[39m.\u001b[39;49mfind_element_by_class_name(\u001b[39mf\u001b[39;49m\u001b[39m'\u001b[39;49m\u001b[39mcentral-featured-lang lang\u001b[39;49m\u001b[39m{\u001b[39;49;00mn\u001b[39m}\u001b[39;49;00m\u001b[39m'\u001b[39;49m)\n\u001b[0;32m      <a href='vscode-notebook-cell:/c%3A/Users/Alberto/git_yo/dia18/4.3-lab-web-scraping-selenium/your-code/main.ipynb#ch0000071?line=3'>4</a>\u001b[0m     n\u001b[39m+\u001b[39m\u001b[39m=\u001b[39m\u001b[39m1\u001b[39m\n",
      "File \u001b[1;32m~\\Anaconda3\\envs\\clase\\lib\\site-packages\\selenium\\webdriver\\remote\\webelement.py:447\u001b[0m, in \u001b[0;36mWebElement.find_element_by_class_name\u001b[1;34m(self, name)\u001b[0m\n\u001b[0;32m    <a href='file:///c%3A/Users/Alberto/Anaconda3/envs/clase/lib/site-packages/selenium/webdriver/remote/webelement.py?line=429'>430</a>\u001b[0m \u001b[39m\"\"\"Finds element within this element's children by class name.\u001b[39;00m\n\u001b[0;32m    <a href='file:///c%3A/Users/Alberto/Anaconda3/envs/clase/lib/site-packages/selenium/webdriver/remote/webelement.py?line=430'>431</a>\u001b[0m \n\u001b[0;32m    <a href='file:///c%3A/Users/Alberto/Anaconda3/envs/clase/lib/site-packages/selenium/webdriver/remote/webelement.py?line=431'>432</a>\u001b[0m \u001b[39m:Args:\u001b[39;00m\n\u001b[1;32m   (...)\u001b[0m\n\u001b[0;32m    <a href='file:///c%3A/Users/Alberto/Anaconda3/envs/clase/lib/site-packages/selenium/webdriver/remote/webelement.py?line=443'>444</a>\u001b[0m \u001b[39m        element = element.find_element_by_class_name('foo')\u001b[39;00m\n\u001b[0;32m    <a href='file:///c%3A/Users/Alberto/Anaconda3/envs/clase/lib/site-packages/selenium/webdriver/remote/webelement.py?line=444'>445</a>\u001b[0m \u001b[39m\"\"\"\u001b[39;00m\n\u001b[0;32m    <a href='file:///c%3A/Users/Alberto/Anaconda3/envs/clase/lib/site-packages/selenium/webdriver/remote/webelement.py?line=445'>446</a>\u001b[0m warnings\u001b[39m.\u001b[39mwarn(\u001b[39m\"\u001b[39m\u001b[39mfind_element_by_class_name is deprecated. Please use find_element(by=By.CLASS_NAME, value=name) instead\u001b[39m\u001b[39m\"\u001b[39m)\n\u001b[1;32m--> <a href='file:///c%3A/Users/Alberto/Anaconda3/envs/clase/lib/site-packages/selenium/webdriver/remote/webelement.py?line=446'>447</a>\u001b[0m \u001b[39mreturn\u001b[39;00m \u001b[39mself\u001b[39;49m\u001b[39m.\u001b[39;49mfind_element(by\u001b[39m=\u001b[39;49mBy\u001b[39m.\u001b[39;49mCLASS_NAME, value\u001b[39m=\u001b[39;49mname)\n",
      "File \u001b[1;32m~\\Anaconda3\\envs\\clase\\lib\\site-packages\\selenium\\webdriver\\remote\\webelement.py:735\u001b[0m, in \u001b[0;36mWebElement.find_element\u001b[1;34m(self, by, value)\u001b[0m\n\u001b[0;32m    <a href='file:///c%3A/Users/Alberto/Anaconda3/envs/clase/lib/site-packages/selenium/webdriver/remote/webelement.py?line=731'>732</a>\u001b[0m     by \u001b[39m=\u001b[39m By\u001b[39m.\u001b[39mCSS_SELECTOR\n\u001b[0;32m    <a href='file:///c%3A/Users/Alberto/Anaconda3/envs/clase/lib/site-packages/selenium/webdriver/remote/webelement.py?line=732'>733</a>\u001b[0m     value \u001b[39m=\u001b[39m \u001b[39m'\u001b[39m\u001b[39m[name=\u001b[39m\u001b[39m\"\u001b[39m\u001b[39m%s\u001b[39;00m\u001b[39m\"\u001b[39m\u001b[39m]\u001b[39m\u001b[39m'\u001b[39m \u001b[39m%\u001b[39m value\n\u001b[1;32m--> <a href='file:///c%3A/Users/Alberto/Anaconda3/envs/clase/lib/site-packages/selenium/webdriver/remote/webelement.py?line=734'>735</a>\u001b[0m \u001b[39mreturn\u001b[39;00m \u001b[39mself\u001b[39;49m\u001b[39m.\u001b[39;49m_execute(Command\u001b[39m.\u001b[39;49mFIND_CHILD_ELEMENT,\n\u001b[0;32m    <a href='file:///c%3A/Users/Alberto/Anaconda3/envs/clase/lib/site-packages/selenium/webdriver/remote/webelement.py?line=735'>736</a>\u001b[0m                      {\u001b[39m\"\u001b[39;49m\u001b[39musing\u001b[39;49m\u001b[39m\"\u001b[39;49m: by, \u001b[39m\"\u001b[39;49m\u001b[39mvalue\u001b[39;49m\u001b[39m\"\u001b[39;49m: value})[\u001b[39m'\u001b[39m\u001b[39mvalue\u001b[39m\u001b[39m'\u001b[39m]\n",
      "File \u001b[1;32m~\\Anaconda3\\envs\\clase\\lib\\site-packages\\selenium\\webdriver\\remote\\webelement.py:710\u001b[0m, in \u001b[0;36mWebElement._execute\u001b[1;34m(self, command, params)\u001b[0m\n\u001b[0;32m    <a href='file:///c%3A/Users/Alberto/Anaconda3/envs/clase/lib/site-packages/selenium/webdriver/remote/webelement.py?line=707'>708</a>\u001b[0m     params \u001b[39m=\u001b[39m {}\n\u001b[0;32m    <a href='file:///c%3A/Users/Alberto/Anaconda3/envs/clase/lib/site-packages/selenium/webdriver/remote/webelement.py?line=708'>709</a>\u001b[0m params[\u001b[39m'\u001b[39m\u001b[39mid\u001b[39m\u001b[39m'\u001b[39m] \u001b[39m=\u001b[39m \u001b[39mself\u001b[39m\u001b[39m.\u001b[39m_id\n\u001b[1;32m--> <a href='file:///c%3A/Users/Alberto/Anaconda3/envs/clase/lib/site-packages/selenium/webdriver/remote/webelement.py?line=709'>710</a>\u001b[0m \u001b[39mreturn\u001b[39;00m \u001b[39mself\u001b[39;49m\u001b[39m.\u001b[39;49m_parent\u001b[39m.\u001b[39;49mexecute(command, params)\n",
      "File \u001b[1;32m~\\Anaconda3\\envs\\clase\\lib\\site-packages\\selenium\\webdriver\\remote\\webdriver.py:425\u001b[0m, in \u001b[0;36mWebDriver.execute\u001b[1;34m(self, driver_command, params)\u001b[0m\n\u001b[0;32m    <a href='file:///c%3A/Users/Alberto/Anaconda3/envs/clase/lib/site-packages/selenium/webdriver/remote/webdriver.py?line=422'>423</a>\u001b[0m response \u001b[39m=\u001b[39m \u001b[39mself\u001b[39m\u001b[39m.\u001b[39mcommand_executor\u001b[39m.\u001b[39mexecute(driver_command, params)\n\u001b[0;32m    <a href='file:///c%3A/Users/Alberto/Anaconda3/envs/clase/lib/site-packages/selenium/webdriver/remote/webdriver.py?line=423'>424</a>\u001b[0m \u001b[39mif\u001b[39;00m response:\n\u001b[1;32m--> <a href='file:///c%3A/Users/Alberto/Anaconda3/envs/clase/lib/site-packages/selenium/webdriver/remote/webdriver.py?line=424'>425</a>\u001b[0m     \u001b[39mself\u001b[39;49m\u001b[39m.\u001b[39;49merror_handler\u001b[39m.\u001b[39;49mcheck_response(response)\n\u001b[0;32m    <a href='file:///c%3A/Users/Alberto/Anaconda3/envs/clase/lib/site-packages/selenium/webdriver/remote/webdriver.py?line=425'>426</a>\u001b[0m     response[\u001b[39m'\u001b[39m\u001b[39mvalue\u001b[39m\u001b[39m'\u001b[39m] \u001b[39m=\u001b[39m \u001b[39mself\u001b[39m\u001b[39m.\u001b[39m_unwrap_value(\n\u001b[0;32m    <a href='file:///c%3A/Users/Alberto/Anaconda3/envs/clase/lib/site-packages/selenium/webdriver/remote/webdriver.py?line=426'>427</a>\u001b[0m         response\u001b[39m.\u001b[39mget(\u001b[39m'\u001b[39m\u001b[39mvalue\u001b[39m\u001b[39m'\u001b[39m, \u001b[39mNone\u001b[39;00m))\n\u001b[0;32m    <a href='file:///c%3A/Users/Alberto/Anaconda3/envs/clase/lib/site-packages/selenium/webdriver/remote/webdriver.py?line=427'>428</a>\u001b[0m     \u001b[39mreturn\u001b[39;00m response\n",
      "File \u001b[1;32m~\\Anaconda3\\envs\\clase\\lib\\site-packages\\selenium\\webdriver\\remote\\errorhandler.py:247\u001b[0m, in \u001b[0;36mErrorHandler.check_response\u001b[1;34m(self, response)\u001b[0m\n\u001b[0;32m    <a href='file:///c%3A/Users/Alberto/Anaconda3/envs/clase/lib/site-packages/selenium/webdriver/remote/errorhandler.py?line=244'>245</a>\u001b[0m         alert_text \u001b[39m=\u001b[39m value[\u001b[39m'\u001b[39m\u001b[39malert\u001b[39m\u001b[39m'\u001b[39m]\u001b[39m.\u001b[39mget(\u001b[39m'\u001b[39m\u001b[39mtext\u001b[39m\u001b[39m'\u001b[39m)\n\u001b[0;32m    <a href='file:///c%3A/Users/Alberto/Anaconda3/envs/clase/lib/site-packages/selenium/webdriver/remote/errorhandler.py?line=245'>246</a>\u001b[0m     \u001b[39mraise\u001b[39;00m exception_class(message, screen, stacktrace, alert_text)  \u001b[39m# type: ignore[call-arg]  # mypy is not smart enough here\u001b[39;00m\n\u001b[1;32m--> <a href='file:///c%3A/Users/Alberto/Anaconda3/envs/clase/lib/site-packages/selenium/webdriver/remote/errorhandler.py?line=246'>247</a>\u001b[0m \u001b[39mraise\u001b[39;00m exception_class(message, screen, stacktrace)\n",
      "\u001b[1;31mNoSuchElementException\u001b[0m: Message: no such element: Unable to locate element: {\"method\":\"css selector\",\"selector\":\".central-featured-lang lang1\"}\n  (Session info: chrome=100.0.4896.75)\nStacktrace:\nBacktrace:\n\tOrdinal0 [0x00497413+2389011]\n\tOrdinal0 [0x00429F61+1941345]\n\tOrdinal0 [0x0031C658+837208]\n\tOrdinal0 [0x003491DD+1020381]\n\tOrdinal0 [0x0034949B+1021083]\n\tOrdinal0 [0x0033F9F1+981489]\n\tOrdinal0 [0x00364194+1130900]\n\tOrdinal0 [0x0033F974+981364]\n\tOrdinal0 [0x00364364+1131364]\n\tOrdinal0 [0x00374302+1196802]\n\tOrdinal0 [0x00363F66+1130342]\n\tOrdinal0 [0x0033E546+976198]\n\tOrdinal0 [0x0033F456+980054]\n\tGetHandleVerifier [0x00649632+1727522]\n\tGetHandleVerifier [0x006FBA4D+2457661]\n\tGetHandleVerifier [0x0052EB81+569713]\n\tGetHandleVerifier [0x0052DD76+566118]\n\tOrdinal0 [0x00430B2B+1968939]\n\tOrdinal0 [0x00435988+1989000]\n\tOrdinal0 [0x00435A75+1989237]\n\tOrdinal0 [0x0043ECB1+2026673]\n\tBaseThreadInitThunk [0x772DFA29+25]\n\tRtlGetAppContainerNamedObjectPath [0x77D57A7E+286]\n\tRtlGetAppContainerNamedObjectPath [0x77D57A4E+238]\n"
     ]
    }
   ],
   "source": [
    "'''\n",
    "div=driver.find_element_by_xpath('/html/body/div[2]')\n",
    "while n<10:\n",
    "    div.find_element_by_class_name(f'central-featured-lang lang{n}')\n",
    "    n+=1\n",
    "'''"
   ]
  },
  {
   "cell_type": "markdown",
   "metadata": {},
   "source": [
    "#### A list with the different kind of datasets available in data.gov.uk "
   ]
  },
  {
   "cell_type": "code",
   "execution_count": 85,
   "metadata": {},
   "outputs": [],
   "source": [
    "# This is the url you will scrape in this exercise\n",
    "url = 'https://data.gov.uk/'\n",
    "driver.get(url)"
   ]
  },
  {
   "cell_type": "code",
   "execution_count": 86,
   "metadata": {},
   "outputs": [],
   "source": [
    "#your code "
   ]
  },
  {
   "cell_type": "markdown",
   "metadata": {},
   "source": [
    "#### Top 10 languages by number of native speakers stored in a Pandas Dataframe"
   ]
  },
  {
   "cell_type": "code",
   "execution_count": 5,
   "metadata": {},
   "outputs": [],
   "source": [
    "# This is the url you will scrape in this exercise\n",
    "url = 'https://en.wikipedia.org/wiki/List_of_languages_by_number_of_native_speakers'\n",
    "driver.get(url)"
   ]
  },
  {
   "cell_type": "code",
   "execution_count": 12,
   "metadata": {},
   "outputs": [
    {
     "name": "stderr",
     "output_type": "stream",
     "text": [
      "C:\\Users\\Alberto\\AppData\\Local\\Temp\\ipykernel_15180\\2776485278.py:2: DeprecationWarning: find_element_by_xpath is deprecated. Please use find_element(by=By.XPATH, value=xpath) instead\n",
      "  tabla=driver.find_element_by_xpath('/html/body/div[3]/div[3]/div[5]/div[1]/table[2]/tbody')\n",
      "C:\\Users\\Alberto\\Anaconda3\\envs\\clase\\lib\\site-packages\\selenium\\webdriver\\remote\\webelement.py:359: UserWarning: find_elements_by_tag_name is deprecated. Please use find_elements(by=By.TAG_NAME, value=name) instead\n",
      "  warnings.warn(\"find_elements_by_tag_name is deprecated. Please use find_elements(by=By.TAG_NAME, value=name) instead\")\n"
     ]
    }
   ],
   "source": [
    "#your code\n",
    "tabla=driver.find_element_by_xpath('/html/body/div[3]/div[3]/div[5]/div[1]/table[2]/tbody')\n",
    "\n",
    "\n",
    "lineas=tabla.find_elements_by_tag_name('tr')\n",
    "elemento=[x.find_elements_by_tag_name('td') for x in lineas]\n",
    "for x in elemento:\n",
    "    for y in x:\n",
    "       y=y.text\n",
    "\n",
    "    \n",
    "\n",
    "\n",
    "\n",
    "    \n",
    "    \n",
    "\n",
    "\n",
    "\n",
    "\n",
    "\n",
    "\n",
    "\n",
    "\n",
    "\n",
    "\n",
    "\n",
    "\n",
    "\n",
    "\n",
    "\n"
   ]
  },
  {
   "cell_type": "code",
   "execution_count": 15,
   "metadata": {},
   "outputs": [
    {
     "data": {
      "text/html": [
       "<div>\n",
       "<style scoped>\n",
       "    .dataframe tbody tr th:only-of-type {\n",
       "        vertical-align: middle;\n",
       "    }\n",
       "\n",
       "    .dataframe tbody tr th {\n",
       "        vertical-align: top;\n",
       "    }\n",
       "\n",
       "    .dataframe thead th {\n",
       "        text-align: right;\n",
       "    }\n",
       "</style>\n",
       "<table border=\"1\" class=\"dataframe\">\n",
       "  <thead>\n",
       "    <tr style=\"text-align: right;\">\n",
       "      <th></th>\n",
       "      <th>0</th>\n",
       "      <th>1</th>\n",
       "      <th>2</th>\n",
       "      <th>3</th>\n",
       "      <th>4</th>\n",
       "      <th>5</th>\n",
       "    </tr>\n",
       "  </thead>\n",
       "  <tbody>\n",
       "    <tr>\n",
       "      <th>0</th>\n",
       "      <td>&lt;selenium.webdriver.remote.webelement.WebEleme...</td>\n",
       "      <td>&lt;selenium.webdriver.remote.webelement.WebEleme...</td>\n",
       "      <td>&lt;selenium.webdriver.remote.webelement.WebEleme...</td>\n",
       "      <td>&lt;selenium.webdriver.remote.webelement.WebEleme...</td>\n",
       "      <td>&lt;selenium.webdriver.remote.webelement.WebEleme...</td>\n",
       "      <td>&lt;selenium.webdriver.remote.webelement.WebEleme...</td>\n",
       "    </tr>\n",
       "    <tr>\n",
       "      <th>1</th>\n",
       "      <td>&lt;selenium.webdriver.remote.webelement.WebEleme...</td>\n",
       "      <td>&lt;selenium.webdriver.remote.webelement.WebEleme...</td>\n",
       "      <td>&lt;selenium.webdriver.remote.webelement.WebEleme...</td>\n",
       "      <td>&lt;selenium.webdriver.remote.webelement.WebEleme...</td>\n",
       "      <td>&lt;selenium.webdriver.remote.webelement.WebEleme...</td>\n",
       "      <td>&lt;selenium.webdriver.remote.webelement.WebEleme...</td>\n",
       "    </tr>\n",
       "    <tr>\n",
       "      <th>2</th>\n",
       "      <td>&lt;selenium.webdriver.remote.webelement.WebEleme...</td>\n",
       "      <td>&lt;selenium.webdriver.remote.webelement.WebEleme...</td>\n",
       "      <td>&lt;selenium.webdriver.remote.webelement.WebEleme...</td>\n",
       "      <td>&lt;selenium.webdriver.remote.webelement.WebEleme...</td>\n",
       "      <td>&lt;selenium.webdriver.remote.webelement.WebEleme...</td>\n",
       "      <td>&lt;selenium.webdriver.remote.webelement.WebEleme...</td>\n",
       "    </tr>\n",
       "    <tr>\n",
       "      <th>3</th>\n",
       "      <td>&lt;selenium.webdriver.remote.webelement.WebEleme...</td>\n",
       "      <td>&lt;selenium.webdriver.remote.webelement.WebEleme...</td>\n",
       "      <td>&lt;selenium.webdriver.remote.webelement.WebEleme...</td>\n",
       "      <td>&lt;selenium.webdriver.remote.webelement.WebEleme...</td>\n",
       "      <td>&lt;selenium.webdriver.remote.webelement.WebEleme...</td>\n",
       "      <td>&lt;selenium.webdriver.remote.webelement.WebEleme...</td>\n",
       "    </tr>\n",
       "    <tr>\n",
       "      <th>4</th>\n",
       "      <td>&lt;selenium.webdriver.remote.webelement.WebEleme...</td>\n",
       "      <td>&lt;selenium.webdriver.remote.webelement.WebEleme...</td>\n",
       "      <td>&lt;selenium.webdriver.remote.webelement.WebEleme...</td>\n",
       "      <td>&lt;selenium.webdriver.remote.webelement.WebEleme...</td>\n",
       "      <td>&lt;selenium.webdriver.remote.webelement.WebEleme...</td>\n",
       "      <td>&lt;selenium.webdriver.remote.webelement.WebEleme...</td>\n",
       "    </tr>\n",
       "    <tr>\n",
       "      <th>...</th>\n",
       "      <td>...</td>\n",
       "      <td>...</td>\n",
       "      <td>...</td>\n",
       "      <td>...</td>\n",
       "      <td>...</td>\n",
       "      <td>...</td>\n",
       "    </tr>\n",
       "    <tr>\n",
       "      <th>86</th>\n",
       "      <td>&lt;selenium.webdriver.remote.webelement.WebEleme...</td>\n",
       "      <td>&lt;selenium.webdriver.remote.webelement.WebEleme...</td>\n",
       "      <td>&lt;selenium.webdriver.remote.webelement.WebEleme...</td>\n",
       "      <td>&lt;selenium.webdriver.remote.webelement.WebEleme...</td>\n",
       "      <td>&lt;selenium.webdriver.remote.webelement.WebEleme...</td>\n",
       "      <td>&lt;selenium.webdriver.remote.webelement.WebEleme...</td>\n",
       "    </tr>\n",
       "    <tr>\n",
       "      <th>87</th>\n",
       "      <td>&lt;selenium.webdriver.remote.webelement.WebEleme...</td>\n",
       "      <td>&lt;selenium.webdriver.remote.webelement.WebEleme...</td>\n",
       "      <td>&lt;selenium.webdriver.remote.webelement.WebEleme...</td>\n",
       "      <td>&lt;selenium.webdriver.remote.webelement.WebEleme...</td>\n",
       "      <td>&lt;selenium.webdriver.remote.webelement.WebEleme...</td>\n",
       "      <td>&lt;selenium.webdriver.remote.webelement.WebEleme...</td>\n",
       "    </tr>\n",
       "    <tr>\n",
       "      <th>88</th>\n",
       "      <td>&lt;selenium.webdriver.remote.webelement.WebEleme...</td>\n",
       "      <td>&lt;selenium.webdriver.remote.webelement.WebEleme...</td>\n",
       "      <td>&lt;selenium.webdriver.remote.webelement.WebEleme...</td>\n",
       "      <td>&lt;selenium.webdriver.remote.webelement.WebEleme...</td>\n",
       "      <td>&lt;selenium.webdriver.remote.webelement.WebEleme...</td>\n",
       "      <td>&lt;selenium.webdriver.remote.webelement.WebEleme...</td>\n",
       "    </tr>\n",
       "    <tr>\n",
       "      <th>89</th>\n",
       "      <td>&lt;selenium.webdriver.remote.webelement.WebEleme...</td>\n",
       "      <td>&lt;selenium.webdriver.remote.webelement.WebEleme...</td>\n",
       "      <td>&lt;selenium.webdriver.remote.webelement.WebEleme...</td>\n",
       "      <td>&lt;selenium.webdriver.remote.webelement.WebEleme...</td>\n",
       "      <td>&lt;selenium.webdriver.remote.webelement.WebEleme...</td>\n",
       "      <td>&lt;selenium.webdriver.remote.webelement.WebEleme...</td>\n",
       "    </tr>\n",
       "    <tr>\n",
       "      <th>90</th>\n",
       "      <td>&lt;selenium.webdriver.remote.webelement.WebEleme...</td>\n",
       "      <td>&lt;selenium.webdriver.remote.webelement.WebEleme...</td>\n",
       "      <td>&lt;selenium.webdriver.remote.webelement.WebEleme...</td>\n",
       "      <td>&lt;selenium.webdriver.remote.webelement.WebEleme...</td>\n",
       "      <td>&lt;selenium.webdriver.remote.webelement.WebEleme...</td>\n",
       "      <td>&lt;selenium.webdriver.remote.webelement.WebEleme...</td>\n",
       "    </tr>\n",
       "  </tbody>\n",
       "</table>\n",
       "<p>91 rows × 6 columns</p>\n",
       "</div>"
      ],
      "text/plain": [
       "                                                    0  \\\n",
       "0   <selenium.webdriver.remote.webelement.WebEleme...   \n",
       "1   <selenium.webdriver.remote.webelement.WebEleme...   \n",
       "2   <selenium.webdriver.remote.webelement.WebEleme...   \n",
       "3   <selenium.webdriver.remote.webelement.WebEleme...   \n",
       "4   <selenium.webdriver.remote.webelement.WebEleme...   \n",
       "..                                                ...   \n",
       "86  <selenium.webdriver.remote.webelement.WebEleme...   \n",
       "87  <selenium.webdriver.remote.webelement.WebEleme...   \n",
       "88  <selenium.webdriver.remote.webelement.WebEleme...   \n",
       "89  <selenium.webdriver.remote.webelement.WebEleme...   \n",
       "90  <selenium.webdriver.remote.webelement.WebEleme...   \n",
       "\n",
       "                                                    1  \\\n",
       "0   <selenium.webdriver.remote.webelement.WebEleme...   \n",
       "1   <selenium.webdriver.remote.webelement.WebEleme...   \n",
       "2   <selenium.webdriver.remote.webelement.WebEleme...   \n",
       "3   <selenium.webdriver.remote.webelement.WebEleme...   \n",
       "4   <selenium.webdriver.remote.webelement.WebEleme...   \n",
       "..                                                ...   \n",
       "86  <selenium.webdriver.remote.webelement.WebEleme...   \n",
       "87  <selenium.webdriver.remote.webelement.WebEleme...   \n",
       "88  <selenium.webdriver.remote.webelement.WebEleme...   \n",
       "89  <selenium.webdriver.remote.webelement.WebEleme...   \n",
       "90  <selenium.webdriver.remote.webelement.WebEleme...   \n",
       "\n",
       "                                                    2  \\\n",
       "0   <selenium.webdriver.remote.webelement.WebEleme...   \n",
       "1   <selenium.webdriver.remote.webelement.WebEleme...   \n",
       "2   <selenium.webdriver.remote.webelement.WebEleme...   \n",
       "3   <selenium.webdriver.remote.webelement.WebEleme...   \n",
       "4   <selenium.webdriver.remote.webelement.WebEleme...   \n",
       "..                                                ...   \n",
       "86  <selenium.webdriver.remote.webelement.WebEleme...   \n",
       "87  <selenium.webdriver.remote.webelement.WebEleme...   \n",
       "88  <selenium.webdriver.remote.webelement.WebEleme...   \n",
       "89  <selenium.webdriver.remote.webelement.WebEleme...   \n",
       "90  <selenium.webdriver.remote.webelement.WebEleme...   \n",
       "\n",
       "                                                    3  \\\n",
       "0   <selenium.webdriver.remote.webelement.WebEleme...   \n",
       "1   <selenium.webdriver.remote.webelement.WebEleme...   \n",
       "2   <selenium.webdriver.remote.webelement.WebEleme...   \n",
       "3   <selenium.webdriver.remote.webelement.WebEleme...   \n",
       "4   <selenium.webdriver.remote.webelement.WebEleme...   \n",
       "..                                                ...   \n",
       "86  <selenium.webdriver.remote.webelement.WebEleme...   \n",
       "87  <selenium.webdriver.remote.webelement.WebEleme...   \n",
       "88  <selenium.webdriver.remote.webelement.WebEleme...   \n",
       "89  <selenium.webdriver.remote.webelement.WebEleme...   \n",
       "90  <selenium.webdriver.remote.webelement.WebEleme...   \n",
       "\n",
       "                                                    4  \\\n",
       "0   <selenium.webdriver.remote.webelement.WebEleme...   \n",
       "1   <selenium.webdriver.remote.webelement.WebEleme...   \n",
       "2   <selenium.webdriver.remote.webelement.WebEleme...   \n",
       "3   <selenium.webdriver.remote.webelement.WebEleme...   \n",
       "4   <selenium.webdriver.remote.webelement.WebEleme...   \n",
       "..                                                ...   \n",
       "86  <selenium.webdriver.remote.webelement.WebEleme...   \n",
       "87  <selenium.webdriver.remote.webelement.WebEleme...   \n",
       "88  <selenium.webdriver.remote.webelement.WebEleme...   \n",
       "89  <selenium.webdriver.remote.webelement.WebEleme...   \n",
       "90  <selenium.webdriver.remote.webelement.WebEleme...   \n",
       "\n",
       "                                                    5  \n",
       "0   <selenium.webdriver.remote.webelement.WebEleme...  \n",
       "1   <selenium.webdriver.remote.webelement.WebEleme...  \n",
       "2   <selenium.webdriver.remote.webelement.WebEleme...  \n",
       "3   <selenium.webdriver.remote.webelement.WebEleme...  \n",
       "4   <selenium.webdriver.remote.webelement.WebEleme...  \n",
       "..                                                ...  \n",
       "86  <selenium.webdriver.remote.webelement.WebEleme...  \n",
       "87  <selenium.webdriver.remote.webelement.WebEleme...  \n",
       "88  <selenium.webdriver.remote.webelement.WebEleme...  \n",
       "89  <selenium.webdriver.remote.webelement.WebEleme...  \n",
       "90  <selenium.webdriver.remote.webelement.WebEleme...  \n",
       "\n",
       "[91 rows x 6 columns]"
      ]
     },
     "execution_count": 15,
     "metadata": {},
     "output_type": "execute_result"
    }
   ],
   "source": [
    "import pandas as pd\n",
    "df=pd.DataFrame(elemento)\n",
    "df"
   ]
  },
  {
   "cell_type": "markdown",
   "metadata": {},
   "source": [
    "### BONUS QUESTIONS"
   ]
  },
  {
   "cell_type": "markdown",
   "metadata": {},
   "source": [
    "#### Scrape a certain number of tweets of a given Twitter account."
   ]
  },
  {
   "cell_type": "code",
   "execution_count": 89,
   "metadata": {},
   "outputs": [],
   "source": [
    "# This is the url you will scrape in this exercise \n",
    "# You will need to add the account credentials to this url\n",
    "url = 'https://twitter.com/'"
   ]
  },
  {
   "cell_type": "code",
   "execution_count": 90,
   "metadata": {},
   "outputs": [],
   "source": [
    "# your code"
   ]
  },
  {
   "cell_type": "markdown",
   "metadata": {},
   "source": [
    "#### IMDB's Top 250 data (movie name, Initial release, director name and stars) as a pandas dataframe"
   ]
  },
  {
   "cell_type": "code",
   "execution_count": 91,
   "metadata": {},
   "outputs": [],
   "source": [
    "# This is the url you will scrape in this exercise \n",
    "url = 'https://www.imdb.com/chart/top'"
   ]
  },
  {
   "cell_type": "code",
   "execution_count": 92,
   "metadata": {},
   "outputs": [],
   "source": [
    "# your code"
   ]
  },
  {
   "cell_type": "markdown",
   "metadata": {},
   "source": [
    "#### Movie name, year and a brief summary of the top 10 random movies (IMDB) as a pandas dataframe."
   ]
  },
  {
   "cell_type": "code",
   "execution_count": 93,
   "metadata": {},
   "outputs": [],
   "source": [
    "#This is the url you will scrape in this exercise\n",
    "url = 'http://www.imdb.com/chart/top'"
   ]
  },
  {
   "cell_type": "code",
   "execution_count": 94,
   "metadata": {},
   "outputs": [],
   "source": [
    "#your code"
   ]
  },
  {
   "cell_type": "markdown",
   "metadata": {},
   "source": [
    "#### Find the live weather report (temperature, wind speed, description and weather) of a given city."
   ]
  },
  {
   "cell_type": "code",
   "execution_count": 95,
   "metadata": {},
   "outputs": [],
   "source": [
    "#https://openweathermap.org/current\n",
    "city = city=input('Enter the city:')\n",
    "url = 'http://api.openweathermap.org/data/2.5/weather?'+'q='+city+'&APPID=b35975e18dc93725acb092f7272cc6b8&units=metric'"
   ]
  },
  {
   "cell_type": "code",
   "execution_count": 96,
   "metadata": {},
   "outputs": [],
   "source": [
    "# your code"
   ]
  },
  {
   "cell_type": "markdown",
   "metadata": {},
   "source": [
    "#### Book name,price and stock availability as a pandas dataframe."
   ]
  },
  {
   "cell_type": "code",
   "execution_count": 97,
   "metadata": {},
   "outputs": [],
   "source": [
    "# This is the url you will scrape in this exercise. \n",
    "# It is a fictional bookstore created to be scraped. \n",
    "url = 'http://books.toscrape.com/'"
   ]
  },
  {
   "cell_type": "code",
   "execution_count": 98,
   "metadata": {},
   "outputs": [],
   "source": [
    "#your code"
   ]
  }
 ],
 "metadata": {
  "kernelspec": {
   "display_name": "Python 3",
   "language": "python",
   "name": "python3"
  },
  "language_info": {
   "codemirror_mode": {
    "name": "ipython",
    "version": 3
   },
   "file_extension": ".py",
   "mimetype": "text/x-python",
   "name": "python",
   "nbconvert_exporter": "python",
   "pygments_lexer": "ipython3",
   "version": "3.9.7"
  }
 },
 "nbformat": 4,
 "nbformat_minor": 2
}
